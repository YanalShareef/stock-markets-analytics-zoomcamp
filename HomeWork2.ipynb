{
 "cells": [
  {
   "cell_type": "code",
   "execution_count": 1,
   "metadata": {},
   "outputs": [],
   "source": [
    "# IMPORTS\n",
    "import numpy as np\n",
    "import pandas as pd\n",
    "\n",
    "#Fin Data Sources\n",
    "import yfinance as yf\n",
    "import pandas_datareader as pdr\n",
    "\n",
    "#Data viz\n",
    "import plotly.graph_objs as go\n",
    "import plotly.express as px\n",
    "\n",
    "import time\n",
    "from datetime import date\n",
    "\n",
    "# for graphs\n",
    "import matplotlib.pyplot as plt\n",
    "\n",
    "import requests\n"
   ]
  },
  {
   "cell_type": "code",
   "execution_count": 2,
   "metadata": {},
   "outputs": [
    {
     "name": "stderr",
     "output_type": "stream",
     "text": [
      "/tmp/ipykernel_451502/806584604.py:8: FutureWarning: Passing literal html to 'read_html' is deprecated and will be removed in a future version. To read from a literal string, wrap it in a 'StringIO' object.\n",
      "  ipo_dfs = pd.read_html(response.text)\n"
     ]
    }
   ],
   "source": [
    "\n",
    "headers = {\n",
    "    'User-Agent': 'Mozilla/5.0 (Windows NT 10.0; Win64; x64) AppleWebKit/537.36 (KHTML, like Gecko) Chrome/58.0.3029.110 Safari/537.3',\n",
    "}\n",
    "\n",
    "url = \"https://stockanalysis.com/ipos/filings/\"\n",
    "response = requests.get(url, headers=headers)\n",
    "\n",
    "ipo_dfs = pd.read_html(response.text)"
   ]
  },
  {
   "cell_type": "markdown",
   "metadata": {},
   "source": [
    "## Question 1 "
   ]
  },
  {
   "cell_type": "code",
   "execution_count": 3,
   "metadata": {},
   "outputs": [
    {
     "data": {
      "text/html": [
       "<div>\n",
       "<style scoped>\n",
       "    .dataframe tbody tr th:only-of-type {\n",
       "        vertical-align: middle;\n",
       "    }\n",
       "\n",
       "    .dataframe tbody tr th {\n",
       "        vertical-align: top;\n",
       "    }\n",
       "\n",
       "    .dataframe thead th {\n",
       "        text-align: right;\n",
       "    }\n",
       "</style>\n",
       "<table border=\"1\" class=\"dataframe\">\n",
       "  <thead>\n",
       "    <tr style=\"text-align: right;\">\n",
       "      <th></th>\n",
       "      <th>Filing Date</th>\n",
       "      <th>Symbol</th>\n",
       "      <th>Company Name</th>\n",
       "      <th>Price Range</th>\n",
       "      <th>Shares Offered</th>\n",
       "    </tr>\n",
       "  </thead>\n",
       "  <tbody>\n",
       "    <tr>\n",
       "      <th>0</th>\n",
       "      <td>May 3, 2024</td>\n",
       "      <td>TBN</td>\n",
       "      <td>Tamboran Resources Corporation</td>\n",
       "      <td>-</td>\n",
       "      <td>-</td>\n",
       "    </tr>\n",
       "    <tr>\n",
       "      <th>1</th>\n",
       "      <td>Apr 29, 2024</td>\n",
       "      <td>HWEC</td>\n",
       "      <td>HW Electro Co., Ltd.</td>\n",
       "      <td>$3.00</td>\n",
       "      <td>3750000</td>\n",
       "    </tr>\n",
       "    <tr>\n",
       "      <th>2</th>\n",
       "      <td>Apr 29, 2024</td>\n",
       "      <td>DTSQ</td>\n",
       "      <td>DT Cloud Star Acquisition Corporation</td>\n",
       "      <td>$10.00</td>\n",
       "      <td>6000000</td>\n",
       "    </tr>\n",
       "    <tr>\n",
       "      <th>3</th>\n",
       "      <td>Apr 26, 2024</td>\n",
       "      <td>EURK</td>\n",
       "      <td>Eureka Acquisition Corp</td>\n",
       "      <td>$10.00</td>\n",
       "      <td>5000000</td>\n",
       "    </tr>\n",
       "    <tr>\n",
       "      <th>4</th>\n",
       "      <td>Apr 26, 2024</td>\n",
       "      <td>HDL</td>\n",
       "      <td>Super Hi International Holding Ltd.</td>\n",
       "      <td>-</td>\n",
       "      <td>-</td>\n",
       "    </tr>\n",
       "  </tbody>\n",
       "</table>\n",
       "</div>"
      ],
      "text/plain": [
       "    Filing Date Symbol                           Company Name Price Range  \\\n",
       "0   May 3, 2024    TBN         Tamboran Resources Corporation           -   \n",
       "1  Apr 29, 2024   HWEC                   HW Electro Co., Ltd.       $3.00   \n",
       "2  Apr 29, 2024   DTSQ  DT Cloud Star Acquisition Corporation      $10.00   \n",
       "3  Apr 26, 2024   EURK                Eureka Acquisition Corp      $10.00   \n",
       "4  Apr 26, 2024    HDL    Super Hi International Holding Ltd.           -   \n",
       "\n",
       "  Shares Offered  \n",
       "0              -  \n",
       "1        3750000  \n",
       "2        6000000  \n",
       "3        5000000  \n",
       "4              -  "
      ]
     },
     "execution_count": 3,
     "metadata": {},
     "output_type": "execute_result"
    }
   ],
   "source": [
    "ipo_df = ipo_dfs[0].copy()\n",
    "ipo_df.head()"
   ]
  },
  {
   "cell_type": "code",
   "execution_count": 4,
   "metadata": {},
   "outputs": [
    {
     "name": "stdout",
     "output_type": "stream",
     "text": [
      "<class 'pandas.core.frame.DataFrame'>\n",
      "RangeIndex: 326 entries, 0 to 325\n",
      "Data columns (total 5 columns):\n",
      " #   Column          Non-Null Count  Dtype \n",
      "---  ------          --------------  ----- \n",
      " 0   Filing Date     326 non-null    object\n",
      " 1   Symbol          326 non-null    object\n",
      " 2   Company Name    326 non-null    object\n",
      " 3   Price Range     326 non-null    object\n",
      " 4   Shares Offered  326 non-null    object\n",
      "dtypes: object(5)\n",
      "memory usage: 12.9+ KB\n"
     ]
    }
   ],
   "source": [
    "ipo_df.info()"
   ]
  },
  {
   "cell_type": "code",
   "execution_count": 5,
   "metadata": {},
   "outputs": [
    {
     "name": "stderr",
     "output_type": "stream",
     "text": [
      "/home/zbook/anaconda3/envs/myenv/lib/python3.11/site-packages/numpy/core/fromnumeric.py:3464: RuntimeWarning: Mean of empty slice.\n",
      "  return _methods._mean(a, axis=axis, dtype=dtype,\n",
      "/home/zbook/anaconda3/envs/myenv/lib/python3.11/site-packages/numpy/core/_methods.py:192: RuntimeWarning: invalid value encountered in scalar divide\n",
      "  ret = ret.dtype.type(ret / rcount)\n"
     ]
    },
    {
     "data": {
      "text/html": [
       "<div>\n",
       "<style scoped>\n",
       "    .dataframe tbody tr th:only-of-type {\n",
       "        vertical-align: middle;\n",
       "    }\n",
       "\n",
       "    .dataframe tbody tr th {\n",
       "        vertical-align: top;\n",
       "    }\n",
       "\n",
       "    .dataframe thead th {\n",
       "        text-align: right;\n",
       "    }\n",
       "</style>\n",
       "<table border=\"1\" class=\"dataframe\">\n",
       "  <thead>\n",
       "    <tr style=\"text-align: right;\">\n",
       "      <th></th>\n",
       "      <th>filing_date</th>\n",
       "      <th>symbol</th>\n",
       "      <th>company_name</th>\n",
       "      <th>price_range</th>\n",
       "      <th>shares_offered</th>\n",
       "      <th>price_ranges_mean</th>\n",
       "      <th>shares_offered_value</th>\n",
       "    </tr>\n",
       "  </thead>\n",
       "  <tbody>\n",
       "    <tr>\n",
       "      <th>0</th>\n",
       "      <td>2024-05-03</td>\n",
       "      <td>TBN</td>\n",
       "      <td>Tamboran Resources Corporation</td>\n",
       "      <td>-</td>\n",
       "      <td>NaN</td>\n",
       "      <td>NaN</td>\n",
       "      <td>NaN</td>\n",
       "    </tr>\n",
       "    <tr>\n",
       "      <th>1</th>\n",
       "      <td>2024-04-29</td>\n",
       "      <td>HWEC</td>\n",
       "      <td>HW Electro Co., Ltd.</td>\n",
       "      <td>$3.00</td>\n",
       "      <td>3750000.0</td>\n",
       "      <td>3.00</td>\n",
       "      <td>11250000.0</td>\n",
       "    </tr>\n",
       "    <tr>\n",
       "      <th>2</th>\n",
       "      <td>2024-04-29</td>\n",
       "      <td>DTSQ</td>\n",
       "      <td>DT Cloud Star Acquisition Corporation</td>\n",
       "      <td>$10.00</td>\n",
       "      <td>6000000.0</td>\n",
       "      <td>10.00</td>\n",
       "      <td>60000000.0</td>\n",
       "    </tr>\n",
       "    <tr>\n",
       "      <th>3</th>\n",
       "      <td>2024-04-26</td>\n",
       "      <td>EURK</td>\n",
       "      <td>Eureka Acquisition Corp</td>\n",
       "      <td>$10.00</td>\n",
       "      <td>5000000.0</td>\n",
       "      <td>10.00</td>\n",
       "      <td>50000000.0</td>\n",
       "    </tr>\n",
       "    <tr>\n",
       "      <th>4</th>\n",
       "      <td>2024-04-26</td>\n",
       "      <td>HDL</td>\n",
       "      <td>Super Hi International Holding Ltd.</td>\n",
       "      <td>-</td>\n",
       "      <td>NaN</td>\n",
       "      <td>NaN</td>\n",
       "      <td>NaN</td>\n",
       "    </tr>\n",
       "    <tr>\n",
       "      <th>...</th>\n",
       "      <td>...</td>\n",
       "      <td>...</td>\n",
       "      <td>...</td>\n",
       "      <td>...</td>\n",
       "      <td>...</td>\n",
       "      <td>...</td>\n",
       "      <td>...</td>\n",
       "    </tr>\n",
       "    <tr>\n",
       "      <th>321</th>\n",
       "      <td>2020-01-21</td>\n",
       "      <td>GOXS</td>\n",
       "      <td>Goxus, Inc.</td>\n",
       "      <td>$8.00 - $10.00</td>\n",
       "      <td>1500000.0</td>\n",
       "      <td>9.00</td>\n",
       "      <td>13500000.0</td>\n",
       "    </tr>\n",
       "    <tr>\n",
       "      <th>322</th>\n",
       "      <td>2020-01-21</td>\n",
       "      <td>UTXO</td>\n",
       "      <td>UTXO Acquisition, Inc.</td>\n",
       "      <td>$10.00</td>\n",
       "      <td>5000000.0</td>\n",
       "      <td>10.00</td>\n",
       "      <td>50000000.0</td>\n",
       "    </tr>\n",
       "    <tr>\n",
       "      <th>323</th>\n",
       "      <td>2019-12-09</td>\n",
       "      <td>LOHA</td>\n",
       "      <td>Loha Co. Ltd</td>\n",
       "      <td>$8.00 - $10.00</td>\n",
       "      <td>2500000.0</td>\n",
       "      <td>9.00</td>\n",
       "      <td>22500000.0</td>\n",
       "    </tr>\n",
       "    <tr>\n",
       "      <th>324</th>\n",
       "      <td>2019-10-04</td>\n",
       "      <td>ZGHB</td>\n",
       "      <td>China Eco-Materials Group Co. Limited</td>\n",
       "      <td>$4.00</td>\n",
       "      <td>4300000.0</td>\n",
       "      <td>4.00</td>\n",
       "      <td>17200000.0</td>\n",
       "    </tr>\n",
       "    <tr>\n",
       "      <th>325</th>\n",
       "      <td>2018-12-27</td>\n",
       "      <td>FBOX</td>\n",
       "      <td>Fit Boxx Holdings Limited</td>\n",
       "      <td>$5.00 - $6.50</td>\n",
       "      <td>2000000.0</td>\n",
       "      <td>5.75</td>\n",
       "      <td>11500000.0</td>\n",
       "    </tr>\n",
       "  </tbody>\n",
       "</table>\n",
       "<p>326 rows × 7 columns</p>\n",
       "</div>"
      ],
      "text/plain": [
       "    filing_date symbol                           company_name     price_range  \\\n",
       "0    2024-05-03    TBN         Tamboran Resources Corporation               -   \n",
       "1    2024-04-29   HWEC                   HW Electro Co., Ltd.           $3.00   \n",
       "2    2024-04-29   DTSQ  DT Cloud Star Acquisition Corporation          $10.00   \n",
       "3    2024-04-26   EURK                Eureka Acquisition Corp          $10.00   \n",
       "4    2024-04-26    HDL    Super Hi International Holding Ltd.               -   \n",
       "..          ...    ...                                    ...             ...   \n",
       "321  2020-01-21   GOXS                            Goxus, Inc.  $8.00 - $10.00   \n",
       "322  2020-01-21   UTXO                 UTXO Acquisition, Inc.          $10.00   \n",
       "323  2019-12-09   LOHA                           Loha Co. Ltd  $8.00 - $10.00   \n",
       "324  2019-10-04   ZGHB  China Eco-Materials Group Co. Limited           $4.00   \n",
       "325  2018-12-27   FBOX              Fit Boxx Holdings Limited   $5.00 - $6.50   \n",
       "\n",
       "     shares_offered  price_ranges_mean  shares_offered_value  \n",
       "0               NaN                NaN                   NaN  \n",
       "1         3750000.0               3.00            11250000.0  \n",
       "2         6000000.0              10.00            60000000.0  \n",
       "3         5000000.0              10.00            50000000.0  \n",
       "4               NaN                NaN                   NaN  \n",
       "..              ...                ...                   ...  \n",
       "321       1500000.0               9.00            13500000.0  \n",
       "322       5000000.0              10.00            50000000.0  \n",
       "323       2500000.0               9.00            22500000.0  \n",
       "324       4300000.0               4.00            17200000.0  \n",
       "325       2000000.0               5.75            11500000.0  \n",
       "\n",
       "[326 rows x 7 columns]"
      ]
     },
     "execution_count": 5,
     "metadata": {},
     "output_type": "execute_result"
    }
   ],
   "source": [
    "# Convert the 'Filing Date' to datetime()\n",
    "ipo_df[\"Filing Date\"] = pd.to_datetime(ipo_df[\"Filing Date\"],format=\"%b %d, %Y\", errors='coerce')\n",
    "\n",
    "# Define Avg_price\n",
    "ipo_df[\"price_ranges_mean\"] =  ipo_df[\"Price Range\"].apply(lambda x : x.replace(\"$\",\"\").split(\"-\"))\n",
    "ipo_df[\"price_ranges_mean\"] = ipo_df[\"price_ranges_mean\"].apply(lambda x : [float(price) for price in x if price != \"\" ]).apply(lambda x : np.mean(x))\n",
    "\n",
    "# Convert Shares Offered to int \n",
    "ipo_df[\"Shares Offered\"] = pd.to_numeric(ipo_df[\"Shares Offered\"], errors='coerce')\n",
    "# Add Shares_offered_value\n",
    "ipo_df[\"shares_offered_value\"] = ipo_df[\"Shares Offered\"] * ipo_df[\"price_ranges_mean\"] \n",
    "\n",
    "# format column names \n",
    "ipo_df.columns = [col.lower().replace(\" \",\"_\") for col in ipo_df.columns]\n",
    "\n",
    "ipo_df"
   ]
  },
  {
   "cell_type": "code",
   "execution_count": 6,
   "metadata": {},
   "outputs": [],
   "source": [
    "ipo_df_2023 = ipo_df[(ipo_df[\"filing_date\"] >= '2023-01-01') & (ipo_df[\"filing_date\"] <= '2023-12-31')].copy()\n"
   ]
  },
  {
   "cell_type": "code",
   "execution_count": 7,
   "metadata": {},
   "outputs": [
    {
     "data": {
      "text/plain": [
       "285.7"
      ]
     },
     "execution_count": 7,
     "metadata": {},
     "output_type": "execute_result"
    }
   ],
   "source": [
    "ipo_df_2023[ipo_df_2023[\"filing_date\"].dt.day_of_week == 4][\"shares_offered_value\"].sum()/1000000"
   ]
  },
  {
   "cell_type": "markdown",
   "metadata": {},
   "source": [
    "## Question 2"
   ]
  },
  {
   "cell_type": "code",
   "execution_count": 8,
   "metadata": {},
   "outputs": [
    {
     "name": "stderr",
     "output_type": "stream",
     "text": [
      "/tmp/ipykernel_451502/516968086.py:8: FutureWarning: Passing literal html to 'read_html' is deprecated and will be removed in a future version. To read from a literal string, wrap it in a 'StringIO' object.\n",
      "  ipo_23_dfs = pd.read_html(response.text)\n",
      "/tmp/ipykernel_451502/516968086.py:14: FutureWarning: Passing literal html to 'read_html' is deprecated and will be removed in a future version. To read from a literal string, wrap it in a 'StringIO' object.\n",
      "  ipo_24_dfs = pd.read_html(response.text)\n"
     ]
    }
   ],
   "source": [
    "\n",
    "headers = {\n",
    "    'User-Agent': 'Mozilla/5.0 (Windows NT 10.0; Win64; x64) AppleWebKit/537.36 (KHTML, like Gecko) Chrome/58.0.3029.110 Safari/537.3',\n",
    "}\n",
    "\n",
    "url = \"https://stockanalysis.com/ipos/2023/\"\n",
    "response = requests.get(url, headers=headers)\n",
    "\n",
    "ipo_23_dfs = pd.read_html(response.text)\n",
    "\n",
    "\n",
    "url = \"https://stockanalysis.com/ipos/2024/\"\n",
    "response = requests.get(url, headers=headers)\n",
    "\n",
    "ipo_24_dfs = pd.read_html(response.text)\n"
   ]
  },
  {
   "cell_type": "code",
   "execution_count": 9,
   "metadata": {},
   "outputs": [],
   "source": [
    "ipo_23_df = ipo_23_dfs[0].copy()\n",
    "ipo_24_df = ipo_24_dfs[0].copy()\n"
   ]
  },
  {
   "cell_type": "code",
   "execution_count": 10,
   "metadata": {},
   "outputs": [
    {
     "data": {
      "text/html": [
       "<div>\n",
       "<style scoped>\n",
       "    .dataframe tbody tr th:only-of-type {\n",
       "        vertical-align: middle;\n",
       "    }\n",
       "\n",
       "    .dataframe tbody tr th {\n",
       "        vertical-align: top;\n",
       "    }\n",
       "\n",
       "    .dataframe thead th {\n",
       "        text-align: right;\n",
       "    }\n",
       "</style>\n",
       "<table border=\"1\" class=\"dataframe\">\n",
       "  <thead>\n",
       "    <tr style=\"text-align: right;\">\n",
       "      <th></th>\n",
       "      <th>ipo_date</th>\n",
       "      <th>symbol</th>\n",
       "      <th>company_name</th>\n",
       "      <th>ipo_price</th>\n",
       "      <th>current</th>\n",
       "      <th>return</th>\n",
       "    </tr>\n",
       "  </thead>\n",
       "  <tbody>\n",
       "    <tr>\n",
       "      <th>0</th>\n",
       "      <td>2023-12-27</td>\n",
       "      <td>IROH</td>\n",
       "      <td>Iron Horse Acquisitions Corp.</td>\n",
       "      <td>10.00</td>\n",
       "      <td>10.04</td>\n",
       "      <td>0.0040</td>\n",
       "    </tr>\n",
       "    <tr>\n",
       "      <th>1</th>\n",
       "      <td>2023-12-19</td>\n",
       "      <td>LGCB</td>\n",
       "      <td>Linkage Global Inc</td>\n",
       "      <td>4.00</td>\n",
       "      <td>2.91</td>\n",
       "      <td>-0.2750</td>\n",
       "    </tr>\n",
       "    <tr>\n",
       "      <th>2</th>\n",
       "      <td>2023-12-15</td>\n",
       "      <td>ZKH</td>\n",
       "      <td>ZKH Group Limited</td>\n",
       "      <td>15.50</td>\n",
       "      <td>12.22</td>\n",
       "      <td>-0.2116</td>\n",
       "    </tr>\n",
       "    <tr>\n",
       "      <th>3</th>\n",
       "      <td>2023-12-15</td>\n",
       "      <td>BAYA</td>\n",
       "      <td>Bayview Acquisition Corp</td>\n",
       "      <td>10.00</td>\n",
       "      <td>10.19</td>\n",
       "      <td>0.0180</td>\n",
       "    </tr>\n",
       "    <tr>\n",
       "      <th>4</th>\n",
       "      <td>2023-12-14</td>\n",
       "      <td>INHD</td>\n",
       "      <td>Inno Holdings Inc.</td>\n",
       "      <td>4.00</td>\n",
       "      <td>0.62</td>\n",
       "      <td>-0.8460</td>\n",
       "    </tr>\n",
       "    <tr>\n",
       "      <th>...</th>\n",
       "      <td>...</td>\n",
       "      <td>...</td>\n",
       "      <td>...</td>\n",
       "      <td>...</td>\n",
       "      <td>...</td>\n",
       "      <td>...</td>\n",
       "    </tr>\n",
       "    <tr>\n",
       "      <th>214</th>\n",
       "      <td>2024-01-18</td>\n",
       "      <td>PSBD</td>\n",
       "      <td>Palmer Square Capital BDC Inc.</td>\n",
       "      <td>16.45</td>\n",
       "      <td>16.57</td>\n",
       "      <td>0.0073</td>\n",
       "    </tr>\n",
       "    <tr>\n",
       "      <th>215</th>\n",
       "      <td>2024-01-18</td>\n",
       "      <td>CCTG</td>\n",
       "      <td>CCSC Technology International Holdings Limited</td>\n",
       "      <td>6.00</td>\n",
       "      <td>2.61</td>\n",
       "      <td>-0.5650</td>\n",
       "    </tr>\n",
       "    <tr>\n",
       "      <th>216</th>\n",
       "      <td>2024-01-12</td>\n",
       "      <td>SYNX</td>\n",
       "      <td>Silynxcom Ltd.</td>\n",
       "      <td>4.00</td>\n",
       "      <td>2.90</td>\n",
       "      <td>-0.2763</td>\n",
       "    </tr>\n",
       "    <tr>\n",
       "      <th>217</th>\n",
       "      <td>2024-01-11</td>\n",
       "      <td>SDHC</td>\n",
       "      <td>Smith Douglas Homes Corp.</td>\n",
       "      <td>21.00</td>\n",
       "      <td>29.00</td>\n",
       "      <td>0.3810</td>\n",
       "    </tr>\n",
       "    <tr>\n",
       "      <th>218</th>\n",
       "      <td>2024-01-09</td>\n",
       "      <td>ROMA</td>\n",
       "      <td>Roma Green Finance Limited</td>\n",
       "      <td>4.00</td>\n",
       "      <td>0.75</td>\n",
       "      <td>-0.8120</td>\n",
       "    </tr>\n",
       "  </tbody>\n",
       "</table>\n",
       "<p>184 rows × 6 columns</p>\n",
       "</div>"
      ],
      "text/plain": [
       "      ipo_date symbol                                    company_name  \\\n",
       "0   2023-12-27   IROH                   Iron Horse Acquisitions Corp.   \n",
       "1   2023-12-19   LGCB                              Linkage Global Inc   \n",
       "2   2023-12-15    ZKH                               ZKH Group Limited   \n",
       "3   2023-12-15   BAYA                        Bayview Acquisition Corp   \n",
       "4   2023-12-14   INHD                              Inno Holdings Inc.   \n",
       "..         ...    ...                                             ...   \n",
       "214 2024-01-18   PSBD                  Palmer Square Capital BDC Inc.   \n",
       "215 2024-01-18   CCTG  CCSC Technology International Holdings Limited   \n",
       "216 2024-01-12   SYNX                                  Silynxcom Ltd.   \n",
       "217 2024-01-11   SDHC                       Smith Douglas Homes Corp.   \n",
       "218 2024-01-09   ROMA                      Roma Green Finance Limited   \n",
       "\n",
       "     ipo_price  current  return  \n",
       "0        10.00    10.04  0.0040  \n",
       "1         4.00     2.91 -0.2750  \n",
       "2        15.50    12.22 -0.2116  \n",
       "3        10.00    10.19  0.0180  \n",
       "4         4.00     0.62 -0.8460  \n",
       "..         ...      ...     ...  \n",
       "214      16.45    16.57  0.0073  \n",
       "215       6.00     2.61 -0.5650  \n",
       "216       4.00     2.90 -0.2763  \n",
       "217      21.00    29.00  0.3810  \n",
       "218       4.00     0.75 -0.8120  \n",
       "\n",
       "[184 rows x 6 columns]"
      ]
     },
     "execution_count": 10,
     "metadata": {},
     "output_type": "execute_result"
    }
   ],
   "source": [
    "df = pd.concat([ipo_23_df, ipo_24_df], ignore_index=True)\n",
    "# format column names \n",
    "df.columns = [col.lower().replace(\" \",\"_\") for col in df.columns]\n",
    "# Convert the 'Filing Date' to datetime()\n",
    "df[\"ipo_date\"] = pd.to_datetime(df[\"ipo_date\"],format=\"%b %d, %Y\", errors='coerce')\n",
    "#convert price, current, return to float\n",
    "df['ipo_price'] = pd.to_numeric(df['ipo_price'].str.replace('$', ''), errors='coerce')\n",
    "df['current'] = pd.to_numeric(df['current'].str.replace('$', ''), errors='coerce')\n",
    "df['return'] = pd.to_numeric(df['return'].str.replace('%', ''), errors='coerce') / 100\n",
    "\n",
    "# filter dates \n",
    "df = df[(df[\"ipo_date\"] < '2024-03-01')]\n",
    "#exclude RYZB\n",
    "df = df.query(\"symbol != 'RYZB'\")\n",
    "\n",
    "df"
   ]
  },
  {
   "cell_type": "code",
   "execution_count": 11,
   "metadata": {},
   "outputs": [
    {
     "name": "stdout",
     "output_type": "stream",
     "text": [
      "<class 'pandas.core.frame.DataFrame'>\n",
      "Index: 184 entries, 0 to 218\n",
      "Data columns (total 6 columns):\n",
      " #   Column        Non-Null Count  Dtype         \n",
      "---  ------        --------------  -----         \n",
      " 0   ipo_date      184 non-null    datetime64[ns]\n",
      " 1   symbol        184 non-null    object        \n",
      " 2   company_name  184 non-null    object        \n",
      " 3   ipo_price     184 non-null    float64       \n",
      " 4   current       184 non-null    float64       \n",
      " 5   return        183 non-null    float64       \n",
      "dtypes: datetime64[ns](1), float64(3), object(2)\n",
      "memory usage: 10.1+ KB\n"
     ]
    }
   ],
   "source": [
    "df.info()"
   ]
  },
  {
   "cell_type": "code",
   "execution_count": 12,
   "metadata": {},
   "outputs": [],
   "source": [
    "tickers_list = df.symbol.unique()"
   ]
  },
  {
   "cell_type": "code",
   "execution_count": 13,
   "metadata": {},
   "outputs": [
    {
     "name": "stdout",
     "output_type": "stream",
     "text": [
      "0 IROH\n"
     ]
    },
    {
     "name": "stderr",
     "output_type": "stream",
     "text": [
      "[*********************100%%**********************]  1 of 1 completed\n",
      "[*********************100%%**********************]  1 of 1 completed"
     ]
    },
    {
     "name": "stdout",
     "output_type": "stream",
     "text": [
      "1 LGCB\n"
     ]
    },
    {
     "name": "stderr",
     "output_type": "stream",
     "text": [
      "\n",
      "[*********************100%%**********************]  1 of 1 completed"
     ]
    },
    {
     "name": "stdout",
     "output_type": "stream",
     "text": [
      "2 ZKH\n"
     ]
    },
    {
     "name": "stderr",
     "output_type": "stream",
     "text": [
      "\n",
      "[*********************100%%**********************]  1 of 1 completed"
     ]
    },
    {
     "name": "stdout",
     "output_type": "stream",
     "text": [
      "3 BAYA\n"
     ]
    },
    {
     "name": "stderr",
     "output_type": "stream",
     "text": [
      "\n",
      "[*********************100%%**********************]  1 of 1 completed"
     ]
    },
    {
     "name": "stdout",
     "output_type": "stream",
     "text": [
      "4 INHD\n"
     ]
    },
    {
     "name": "stderr",
     "output_type": "stream",
     "text": [
      "\n",
      "[*********************100%%**********************]  1 of 1 completed"
     ]
    },
    {
     "name": "stdout",
     "output_type": "stream",
     "text": [
      "5 AFJK\n"
     ]
    },
    {
     "name": "stderr",
     "output_type": "stream",
     "text": [
      "\n",
      "[*********************100%%**********************]  1 of 1 completed"
     ]
    },
    {
     "name": "stdout",
     "output_type": "stream",
     "text": [
      "6 GSIW\n"
     ]
    },
    {
     "name": "stderr",
     "output_type": "stream",
     "text": [
      "\n",
      "[*********************100%%**********************]  1 of 1 completed"
     ]
    },
    {
     "name": "stdout",
     "output_type": "stream",
     "text": [
      "7 FEBO\n"
     ]
    },
    {
     "name": "stderr",
     "output_type": "stream",
     "text": [
      "\n",
      "[*********************100%%**********************]  1 of 1 completed"
     ]
    },
    {
     "name": "stdout",
     "output_type": "stream",
     "text": [
      "8 CLBR\n"
     ]
    },
    {
     "name": "stderr",
     "output_type": "stream",
     "text": [
      "\n",
      "[*********************100%%**********************]  1 of 1 completed"
     ]
    },
    {
     "name": "stdout",
     "output_type": "stream",
     "text": [
      "9 ELAB\n"
     ]
    },
    {
     "name": "stderr",
     "output_type": "stream",
     "text": [
      "\n",
      "[*********************100%%**********************]  1 of 1 completed"
     ]
    },
    {
     "name": "stdout",
     "output_type": "stream",
     "text": [
      "10 RR\n"
     ]
    },
    {
     "name": "stderr",
     "output_type": "stream",
     "text": [
      "\n",
      "[*********************100%%**********************]  1 of 1 completed"
     ]
    },
    {
     "name": "stdout",
     "output_type": "stream",
     "text": [
      "11 DDC\n"
     ]
    },
    {
     "name": "stderr",
     "output_type": "stream",
     "text": [
      "\n",
      "[*********************100%%**********************]  1 of 1 completed"
     ]
    },
    {
     "name": "stdout",
     "output_type": "stream",
     "text": [
      "12 SHIM\n"
     ]
    },
    {
     "name": "stderr",
     "output_type": "stream",
     "text": [
      "\n",
      "[*********************100%%**********************]  1 of 1 completed"
     ]
    },
    {
     "name": "stdout",
     "output_type": "stream",
     "text": [
      "13 GLAC\n"
     ]
    },
    {
     "name": "stderr",
     "output_type": "stream",
     "text": [
      "\n",
      "[*********************100%%**********************]  1 of 1 completed"
     ]
    },
    {
     "name": "stdout",
     "output_type": "stream",
     "text": [
      "14 SGN\n"
     ]
    },
    {
     "name": "stderr",
     "output_type": "stream",
     "text": [
      "\n",
      "[*********************100%%**********************]  1 of 1 completed"
     ]
    },
    {
     "name": "stdout",
     "output_type": "stream",
     "text": [
      "15 HG\n"
     ]
    },
    {
     "name": "stderr",
     "output_type": "stream",
     "text": [
      "\n",
      "[*********************100%%**********************]  1 of 1 completed"
     ]
    },
    {
     "name": "stdout",
     "output_type": "stream",
     "text": [
      "16 CRGX\n"
     ]
    },
    {
     "name": "stderr",
     "output_type": "stream",
     "text": [
      "\n",
      "[*********************100%%**********************]  1 of 1 completed"
     ]
    },
    {
     "name": "stdout",
     "output_type": "stream",
     "text": [
      "17 ANSC\n"
     ]
    },
    {
     "name": "stderr",
     "output_type": "stream",
     "text": [
      "\n",
      "[*********************100%%**********************]  1 of 1 completed"
     ]
    },
    {
     "name": "stdout",
     "output_type": "stream",
     "text": [
      "18 AITR\n"
     ]
    },
    {
     "name": "stderr",
     "output_type": "stream",
     "text": [
      "\n",
      "[*********************100%%**********************]  1 of 1 completed"
     ]
    },
    {
     "name": "stdout",
     "output_type": "stream",
     "text": [
      "19 GVH\n"
     ]
    },
    {
     "name": "stderr",
     "output_type": "stream",
     "text": [
      "\n",
      "[*********************100%%**********************]  1 of 1 completed"
     ]
    },
    {
     "name": "stdout",
     "output_type": "stream",
     "text": [
      "20 LXEO\n"
     ]
    },
    {
     "name": "stderr",
     "output_type": "stream",
     "text": [
      "\n",
      "[*********************100%%**********************]  1 of 1 completed"
     ]
    },
    {
     "name": "stdout",
     "output_type": "stream",
     "text": [
      "21 PAPL\n"
     ]
    },
    {
     "name": "stderr",
     "output_type": "stream",
     "text": [
      "\n",
      "[*********************100%%**********************]  1 of 1 completed"
     ]
    },
    {
     "name": "stdout",
     "output_type": "stream",
     "text": [
      "22 ATGL\n"
     ]
    },
    {
     "name": "stderr",
     "output_type": "stream",
     "text": [
      "\n",
      "[*********************100%%**********************]  1 of 1 completed"
     ]
    },
    {
     "name": "stdout",
     "output_type": "stream",
     "text": [
      "23 MNR\n"
     ]
    },
    {
     "name": "stderr",
     "output_type": "stream",
     "text": [
      "\n",
      "[*********************100%%**********************]  1 of 1 completed"
     ]
    },
    {
     "name": "stdout",
     "output_type": "stream",
     "text": [
      "24 WBUY\n"
     ]
    },
    {
     "name": "stderr",
     "output_type": "stream",
     "text": [
      "\n",
      "[*********************100%%**********************]  1 of 1 completed"
     ]
    },
    {
     "name": "stdout",
     "output_type": "stream",
     "text": [
      "25 NCL\n"
     ]
    },
    {
     "name": "stderr",
     "output_type": "stream",
     "text": [
      "\n",
      "[*********************100%%**********************]  1 of 1 completed"
     ]
    },
    {
     "name": "stdout",
     "output_type": "stream",
     "text": [
      "26 BIRK\n"
     ]
    },
    {
     "name": "stderr",
     "output_type": "stream",
     "text": [
      "\n",
      "[*********************100%%**********************]  1 of 1 completed"
     ]
    },
    {
     "name": "stdout",
     "output_type": "stream",
     "text": [
      "27 GMM\n"
     ]
    },
    {
     "name": "stderr",
     "output_type": "stream",
     "text": [
      "\n",
      "[*********************100%%**********************]  1 of 1 completed"
     ]
    },
    {
     "name": "stdout",
     "output_type": "stream",
     "text": [
      "28 PMEC\n"
     ]
    },
    {
     "name": "stderr",
     "output_type": "stream",
     "text": [
      "\n",
      "[*********************100%%**********************]  1 of 1 completed"
     ]
    },
    {
     "name": "stdout",
     "output_type": "stream",
     "text": [
      "29 LRHC\n"
     ]
    },
    {
     "name": "stderr",
     "output_type": "stream",
     "text": [
      "\n",
      "[*********************100%%**********************]  1 of 1 completed"
     ]
    },
    {
     "name": "stdout",
     "output_type": "stream",
     "text": [
      "30 GPAK\n"
     ]
    },
    {
     "name": "stderr",
     "output_type": "stream",
     "text": [
      "\n",
      "[*********************100%%**********************]  1 of 1 completed"
     ]
    },
    {
     "name": "stdout",
     "output_type": "stream",
     "text": [
      "31 SPKL\n"
     ]
    },
    {
     "name": "stderr",
     "output_type": "stream",
     "text": [
      "\n",
      "[*********************100%%**********************]  1 of 1 completed"
     ]
    },
    {
     "name": "stdout",
     "output_type": "stream",
     "text": [
      "32 QETA\n"
     ]
    },
    {
     "name": "stderr",
     "output_type": "stream",
     "text": [
      "\n",
      "[*********************100%%**********************]  1 of 1 completed"
     ]
    },
    {
     "name": "stdout",
     "output_type": "stream",
     "text": [
      "33 MSS\n"
     ]
    },
    {
     "name": "stderr",
     "output_type": "stream",
     "text": [
      "\n",
      "[*********************100%%**********************]  1 of 1 completed"
     ]
    },
    {
     "name": "stdout",
     "output_type": "stream",
     "text": [
      "34 ANL\n"
     ]
    },
    {
     "name": "stderr",
     "output_type": "stream",
     "text": [
      "\n",
      "[*********************100%%**********************]  1 of 1 completed"
     ]
    },
    {
     "name": "stdout",
     "output_type": "stream",
     "text": [
      "35 SYRA\n"
     ]
    },
    {
     "name": "stderr",
     "output_type": "stream",
     "text": [
      "\n",
      "[*********************100%%**********************]  1 of 1 completed"
     ]
    },
    {
     "name": "stdout",
     "output_type": "stream",
     "text": [
      "36 VSME\n"
     ]
    },
    {
     "name": "stderr",
     "output_type": "stream",
     "text": [
      "\n",
      "[*********************100%%**********************]  1 of 1 completed"
     ]
    },
    {
     "name": "stdout",
     "output_type": "stream",
     "text": [
      "37 LRE\n"
     ]
    },
    {
     "name": "stderr",
     "output_type": "stream",
     "text": [
      "\n",
      "[*********************100%%**********************]  1 of 1 completed"
     ]
    },
    {
     "name": "stdout",
     "output_type": "stream",
     "text": [
      "38 TURB\n"
     ]
    },
    {
     "name": "stderr",
     "output_type": "stream",
     "text": [
      "\n",
      "[*********************100%%**********************]  1 of 1 completed"
     ]
    },
    {
     "name": "stdout",
     "output_type": "stream",
     "text": [
      "39 MDBH\n"
     ]
    },
    {
     "name": "stderr",
     "output_type": "stream",
     "text": [
      "\n",
      "[*********************100%%**********************]  1 of 1 completed"
     ]
    },
    {
     "name": "stdout",
     "output_type": "stream",
     "text": [
      "40 KVYO\n"
     ]
    },
    {
     "name": "stderr",
     "output_type": "stream",
     "text": [
      "\n",
      "[*********************100%%**********************]  1 of 1 completed"
     ]
    },
    {
     "name": "stdout",
     "output_type": "stream",
     "text": [
      "41 CART\n"
     ]
    },
    {
     "name": "stderr",
     "output_type": "stream",
     "text": [
      "\n",
      "[*********************100%%**********************]  1 of 1 completed"
     ]
    },
    {
     "name": "stdout",
     "output_type": "stream",
     "text": [
      "42 DTCK\n"
     ]
    },
    {
     "name": "stderr",
     "output_type": "stream",
     "text": [
      "\n",
      "[*********************100%%**********************]  1 of 1 completed"
     ]
    },
    {
     "name": "stdout",
     "output_type": "stream",
     "text": [
      "43 NMRA\n"
     ]
    },
    {
     "name": "stderr",
     "output_type": "stream",
     "text": [
      "\n",
      "[*********************100%%**********************]  1 of 1 completed"
     ]
    },
    {
     "name": "stdout",
     "output_type": "stream",
     "text": [
      "44 ARM\n"
     ]
    },
    {
     "name": "stderr",
     "output_type": "stream",
     "text": [
      "\n",
      "[*********************100%%**********************]  1 of 1 completed"
     ]
    },
    {
     "name": "stdout",
     "output_type": "stream",
     "text": [
      "45 SPPL\n"
     ]
    },
    {
     "name": "stderr",
     "output_type": "stream",
     "text": [
      "\n",
      "[*********************100%%**********************]  1 of 1 completed"
     ]
    },
    {
     "name": "stdout",
     "output_type": "stream",
     "text": [
      "46 NWGL\n"
     ]
    },
    {
     "name": "stderr",
     "output_type": "stream",
     "text": [
      "\n",
      "[*********************100%%**********************]  1 of 1 completed"
     ]
    },
    {
     "name": "stdout",
     "output_type": "stream",
     "text": [
      "47 SWIN\n"
     ]
    },
    {
     "name": "stderr",
     "output_type": "stream",
     "text": [
      "\n",
      "[*********************100%%**********************]  1 of 1 completed"
     ]
    },
    {
     "name": "stdout",
     "output_type": "stream",
     "text": [
      "48 IVP\n"
     ]
    },
    {
     "name": "stderr",
     "output_type": "stream",
     "text": [
      "\n",
      "[*********************100%%**********************]  1 of 1 completed"
     ]
    },
    {
     "name": "stdout",
     "output_type": "stream",
     "text": [
      "49 NNAG\n"
     ]
    },
    {
     "name": "stderr",
     "output_type": "stream",
     "text": [
      "\n",
      "[*********************100%%**********************]  1 of 1 completed"
     ]
    },
    {
     "name": "stdout",
     "output_type": "stream",
     "text": [
      "50 SRM\n"
     ]
    },
    {
     "name": "stderr",
     "output_type": "stream",
     "text": [
      "\n",
      "[*********************100%%**********************]  1 of 1 completed"
     ]
    },
    {
     "name": "stdout",
     "output_type": "stream",
     "text": [
      "51 SPGC\n"
     ]
    },
    {
     "name": "stderr",
     "output_type": "stream",
     "text": [
      "\n",
      "[*********************100%%**********************]  1 of 1 completed"
     ]
    },
    {
     "name": "stdout",
     "output_type": "stream",
     "text": [
      "52 LQR\n"
     ]
    },
    {
     "name": "stderr",
     "output_type": "stream",
     "text": [
      "\n",
      "[*********************100%%**********************]  1 of 1 completed"
     ]
    },
    {
     "name": "stdout",
     "output_type": "stream",
     "text": [
      "53 NRXS\n"
     ]
    },
    {
     "name": "stderr",
     "output_type": "stream",
     "text": [
      "\n",
      "[*********************100%%**********************]  1 of 1 completed"
     ]
    },
    {
     "name": "stdout",
     "output_type": "stream",
     "text": [
      "54 FTEL\n"
     ]
    },
    {
     "name": "stderr",
     "output_type": "stream",
     "text": [
      "\n",
      "[*********************100%%**********************]  1 of 1 completed"
     ]
    },
    {
     "name": "stdout",
     "output_type": "stream",
     "text": [
      "55 MIRA\n"
     ]
    },
    {
     "name": "stderr",
     "output_type": "stream",
     "text": [
      "\n",
      "[*********************100%%**********************]  1 of 1 completed"
     ]
    },
    {
     "name": "stdout",
     "output_type": "stream",
     "text": [
      "56 PXDT\n"
     ]
    },
    {
     "name": "stderr",
     "output_type": "stream",
     "text": [
      "\n",
      "[*********************100%%**********************]  1 of 1 completed"
     ]
    },
    {
     "name": "stdout",
     "output_type": "stream",
     "text": [
      "57 HRYU\n"
     ]
    },
    {
     "name": "stderr",
     "output_type": "stream",
     "text": [
      "\n",
      "[*********************100%%**********************]  1 of 1 completed"
     ]
    },
    {
     "name": "stdout",
     "output_type": "stream",
     "text": [
      "58 CTNT\n"
     ]
    },
    {
     "name": "stderr",
     "output_type": "stream",
     "text": [
      "\n",
      "[*********************100%%**********************]  1 of 1 completed"
     ]
    },
    {
     "name": "stdout",
     "output_type": "stream",
     "text": [
      "59 SRFM\n"
     ]
    },
    {
     "name": "stderr",
     "output_type": "stream",
     "text": [
      "\n",
      "[*********************100%%**********************]  1 of 1 completed"
     ]
    },
    {
     "name": "stdout",
     "output_type": "stream",
     "text": [
      "60 PRZO\n"
     ]
    },
    {
     "name": "stderr",
     "output_type": "stream",
     "text": [
      "\n",
      "[*********************100%%**********************]  1 of 1 completed"
     ]
    },
    {
     "name": "stdout",
     "output_type": "stream",
     "text": [
      "61 HYAC\n"
     ]
    },
    {
     "name": "stderr",
     "output_type": "stream",
     "text": [
      "\n",
      "[*********************100%%**********************]  1 of 1 completed"
     ]
    },
    {
     "name": "stdout",
     "output_type": "stream",
     "text": [
      "62 KVAC\n"
     ]
    },
    {
     "name": "stderr",
     "output_type": "stream",
     "text": [
      "\n",
      "[*********************100%%**********************]  1 of 1 completed"
     ]
    },
    {
     "name": "stdout",
     "output_type": "stream",
     "text": [
      "63 JNVR\n"
     ]
    },
    {
     "name": "stderr",
     "output_type": "stream",
     "text": [
      "\n",
      "[*********************100%%**********************]  1 of 1 completed"
     ]
    },
    {
     "name": "stdout",
     "output_type": "stream",
     "text": [
      "64 ELWS\n"
     ]
    },
    {
     "name": "stderr",
     "output_type": "stream",
     "text": [
      "\n"
     ]
    },
    {
     "name": "stdout",
     "output_type": "stream",
     "text": [
      "65 WRNT\n"
     ]
    },
    {
     "name": "stderr",
     "output_type": "stream",
     "text": [
      "[*********************100%%**********************]  1 of 1 completed\n"
     ]
    },
    {
     "name": "stdout",
     "output_type": "stream",
     "text": [
      "66 TSBX\n"
     ]
    },
    {
     "name": "stderr",
     "output_type": "stream",
     "text": [
      "[*********************100%%**********************]  1 of 1 completed\n"
     ]
    },
    {
     "name": "stdout",
     "output_type": "stream",
     "text": [
      "67 ODD\n"
     ]
    },
    {
     "name": "stderr",
     "output_type": "stream",
     "text": [
      "[*********************100%%**********************]  1 of 1 completed\n"
     ]
    },
    {
     "name": "stdout",
     "output_type": "stream",
     "text": [
      "68 APGE\n"
     ]
    },
    {
     "name": "stderr",
     "output_type": "stream",
     "text": [
      "[*********************100%%**********************]  1 of 1 completed\n"
     ]
    },
    {
     "name": "stdout",
     "output_type": "stream",
     "text": [
      "69 NETD\n"
     ]
    },
    {
     "name": "stderr",
     "output_type": "stream",
     "text": [
      "[*********************100%%**********************]  1 of 1 completed\n",
      "[*********************100%%**********************]  1 of 1 completed"
     ]
    },
    {
     "name": "stdout",
     "output_type": "stream",
     "text": [
      "70 SGMT\n"
     ]
    },
    {
     "name": "stderr",
     "output_type": "stream",
     "text": [
      "\n",
      "[*********************100%%**********************]  1 of 1 completed"
     ]
    },
    {
     "name": "stdout",
     "output_type": "stream",
     "text": [
      "71 BOWN\n"
     ]
    },
    {
     "name": "stderr",
     "output_type": "stream",
     "text": [
      "\n",
      "[*********************100%%**********************]  1 of 1 completed"
     ]
    },
    {
     "name": "stdout",
     "output_type": "stream",
     "text": [
      "72 SXTP\n"
     ]
    },
    {
     "name": "stderr",
     "output_type": "stream",
     "text": [
      "\n",
      "[*********************100%%**********************]  1 of 1 completed"
     ]
    },
    {
     "name": "stdout",
     "output_type": "stream",
     "text": [
      "73 PWM\n"
     ]
    },
    {
     "name": "stderr",
     "output_type": "stream",
     "text": [
      "\n",
      "[*********************100%%**********************]  1 of 1 completed"
     ]
    },
    {
     "name": "stdout",
     "output_type": "stream",
     "text": [
      "74 VTMX\n"
     ]
    },
    {
     "name": "stderr",
     "output_type": "stream",
     "text": [
      "\n",
      "[*********************100%%**********************]  1 of 1 completed"
     ]
    },
    {
     "name": "stdout",
     "output_type": "stream",
     "text": [
      "75 INTS\n"
     ]
    },
    {
     "name": "stderr",
     "output_type": "stream",
     "text": [
      "\n",
      "[*********************100%%**********************]  1 of 1 completed"
     ]
    },
    {
     "name": "stdout",
     "output_type": "stream",
     "text": [
      "76 SVV\n"
     ]
    },
    {
     "name": "stderr",
     "output_type": "stream",
     "text": [
      "\n",
      "[*********************100%%**********************]  1 of 1 completed"
     ]
    },
    {
     "name": "stdout",
     "output_type": "stream",
     "text": [
      "77 KGS\n"
     ]
    },
    {
     "name": "stderr",
     "output_type": "stream",
     "text": [
      "\n",
      "[*********************100%%**********************]  1 of 1 completed"
     ]
    },
    {
     "name": "stdout",
     "output_type": "stream",
     "text": [
      "78 FIHL\n"
     ]
    },
    {
     "name": "stderr",
     "output_type": "stream",
     "text": [
      "\n",
      "[*********************100%%**********************]  1 of 1 completed"
     ]
    },
    {
     "name": "stdout",
     "output_type": "stream",
     "text": [
      "79 GENK\n"
     ]
    },
    {
     "name": "stderr",
     "output_type": "stream",
     "text": [
      "\n",
      "[*********************100%%**********************]  1 of 1 completed"
     ]
    },
    {
     "name": "stdout",
     "output_type": "stream",
     "text": [
      "80 BUJA\n"
     ]
    },
    {
     "name": "stderr",
     "output_type": "stream",
     "text": [
      "\n",
      "[*********************100%%**********************]  1 of 1 completed"
     ]
    },
    {
     "name": "stdout",
     "output_type": "stream",
     "text": [
      "81 BOF\n"
     ]
    },
    {
     "name": "stderr",
     "output_type": "stream",
     "text": [
      "\n",
      "[*********************100%%**********************]  1 of 1 completed"
     ]
    },
    {
     "name": "stdout",
     "output_type": "stream",
     "text": [
      "82 AZTR\n"
     ]
    },
    {
     "name": "stderr",
     "output_type": "stream",
     "text": [
      "\n",
      "[*********************100%%**********************]  1 of 1 completed"
     ]
    },
    {
     "name": "stdout",
     "output_type": "stream",
     "text": [
      "83 CAVA\n"
     ]
    },
    {
     "name": "stderr",
     "output_type": "stream",
     "text": [
      "\n",
      "[*********************100%%**********************]  1 of 1 completed"
     ]
    },
    {
     "name": "stdout",
     "output_type": "stream",
     "text": [
      "84 ESHA\n"
     ]
    },
    {
     "name": "stderr",
     "output_type": "stream",
     "text": [
      "\n",
      "[*********************100%%**********************]  1 of 1 completed"
     ]
    },
    {
     "name": "stdout",
     "output_type": "stream",
     "text": [
      "85 ATMU\n"
     ]
    },
    {
     "name": "stderr",
     "output_type": "stream",
     "text": [
      "\n"
     ]
    },
    {
     "name": "stdout",
     "output_type": "stream",
     "text": [
      "86 ATS\n"
     ]
    },
    {
     "name": "stderr",
     "output_type": "stream",
     "text": [
      "[*********************100%%**********************]  1 of 1 completed\n",
      "[*********************100%%**********************]  1 of 1 completed"
     ]
    },
    {
     "name": "stdout",
     "output_type": "stream",
     "text": [
      "87 IPXX\n"
     ]
    },
    {
     "name": "stderr",
     "output_type": "stream",
     "text": [
      "\n",
      "[*********************100%%**********************]  1 of 1 completed"
     ]
    },
    {
     "name": "stdout",
     "output_type": "stream",
     "text": [
      "88 CWD\n"
     ]
    },
    {
     "name": "stderr",
     "output_type": "stream",
     "text": [
      "\n",
      "[*********************100%%**********************]  1 of 1 completed"
     ]
    },
    {
     "name": "stdout",
     "output_type": "stream",
     "text": [
      "89 SGE\n"
     ]
    },
    {
     "name": "stderr",
     "output_type": "stream",
     "text": [
      "\n",
      "[*********************100%%**********************]  1 of 1 completed"
     ]
    },
    {
     "name": "stdout",
     "output_type": "stream",
     "text": [
      "90 SLRN\n"
     ]
    },
    {
     "name": "stderr",
     "output_type": "stream",
     "text": [
      "\n",
      "[*********************100%%**********************]  1 of 1 completed"
     ]
    },
    {
     "name": "stdout",
     "output_type": "stream",
     "text": [
      "91 ALCY\n"
     ]
    },
    {
     "name": "stderr",
     "output_type": "stream",
     "text": [
      "\n",
      "[*********************100%%**********************]  1 of 1 completed"
     ]
    },
    {
     "name": "stdout",
     "output_type": "stream",
     "text": [
      "92 KVUE\n"
     ]
    },
    {
     "name": "stderr",
     "output_type": "stream",
     "text": [
      "\n",
      "[*********************100%%**********************]  1 of 1 completed"
     ]
    },
    {
     "name": "stdout",
     "output_type": "stream",
     "text": [
      "93 GODN\n"
     ]
    },
    {
     "name": "stderr",
     "output_type": "stream",
     "text": [
      "\n",
      "[*********************100%%**********************]  1 of 1 completed"
     ]
    },
    {
     "name": "stdout",
     "output_type": "stream",
     "text": [
      "94 TRNR\n"
     ]
    },
    {
     "name": "stderr",
     "output_type": "stream",
     "text": [
      "\n",
      "[*********************100%%**********************]  1 of 1 completed"
     ]
    },
    {
     "name": "stdout",
     "output_type": "stream",
     "text": [
      "95 AACT\n"
     ]
    },
    {
     "name": "stderr",
     "output_type": "stream",
     "text": [
      "\n",
      "[*********************100%%**********************]  1 of 1 completed"
     ]
    },
    {
     "name": "stdout",
     "output_type": "stream",
     "text": [
      "96 JYD\n"
     ]
    },
    {
     "name": "stderr",
     "output_type": "stream",
     "text": [
      "\n",
      "[*********************100%%**********************]  1 of 1 completed"
     ]
    },
    {
     "name": "stdout",
     "output_type": "stream",
     "text": [
      "97 USGO\n"
     ]
    },
    {
     "name": "stderr",
     "output_type": "stream",
     "text": [
      "\n"
     ]
    },
    {
     "name": "stdout",
     "output_type": "stream",
     "text": [
      "98 UCAR\n"
     ]
    },
    {
     "name": "stderr",
     "output_type": "stream",
     "text": [
      "[*********************100%%**********************]  1 of 1 completed\n",
      "[*********************100%%**********************]  1 of 1 completed"
     ]
    },
    {
     "name": "stdout",
     "output_type": "stream",
     "text": [
      "99 WLGS\n"
     ]
    },
    {
     "name": "stderr",
     "output_type": "stream",
     "text": [
      "\n",
      "[*********************100%%**********************]  1 of 1 completed"
     ]
    },
    {
     "name": "stdout",
     "output_type": "stream",
     "text": [
      "100 TPET\n"
     ]
    },
    {
     "name": "stderr",
     "output_type": "stream",
     "text": [
      "\n",
      "[*********************100%%**********************]  1 of 1 completed"
     ]
    },
    {
     "name": "stdout",
     "output_type": "stream",
     "text": [
      "101 TCJH\n"
     ]
    },
    {
     "name": "stderr",
     "output_type": "stream",
     "text": [
      "\n",
      "[*********************100%%**********************]  1 of 1 completed"
     ]
    },
    {
     "name": "stdout",
     "output_type": "stream",
     "text": [
      "102 GDTC\n"
     ]
    },
    {
     "name": "stderr",
     "output_type": "stream",
     "text": [
      "\n",
      "[*********************100%%**********************]  1 of 1 completed"
     ]
    },
    {
     "name": "stdout",
     "output_type": "stream",
     "text": [
      "103 VCIG\n"
     ]
    },
    {
     "name": "stderr",
     "output_type": "stream",
     "text": [
      "\n",
      "[*********************100%%**********************]  1 of 1 completed"
     ]
    },
    {
     "name": "stdout",
     "output_type": "stream",
     "text": [
      "104 GDHG\n"
     ]
    },
    {
     "name": "stderr",
     "output_type": "stream",
     "text": [
      "\n",
      "[*********************100%%**********************]  1 of 1 completed"
     ]
    },
    {
     "name": "stdout",
     "output_type": "stream",
     "text": [
      "105 ARBB\n"
     ]
    },
    {
     "name": "stderr",
     "output_type": "stream",
     "text": [
      "\n",
      "[*********************100%%**********************]  1 of 1 completed"
     ]
    },
    {
     "name": "stdout",
     "output_type": "stream",
     "text": [
      "106 ISPR\n"
     ]
    },
    {
     "name": "stderr",
     "output_type": "stream",
     "text": [
      "\n",
      "[*********************100%%**********************]  1 of 1 completed"
     ]
    },
    {
     "name": "stdout",
     "output_type": "stream",
     "text": [
      "107 MGIH\n"
     ]
    },
    {
     "name": "stderr",
     "output_type": "stream",
     "text": [
      "\n",
      "[*********************100%%**********************]  1 of 1 completed"
     ]
    },
    {
     "name": "stdout",
     "output_type": "stream",
     "text": [
      "108 MWG\n"
     ]
    },
    {
     "name": "stderr",
     "output_type": "stream",
     "text": [
      "\n",
      "[*********************100%%**********************]  1 of 1 completed"
     ]
    },
    {
     "name": "stdout",
     "output_type": "stream",
     "text": [
      "109 HSHP\n"
     ]
    },
    {
     "name": "stderr",
     "output_type": "stream",
     "text": [
      "\n",
      "[*********************100%%**********************]  1 of 1 completed"
     ]
    },
    {
     "name": "stdout",
     "output_type": "stream",
     "text": [
      "110 SFWL\n"
     ]
    },
    {
     "name": "stderr",
     "output_type": "stream",
     "text": [
      "\n",
      "[*********************100%%**********************]  1 of 1 completed"
     ]
    },
    {
     "name": "stdout",
     "output_type": "stream",
     "text": [
      "111 SYT\n"
     ]
    },
    {
     "name": "stderr",
     "output_type": "stream",
     "text": [
      "\n",
      "[*********************100%%**********************]  1 of 1 completed"
     ]
    },
    {
     "name": "stdout",
     "output_type": "stream",
     "text": [
      "112 HKIT\n"
     ]
    },
    {
     "name": "stderr",
     "output_type": "stream",
     "text": [
      "\n",
      "[*********************100%%**********************]  1 of 1 completed"
     ]
    },
    {
     "name": "stdout",
     "output_type": "stream",
     "text": [
      "113 CHSN\n"
     ]
    },
    {
     "name": "stderr",
     "output_type": "stream",
     "text": [
      "\n",
      "[*********************100%%**********************]  1 of 1 completed"
     ]
    },
    {
     "name": "stdout",
     "output_type": "stream",
     "text": [
      "114 TBMC\n"
     ]
    },
    {
     "name": "stderr",
     "output_type": "stream",
     "text": [
      "\n",
      "[*********************100%%**********************]  1 of 1 completed"
     ]
    },
    {
     "name": "stdout",
     "output_type": "stream",
     "text": [
      "115 HLP\n"
     ]
    },
    {
     "name": "stderr",
     "output_type": "stream",
     "text": [
      "\n",
      "[*********************100%%**********************]  1 of 1 completed"
     ]
    },
    {
     "name": "stdout",
     "output_type": "stream",
     "text": [
      "116 ZJYL\n"
     ]
    },
    {
     "name": "stderr",
     "output_type": "stream",
     "text": [
      "\n",
      "[*********************100%%**********************]  1 of 1 completed"
     ]
    },
    {
     "name": "stdout",
     "output_type": "stream",
     "text": [
      "117 TMTC\n"
     ]
    },
    {
     "name": "stderr",
     "output_type": "stream",
     "text": [
      "\n"
     ]
    },
    {
     "name": "stdout",
     "output_type": "stream",
     "text": [
      "118 YGFGF\n"
     ]
    },
    {
     "name": "stderr",
     "output_type": "stream",
     "text": [
      "[*********************100%%**********************]  1 of 1 completed\n",
      "[*********************100%%**********************]  1 of 1 completed"
     ]
    },
    {
     "name": "stdout",
     "output_type": "stream",
     "text": [
      "119 OAKU\n"
     ]
    },
    {
     "name": "stderr",
     "output_type": "stream",
     "text": [
      "\n",
      "[*********************100%%**********************]  1 of 1 completed"
     ]
    },
    {
     "name": "stdout",
     "output_type": "stream",
     "text": [
      "120 BANL\n"
     ]
    },
    {
     "name": "stderr",
     "output_type": "stream",
     "text": [
      "\n",
      "[*********************100%%**********************]  1 of 1 completed"
     ]
    },
    {
     "name": "stdout",
     "output_type": "stream",
     "text": [
      "121 OMH\n"
     ]
    },
    {
     "name": "stderr",
     "output_type": "stream",
     "text": [
      "\n"
     ]
    },
    {
     "name": "stdout",
     "output_type": "stream",
     "text": [
      "122 MGRX\n"
     ]
    },
    {
     "name": "stderr",
     "output_type": "stream",
     "text": [
      "[*********************100%%**********************]  1 of 1 completed\n",
      "[*********************100%%**********************]  1 of 1 completed"
     ]
    },
    {
     "name": "stdout",
     "output_type": "stream",
     "text": [
      "123 FORL\n"
     ]
    },
    {
     "name": "stderr",
     "output_type": "stream",
     "text": [
      "\n",
      "[*********************100%%**********************]  1 of 1 completed"
     ]
    },
    {
     "name": "stdout",
     "output_type": "stream",
     "text": [
      "124 ICG\n"
     ]
    },
    {
     "name": "stderr",
     "output_type": "stream",
     "text": [
      "\n",
      "[*********************100%%**********************]  1 of 1 completed"
     ]
    },
    {
     "name": "stdout",
     "output_type": "stream",
     "text": [
      "125 IZM\n"
     ]
    },
    {
     "name": "stderr",
     "output_type": "stream",
     "text": [
      "\n",
      "[*********************100%%**********************]  1 of 1 completed"
     ]
    },
    {
     "name": "stdout",
     "output_type": "stream",
     "text": [
      "126 AESI\n"
     ]
    },
    {
     "name": "stderr",
     "output_type": "stream",
     "text": [
      "\n",
      "[*********************100%%**********************]  1 of 1 completed"
     ]
    },
    {
     "name": "stdout",
     "output_type": "stream",
     "text": [
      "127 AIXI\n"
     ]
    },
    {
     "name": "stderr",
     "output_type": "stream",
     "text": [
      "\n",
      "[*********************100%%**********************]  1 of 1 completed"
     ]
    },
    {
     "name": "stdout",
     "output_type": "stream",
     "text": [
      "128 SBXC\n"
     ]
    },
    {
     "name": "stderr",
     "output_type": "stream",
     "text": [
      "\n",
      "[*********************100%%**********************]  1 of 1 completed"
     ]
    },
    {
     "name": "stdout",
     "output_type": "stream",
     "text": [
      "129 BMR\n"
     ]
    },
    {
     "name": "stderr",
     "output_type": "stream",
     "text": [
      "\n",
      "[*********************100%%**********************]  1 of 1 completed"
     ]
    },
    {
     "name": "stdout",
     "output_type": "stream",
     "text": [
      "130 DIST\n"
     ]
    },
    {
     "name": "stderr",
     "output_type": "stream",
     "text": [
      "\n",
      "[*********************100%%**********************]  1 of 1 completed"
     ]
    },
    {
     "name": "stdout",
     "output_type": "stream",
     "text": [
      "131 GXAI\n"
     ]
    },
    {
     "name": "stderr",
     "output_type": "stream",
     "text": [
      "\n",
      "[*********************100%%**********************]  1 of 1 completed"
     ]
    },
    {
     "name": "stdout",
     "output_type": "stream",
     "text": [
      "132 MARX\n"
     ]
    },
    {
     "name": "stderr",
     "output_type": "stream",
     "text": [
      "\n",
      "[*********************100%%**********************]  1 of 1 completed"
     ]
    },
    {
     "name": "stdout",
     "output_type": "stream",
     "text": [
      "133 BFRG\n"
     ]
    },
    {
     "name": "stderr",
     "output_type": "stream",
     "text": [
      "\n",
      "[*********************100%%**********************]  1 of 1 completed"
     ]
    },
    {
     "name": "stdout",
     "output_type": "stream",
     "text": [
      "134 ENLT\n"
     ]
    },
    {
     "name": "stderr",
     "output_type": "stream",
     "text": [
      "\n",
      "[*********************100%%**********************]  1 of 1 completed"
     ]
    },
    {
     "name": "stdout",
     "output_type": "stream",
     "text": [
      "135 MLYS\n"
     ]
    },
    {
     "name": "stderr",
     "output_type": "stream",
     "text": [
      "\n"
     ]
    },
    {
     "name": "stdout",
     "output_type": "stream",
     "text": [
      "136 PTHR\n"
     ]
    },
    {
     "name": "stderr",
     "output_type": "stream",
     "text": [
      "[*********************100%%**********************]  1 of 1 completed\n",
      "\n",
      "1 Failed download:\n",
      "['PTHR']: Exception('%ticker%: No timezone found, symbol may be delisted')\n",
      "[*********************100%%**********************]  1 of 1 completed\n"
     ]
    },
    {
     "name": "stdout",
     "output_type": "stream",
     "text": [
      "PTHR, failed\n",
      "137 BLAC\n"
     ]
    },
    {
     "name": "stderr",
     "output_type": "stream",
     "text": [
      "[*********************100%%**********************]  1 of 1 completed"
     ]
    },
    {
     "name": "stdout",
     "output_type": "stream",
     "text": [
      "138 NXT\n"
     ]
    },
    {
     "name": "stderr",
     "output_type": "stream",
     "text": [
      "\n",
      "[*********************100%%**********************]  1 of 1 completed"
     ]
    },
    {
     "name": "stdout",
     "output_type": "stream",
     "text": [
      "139 HSAI\n"
     ]
    },
    {
     "name": "stderr",
     "output_type": "stream",
     "text": [
      "\n",
      "[*********************100%%**********************]  1 of 1 completed"
     ]
    },
    {
     "name": "stdout",
     "output_type": "stream",
     "text": [
      "140 LSDI\n"
     ]
    },
    {
     "name": "stderr",
     "output_type": "stream",
     "text": [
      "\n",
      "[*********************100%%**********************]  1 of 1 completed"
     ]
    },
    {
     "name": "stdout",
     "output_type": "stream",
     "text": [
      "141 LICN\n"
     ]
    },
    {
     "name": "stderr",
     "output_type": "stream",
     "text": [
      "\n",
      "[*********************100%%**********************]  1 of 1 completed"
     ]
    },
    {
     "name": "stdout",
     "output_type": "stream",
     "text": [
      "142 GPCR\n"
     ]
    },
    {
     "name": "stderr",
     "output_type": "stream",
     "text": [
      "\n",
      "[*********************100%%**********************]  1 of 1 completed"
     ]
    },
    {
     "name": "stdout",
     "output_type": "stream",
     "text": [
      "143 ASST\n"
     ]
    },
    {
     "name": "stderr",
     "output_type": "stream",
     "text": [
      "\n",
      "[*********************100%%**********************]  1 of 1 completed"
     ]
    },
    {
     "name": "stdout",
     "output_type": "stream",
     "text": [
      "144 CETU\n"
     ]
    },
    {
     "name": "stderr",
     "output_type": "stream",
     "text": [
      "\n",
      "[*********************100%%**********************]  1 of 1 completed"
     ]
    },
    {
     "name": "stdout",
     "output_type": "stream",
     "text": [
      "145 TXO\n"
     ]
    },
    {
     "name": "stderr",
     "output_type": "stream",
     "text": [
      "\n",
      "[*********************100%%**********************]  1 of 1 completed"
     ]
    },
    {
     "name": "stdout",
     "output_type": "stream",
     "text": [
      "146 BREA\n"
     ]
    },
    {
     "name": "stderr",
     "output_type": "stream",
     "text": [
      "\n",
      "[*********************100%%**********************]  1 of 1 completed"
     ]
    },
    {
     "name": "stdout",
     "output_type": "stream",
     "text": [
      "147 GNLX\n"
     ]
    },
    {
     "name": "stderr",
     "output_type": "stream",
     "text": [
      "\n",
      "[*********************100%%**********************]  1 of 1 completed"
     ]
    },
    {
     "name": "stdout",
     "output_type": "stream",
     "text": [
      "148 QSG\n"
     ]
    },
    {
     "name": "stderr",
     "output_type": "stream",
     "text": [
      "\n",
      "[*********************100%%**********************]  1 of 1 completed"
     ]
    },
    {
     "name": "stdout",
     "output_type": "stream",
     "text": [
      "149 CVKD\n"
     ]
    },
    {
     "name": "stderr",
     "output_type": "stream",
     "text": [
      "\n",
      "[*********************100%%**********************]  1 of 1 completed"
     ]
    },
    {
     "name": "stdout",
     "output_type": "stream",
     "text": [
      "150 SKWD\n"
     ]
    },
    {
     "name": "stderr",
     "output_type": "stream",
     "text": [
      "\n",
      "[*********************100%%**********************]  1 of 1 completed"
     ]
    },
    {
     "name": "stdout",
     "output_type": "stream",
     "text": [
      "151 ISRL\n"
     ]
    },
    {
     "name": "stderr",
     "output_type": "stream",
     "text": [
      "\n",
      "[*********************100%%**********************]  1 of 1 completed"
     ]
    },
    {
     "name": "stdout",
     "output_type": "stream",
     "text": [
      "152 MGOL\n"
     ]
    },
    {
     "name": "stderr",
     "output_type": "stream",
     "text": [
      "\n",
      "[*********************100%%**********************]  1 of 1 completed"
     ]
    },
    {
     "name": "stdout",
     "output_type": "stream",
     "text": [
      "153 SMXT\n"
     ]
    },
    {
     "name": "stderr",
     "output_type": "stream",
     "text": [
      "\n",
      "[*********************100%%**********************]  1 of 1 completed"
     ]
    },
    {
     "name": "stdout",
     "output_type": "stream",
     "text": [
      "154 VHAI\n"
     ]
    },
    {
     "name": "stderr",
     "output_type": "stream",
     "text": [
      "\n",
      "[*********************100%%**********************]  1 of 1 completed"
     ]
    },
    {
     "name": "stdout",
     "output_type": "stream",
     "text": [
      "155 DYCQ\n"
     ]
    },
    {
     "name": "stderr",
     "output_type": "stream",
     "text": [
      "\n",
      "[*********************100%%**********************]  1 of 1 completed"
     ]
    },
    {
     "name": "stdout",
     "output_type": "stream",
     "text": [
      "156 CHRO\n"
     ]
    },
    {
     "name": "stderr",
     "output_type": "stream",
     "text": [
      "\n",
      "[*********************100%%**********************]  1 of 1 completed"
     ]
    },
    {
     "name": "stdout",
     "output_type": "stream",
     "text": [
      "157 UMAC\n"
     ]
    },
    {
     "name": "stderr",
     "output_type": "stream",
     "text": [
      "\n",
      "[*********************100%%**********************]  1 of 1 completed"
     ]
    },
    {
     "name": "stdout",
     "output_type": "stream",
     "text": [
      "158 TBBB\n"
     ]
    },
    {
     "name": "stderr",
     "output_type": "stream",
     "text": [
      "\n",
      "[*********************100%%**********************]  1 of 1 completed"
     ]
    },
    {
     "name": "stdout",
     "output_type": "stream",
     "text": [
      "159 MGX\n"
     ]
    },
    {
     "name": "stderr",
     "output_type": "stream",
     "text": [
      "\n",
      "[*********************100%%**********************]  1 of 1 completed"
     ]
    },
    {
     "name": "stdout",
     "output_type": "stream",
     "text": [
      "160 HLXB\n"
     ]
    },
    {
     "name": "stderr",
     "output_type": "stream",
     "text": [
      "\n"
     ]
    },
    {
     "name": "stdout",
     "output_type": "stream",
     "text": [
      "161 TELO\n"
     ]
    },
    {
     "name": "stderr",
     "output_type": "stream",
     "text": [
      "[*********************100%%**********************]  1 of 1 completed\n",
      "[*********************100%%**********************]  1 of 1 completed"
     ]
    },
    {
     "name": "stdout",
     "output_type": "stream",
     "text": [
      "162 KYTX\n"
     ]
    },
    {
     "name": "stderr",
     "output_type": "stream",
     "text": [
      "\n",
      "[*********************100%%**********************]  1 of 1 completed"
     ]
    },
    {
     "name": "stdout",
     "output_type": "stream",
     "text": [
      "163 PMNT\n"
     ]
    },
    {
     "name": "stderr",
     "output_type": "stream",
     "text": [
      "\n",
      "[*********************100%%**********************]  1 of 1 completed"
     ]
    },
    {
     "name": "stdout",
     "output_type": "stream",
     "text": [
      "164 AHR\n"
     ]
    },
    {
     "name": "stderr",
     "output_type": "stream",
     "text": [
      "\n",
      "[*********************100%%**********************]  1 of 1 completed"
     ]
    },
    {
     "name": "stdout",
     "output_type": "stream",
     "text": [
      "165 LEGT\n"
     ]
    },
    {
     "name": "stderr",
     "output_type": "stream",
     "text": [
      "\n",
      "[*********************100%%**********************]  1 of 1 completed"
     ]
    },
    {
     "name": "stdout",
     "output_type": "stream",
     "text": [
      "166 ANRO\n"
     ]
    },
    {
     "name": "stderr",
     "output_type": "stream",
     "text": [
      "\n",
      "[*********************100%%**********************]  1 of 1 completed"
     ]
    },
    {
     "name": "stdout",
     "output_type": "stream",
     "text": [
      "167 GUTS\n"
     ]
    },
    {
     "name": "stderr",
     "output_type": "stream",
     "text": [
      "\n",
      "[*********************100%%**********************]  1 of 1 completed"
     ]
    },
    {
     "name": "stdout",
     "output_type": "stream",
     "text": [
      "168 AS\n"
     ]
    },
    {
     "name": "stderr",
     "output_type": "stream",
     "text": [
      "\n",
      "[*********************100%%**********************]  1 of 1 completed"
     ]
    },
    {
     "name": "stdout",
     "output_type": "stream",
     "text": [
      "169 FBLG\n"
     ]
    },
    {
     "name": "stderr",
     "output_type": "stream",
     "text": [
      "\n",
      "[*********************100%%**********************]  1 of 1 completed"
     ]
    },
    {
     "name": "stdout",
     "output_type": "stream",
     "text": [
      "170 BTSG\n"
     ]
    },
    {
     "name": "stderr",
     "output_type": "stream",
     "text": [
      "\n",
      "[*********************100%%**********************]  1 of 1 completed"
     ]
    },
    {
     "name": "stdout",
     "output_type": "stream",
     "text": [
      "171 AVBP\n"
     ]
    },
    {
     "name": "stderr",
     "output_type": "stream",
     "text": [
      "\n",
      "[*********************100%%**********************]  1 of 1 completed"
     ]
    },
    {
     "name": "stdout",
     "output_type": "stream",
     "text": [
      "172 HAO\n"
     ]
    },
    {
     "name": "stderr",
     "output_type": "stream",
     "text": [
      "\n",
      "[*********************100%%**********************]  1 of 1 completed"
     ]
    },
    {
     "name": "stdout",
     "output_type": "stream",
     "text": [
      "173 CGON\n"
     ]
    },
    {
     "name": "stderr",
     "output_type": "stream",
     "text": [
      "\n",
      "[*********************100%%**********************]  1 of 1 completed"
     ]
    },
    {
     "name": "stdout",
     "output_type": "stream",
     "text": [
      "174 YIBO\n"
     ]
    },
    {
     "name": "stderr",
     "output_type": "stream",
     "text": [
      "\n",
      "[*********************100%%**********************]  1 of 1 completed"
     ]
    },
    {
     "name": "stdout",
     "output_type": "stream",
     "text": [
      "175 SUGP\n"
     ]
    },
    {
     "name": "stderr",
     "output_type": "stream",
     "text": [
      "\n",
      "[*********************100%%**********************]  1 of 1 completed"
     ]
    },
    {
     "name": "stdout",
     "output_type": "stream",
     "text": [
      "176 JL\n"
     ]
    },
    {
     "name": "stderr",
     "output_type": "stream",
     "text": [
      "\n",
      "[*********************100%%**********************]  1 of 1 completed"
     ]
    },
    {
     "name": "stdout",
     "output_type": "stream",
     "text": [
      "177 KSPI\n"
     ]
    },
    {
     "name": "stderr",
     "output_type": "stream",
     "text": [
      "\n",
      "[*********************100%%**********************]  1 of 1 completed"
     ]
    },
    {
     "name": "stdout",
     "output_type": "stream",
     "text": [
      "178 JVSA\n"
     ]
    },
    {
     "name": "stderr",
     "output_type": "stream",
     "text": [
      "\n",
      "[*********************100%%**********************]  1 of 1 completed"
     ]
    },
    {
     "name": "stdout",
     "output_type": "stream",
     "text": [
      "179 PSBD\n"
     ]
    },
    {
     "name": "stderr",
     "output_type": "stream",
     "text": [
      "\n",
      "[*********************100%%**********************]  1 of 1 completed"
     ]
    },
    {
     "name": "stdout",
     "output_type": "stream",
     "text": [
      "180 CCTG\n"
     ]
    },
    {
     "name": "stderr",
     "output_type": "stream",
     "text": [
      "\n",
      "[*********************100%%**********************]  1 of 1 completed"
     ]
    },
    {
     "name": "stdout",
     "output_type": "stream",
     "text": [
      "181 SYNX\n"
     ]
    },
    {
     "name": "stderr",
     "output_type": "stream",
     "text": [
      "\n",
      "[*********************100%%**********************]  1 of 1 completed"
     ]
    },
    {
     "name": "stdout",
     "output_type": "stream",
     "text": [
      "182 SDHC\n"
     ]
    },
    {
     "name": "stderr",
     "output_type": "stream",
     "text": [
      "\n",
      "[*********************100%%**********************]  1 of 1 completed"
     ]
    },
    {
     "name": "stdout",
     "output_type": "stream",
     "text": [
      "183 ROMA\n"
     ]
    },
    {
     "name": "stderr",
     "output_type": "stream",
     "text": [
      "\n"
     ]
    }
   ],
   "source": [
    "import time\n",
    "\n",
    "stocks_df = pd.DataFrame({'A' : []})\n",
    "\n",
    "for i,ticker in enumerate(tickers_list):\n",
    "  try:\n",
    "    print(i,ticker)\n",
    "\n",
    "    # Work with stock prices\n",
    "    historyPrices = yf.download(tickers = ticker,\n",
    "                      period = \"max\",\n",
    "                      interval = \"1d\")\n",
    "\n",
    "    # generate features for historical prices, and what we want to predict\n",
    "    historyPrices['Ticker'] = ticker\n",
    "    historyPrices['Year']= historyPrices.index.year\n",
    "    historyPrices['Month'] = historyPrices.index.month\n",
    "    historyPrices['Weekday'] = historyPrices.index.weekday\n",
    "    historyPrices['Date'] = historyPrices.index.date\n",
    "\n",
    "    # historical returns\n",
    "    for i in range(1, 31):\n",
    "      historyPrices['growth_'+str(i)+'d'] = historyPrices['Adj Close'] / historyPrices['Adj Close'].shift(i)\n",
    "    historyPrices['growth_future_5d'] = historyPrices['Adj Close'].shift(-5) / historyPrices['Adj Close']\n",
    "\n",
    "    # Technical indicators\n",
    "    # SimpleMovingAverage 10 days and 20 days\n",
    "    historyPrices['SMA10']= historyPrices['Close'].rolling(10).mean()\n",
    "    historyPrices['SMA20']= historyPrices['Close'].rolling(20).mean()\n",
    "    historyPrices['growing_moving_average'] = np.where(historyPrices['SMA10'] > historyPrices['SMA20'], 1, 0)\n",
    "    historyPrices['high_minus_low_relative'] = (historyPrices.High - historyPrices.Low) / historyPrices['Adj Close']\n",
    "\n",
    "    # 30d rolling volatility : https://ycharts.com/glossary/terms/rolling_vol_30\n",
    "    historyPrices['volatility'] =   historyPrices['Adj Close'].rolling(30).std() * np.sqrt(252)\n",
    "\n",
    "    # what we want to predict\n",
    "    historyPrices['is_positive_growth_5d_future'] = np.where(historyPrices['growth_future_5d'] > 1, 1, 0)\n",
    "\n",
    "    # sleep 1 sec between downloads - not to overload the API server\n",
    "    time.sleep(1)\n",
    "\n",
    "\n",
    "    if stocks_df.empty:\n",
    "      stocks_df = historyPrices\n",
    "    else:\n",
    "      stocks_df = pd.concat([stocks_df, historyPrices], ignore_index=True)\n",
    "  except:\n",
    "    print(f\"{ticker}, failed\") \n",
    "    continue"
   ]
  },
  {
   "cell_type": "code",
   "execution_count": 14,
   "metadata": {},
   "outputs": [
    {
     "data": {
      "text/plain": [
       "183"
      ]
     },
     "execution_count": 14,
     "metadata": {},
     "output_type": "execute_result"
    }
   ],
   "source": [
    "len(stocks_df[\"Ticker\"].unique())"
   ]
  },
  {
   "cell_type": "code",
   "execution_count": 15,
   "metadata": {},
   "outputs": [
    {
     "data": {
      "text/plain": [
       "Index(['Open', 'High', 'Low', 'Close', 'Adj Close', 'Volume', 'Ticker', 'Year',\n",
       "       'Month', 'Weekday', 'Date', 'growth_1d', 'growth_2d', 'growth_3d',\n",
       "       'growth_4d', 'growth_5d', 'growth_6d', 'growth_7d', 'growth_8d',\n",
       "       'growth_9d', 'growth_10d', 'growth_11d', 'growth_12d', 'growth_13d',\n",
       "       'growth_14d', 'growth_15d', 'growth_16d', 'growth_17d', 'growth_18d',\n",
       "       'growth_19d', 'growth_20d', 'growth_21d', 'growth_22d', 'growth_23d',\n",
       "       'growth_24d', 'growth_25d', 'growth_26d', 'growth_27d', 'growth_28d',\n",
       "       'growth_29d', 'growth_30d', 'growth_future_5d', 'SMA10', 'SMA20',\n",
       "       'growing_moving_average', 'high_minus_low_relative', 'volatility',\n",
       "       'is_positive_growth_5d_future'],\n",
       "      dtype='object')"
      ]
     },
     "execution_count": 15,
     "metadata": {},
     "output_type": "execute_result"
    }
   ],
   "source": [
    "stocks_df.columns"
   ]
  },
  {
   "cell_type": "code",
   "execution_count": 16,
   "metadata": {},
   "outputs": [
    {
     "data": {
      "text/html": [
       "<div>\n",
       "<style scoped>\n",
       "    .dataframe tbody tr th:only-of-type {\n",
       "        vertical-align: middle;\n",
       "    }\n",
       "\n",
       "    .dataframe tbody tr th {\n",
       "        vertical-align: top;\n",
       "    }\n",
       "\n",
       "    .dataframe thead th {\n",
       "        text-align: right;\n",
       "    }\n",
       "</style>\n",
       "<table border=\"1\" class=\"dataframe\">\n",
       "  <thead>\n",
       "    <tr style=\"text-align: right;\">\n",
       "      <th></th>\n",
       "      <th>count</th>\n",
       "      <th>mean</th>\n",
       "      <th>std</th>\n",
       "      <th>min</th>\n",
       "      <th>25%</th>\n",
       "      <th>50%</th>\n",
       "      <th>75%</th>\n",
       "      <th>max</th>\n",
       "    </tr>\n",
       "  </thead>\n",
       "  <tbody>\n",
       "    <tr>\n",
       "      <th>growth_1d</th>\n",
       "      <td>37488.0</td>\n",
       "      <td>0.999639</td>\n",
       "      <td>0.095695</td>\n",
       "      <td>0.028674</td>\n",
       "      <td>0.977502</td>\n",
       "      <td>1.000000</td>\n",
       "      <td>1.014986</td>\n",
       "      <td>6.826923</td>\n",
       "    </tr>\n",
       "    <tr>\n",
       "      <th>growth_2d</th>\n",
       "      <td>37305.0</td>\n",
       "      <td>0.999497</td>\n",
       "      <td>0.135012</td>\n",
       "      <td>0.003584</td>\n",
       "      <td>0.966334</td>\n",
       "      <td>1.000000</td>\n",
       "      <td>1.020376</td>\n",
       "      <td>6.971311</td>\n",
       "    </tr>\n",
       "    <tr>\n",
       "      <th>growth_3d</th>\n",
       "      <td>37122.0</td>\n",
       "      <td>0.999460</td>\n",
       "      <td>0.165957</td>\n",
       "      <td>0.002729</td>\n",
       "      <td>0.957447</td>\n",
       "      <td>1.000000</td>\n",
       "      <td>1.025434</td>\n",
       "      <td>7.625593</td>\n",
       "    </tr>\n",
       "    <tr>\n",
       "      <th>growth_4d</th>\n",
       "      <td>36939.0</td>\n",
       "      <td>0.999358</td>\n",
       "      <td>0.190588</td>\n",
       "      <td>0.002729</td>\n",
       "      <td>0.949395</td>\n",
       "      <td>1.000000</td>\n",
       "      <td>1.028572</td>\n",
       "      <td>8.650538</td>\n",
       "    </tr>\n",
       "    <tr>\n",
       "      <th>growth_5d</th>\n",
       "      <td>36756.0</td>\n",
       "      <td>0.999353</td>\n",
       "      <td>0.214873</td>\n",
       "      <td>0.002729</td>\n",
       "      <td>0.941731</td>\n",
       "      <td>1.000000</td>\n",
       "      <td>1.032028</td>\n",
       "      <td>8.952632</td>\n",
       "    </tr>\n",
       "    <tr>\n",
       "      <th>growth_6d</th>\n",
       "      <td>36573.0</td>\n",
       "      <td>0.999450</td>\n",
       "      <td>0.239422</td>\n",
       "      <td>0.002729</td>\n",
       "      <td>0.934233</td>\n",
       "      <td>1.000000</td>\n",
       "      <td>1.034401</td>\n",
       "      <td>10.309092</td>\n",
       "    </tr>\n",
       "    <tr>\n",
       "      <th>growth_7d</th>\n",
       "      <td>36390.0</td>\n",
       "      <td>0.999254</td>\n",
       "      <td>0.257159</td>\n",
       "      <td>0.002729</td>\n",
       "      <td>0.927273</td>\n",
       "      <td>1.000000</td>\n",
       "      <td>1.036093</td>\n",
       "      <td>10.183544</td>\n",
       "    </tr>\n",
       "    <tr>\n",
       "      <th>growth_8d</th>\n",
       "      <td>36207.0</td>\n",
       "      <td>0.999170</td>\n",
       "      <td>0.275428</td>\n",
       "      <td>0.002729</td>\n",
       "      <td>0.920705</td>\n",
       "      <td>1.000000</td>\n",
       "      <td>1.039282</td>\n",
       "      <td>10.380646</td>\n",
       "    </tr>\n",
       "    <tr>\n",
       "      <th>growth_9d</th>\n",
       "      <td>36024.0</td>\n",
       "      <td>0.999104</td>\n",
       "      <td>0.294361</td>\n",
       "      <td>0.002729</td>\n",
       "      <td>0.913761</td>\n",
       "      <td>1.000000</td>\n",
       "      <td>1.040977</td>\n",
       "      <td>9.464706</td>\n",
       "    </tr>\n",
       "    <tr>\n",
       "      <th>growth_10d</th>\n",
       "      <td>35841.0</td>\n",
       "      <td>0.998983</td>\n",
       "      <td>0.311944</td>\n",
       "      <td>0.002729</td>\n",
       "      <td>0.907093</td>\n",
       "      <td>1.000000</td>\n",
       "      <td>1.042984</td>\n",
       "      <td>9.105319</td>\n",
       "    </tr>\n",
       "    <tr>\n",
       "      <th>growth_11d</th>\n",
       "      <td>35658.0</td>\n",
       "      <td>0.998797</td>\n",
       "      <td>0.326387</td>\n",
       "      <td>0.002729</td>\n",
       "      <td>0.900932</td>\n",
       "      <td>0.999748</td>\n",
       "      <td>1.043806</td>\n",
       "      <td>9.354651</td>\n",
       "    </tr>\n",
       "    <tr>\n",
       "      <th>growth_12d</th>\n",
       "      <td>35475.0</td>\n",
       "      <td>0.998427</td>\n",
       "      <td>0.338863</td>\n",
       "      <td>0.002729</td>\n",
       "      <td>0.895173</td>\n",
       "      <td>0.999052</td>\n",
       "      <td>1.045053</td>\n",
       "      <td>9.634731</td>\n",
       "    </tr>\n",
       "    <tr>\n",
       "      <th>growth_13d</th>\n",
       "      <td>35292.0</td>\n",
       "      <td>0.997755</td>\n",
       "      <td>0.348772</td>\n",
       "      <td>0.002729</td>\n",
       "      <td>0.889027</td>\n",
       "      <td>0.999035</td>\n",
       "      <td>1.046665</td>\n",
       "      <td>10.380646</td>\n",
       "    </tr>\n",
       "    <tr>\n",
       "      <th>growth_14d</th>\n",
       "      <td>35109.0</td>\n",
       "      <td>0.996997</td>\n",
       "      <td>0.357893</td>\n",
       "      <td>0.002729</td>\n",
       "      <td>0.882526</td>\n",
       "      <td>0.998789</td>\n",
       "      <td>1.047468</td>\n",
       "      <td>11.330986</td>\n",
       "    </tr>\n",
       "    <tr>\n",
       "      <th>growth_15d</th>\n",
       "      <td>34926.0</td>\n",
       "      <td>0.996366</td>\n",
       "      <td>0.367865</td>\n",
       "      <td>0.002729</td>\n",
       "      <td>0.875310</td>\n",
       "      <td>0.998309</td>\n",
       "      <td>1.048936</td>\n",
       "      <td>10.585527</td>\n",
       "    </tr>\n",
       "    <tr>\n",
       "      <th>growth_16d</th>\n",
       "      <td>34743.0</td>\n",
       "      <td>0.995793</td>\n",
       "      <td>0.378975</td>\n",
       "      <td>0.002729</td>\n",
       "      <td>0.869277</td>\n",
       "      <td>0.998011</td>\n",
       "      <td>1.050307</td>\n",
       "      <td>10.740988</td>\n",
       "    </tr>\n",
       "    <tr>\n",
       "      <th>growth_17d</th>\n",
       "      <td>34560.0</td>\n",
       "      <td>0.995264</td>\n",
       "      <td>0.389822</td>\n",
       "      <td>0.002729</td>\n",
       "      <td>0.862697</td>\n",
       "      <td>0.997573</td>\n",
       "      <td>1.051935</td>\n",
       "      <td>11.411348</td>\n",
       "    </tr>\n",
       "    <tr>\n",
       "      <th>growth_18d</th>\n",
       "      <td>34377.0</td>\n",
       "      <td>0.994816</td>\n",
       "      <td>0.399987</td>\n",
       "      <td>0.002729</td>\n",
       "      <td>0.856164</td>\n",
       "      <td>0.997159</td>\n",
       "      <td>1.052891</td>\n",
       "      <td>11.096551</td>\n",
       "    </tr>\n",
       "    <tr>\n",
       "      <th>growth_19d</th>\n",
       "      <td>34194.0</td>\n",
       "      <td>0.994579</td>\n",
       "      <td>0.410835</td>\n",
       "      <td>0.002729</td>\n",
       "      <td>0.851615</td>\n",
       "      <td>0.997101</td>\n",
       "      <td>1.054054</td>\n",
       "      <td>10.726667</td>\n",
       "    </tr>\n",
       "    <tr>\n",
       "      <th>growth_20d</th>\n",
       "      <td>34012.0</td>\n",
       "      <td>0.994388</td>\n",
       "      <td>0.421681</td>\n",
       "      <td>0.002729</td>\n",
       "      <td>0.846154</td>\n",
       "      <td>0.996435</td>\n",
       "      <td>1.055663</td>\n",
       "      <td>11.575540</td>\n",
       "    </tr>\n",
       "    <tr>\n",
       "      <th>growth_21d</th>\n",
       "      <td>33830.0</td>\n",
       "      <td>0.994029</td>\n",
       "      <td>0.431593</td>\n",
       "      <td>0.002729</td>\n",
       "      <td>0.840243</td>\n",
       "      <td>0.996255</td>\n",
       "      <td>1.057622</td>\n",
       "      <td>12.634409</td>\n",
       "    </tr>\n",
       "    <tr>\n",
       "      <th>growth_22d</th>\n",
       "      <td>33648.0</td>\n",
       "      <td>0.993689</td>\n",
       "      <td>0.441964</td>\n",
       "      <td>0.002729</td>\n",
       "      <td>0.835464</td>\n",
       "      <td>0.995764</td>\n",
       "      <td>1.058529</td>\n",
       "      <td>11.491442</td>\n",
       "    </tr>\n",
       "    <tr>\n",
       "      <th>growth_23d</th>\n",
       "      <td>33466.0</td>\n",
       "      <td>0.993249</td>\n",
       "      <td>0.451820</td>\n",
       "      <td>0.002729</td>\n",
       "      <td>0.830418</td>\n",
       "      <td>0.995511</td>\n",
       "      <td>1.059244</td>\n",
       "      <td>12.486842</td>\n",
       "    </tr>\n",
       "    <tr>\n",
       "      <th>growth_24d</th>\n",
       "      <td>33284.0</td>\n",
       "      <td>0.992839</td>\n",
       "      <td>0.460763</td>\n",
       "      <td>0.002729</td>\n",
       "      <td>0.823529</td>\n",
       "      <td>0.995131</td>\n",
       "      <td>1.060151</td>\n",
       "      <td>12.284789</td>\n",
       "    </tr>\n",
       "    <tr>\n",
       "      <th>growth_25d</th>\n",
       "      <td>33102.0</td>\n",
       "      <td>0.992424</td>\n",
       "      <td>0.471038</td>\n",
       "      <td>0.002729</td>\n",
       "      <td>0.820000</td>\n",
       "      <td>0.995070</td>\n",
       "      <td>1.060632</td>\n",
       "      <td>12.661000</td>\n",
       "    </tr>\n",
       "    <tr>\n",
       "      <th>growth_26d</th>\n",
       "      <td>32920.0</td>\n",
       "      <td>0.992240</td>\n",
       "      <td>0.484630</td>\n",
       "      <td>0.002729</td>\n",
       "      <td>0.813746</td>\n",
       "      <td>0.994077</td>\n",
       "      <td>1.060106</td>\n",
       "      <td>15.025219</td>\n",
       "    </tr>\n",
       "    <tr>\n",
       "      <th>growth_27d</th>\n",
       "      <td>32738.0</td>\n",
       "      <td>0.992033</td>\n",
       "      <td>0.498411</td>\n",
       "      <td>0.002729</td>\n",
       "      <td>0.810337</td>\n",
       "      <td>0.993726</td>\n",
       "      <td>1.062500</td>\n",
       "      <td>14.782093</td>\n",
       "    </tr>\n",
       "    <tr>\n",
       "      <th>growth_28d</th>\n",
       "      <td>32556.0</td>\n",
       "      <td>0.991781</td>\n",
       "      <td>0.515400</td>\n",
       "      <td>0.002729</td>\n",
       "      <td>0.806439</td>\n",
       "      <td>0.993615</td>\n",
       "      <td>1.064389</td>\n",
       "      <td>19.655310</td>\n",
       "    </tr>\n",
       "    <tr>\n",
       "      <th>growth_29d</th>\n",
       "      <td>32374.0</td>\n",
       "      <td>0.991580</td>\n",
       "      <td>0.534958</td>\n",
       "      <td>0.002729</td>\n",
       "      <td>0.802205</td>\n",
       "      <td>0.992521</td>\n",
       "      <td>1.066266</td>\n",
       "      <td>22.918785</td>\n",
       "    </tr>\n",
       "    <tr>\n",
       "      <th>growth_30d</th>\n",
       "      <td>32193.0</td>\n",
       "      <td>0.991511</td>\n",
       "      <td>0.557167</td>\n",
       "      <td>0.002729</td>\n",
       "      <td>0.798258</td>\n",
       "      <td>0.992498</td>\n",
       "      <td>1.067112</td>\n",
       "      <td>27.198465</td>\n",
       "    </tr>\n",
       "    <tr>\n",
       "      <th>growth_future_5d</th>\n",
       "      <td>36756.0</td>\n",
       "      <td>0.999353</td>\n",
       "      <td>0.214873</td>\n",
       "      <td>0.002729</td>\n",
       "      <td>0.941731</td>\n",
       "      <td>1.000000</td>\n",
       "      <td>1.032028</td>\n",
       "      <td>8.952632</td>\n",
       "    </tr>\n",
       "    <tr>\n",
       "      <th>is_positive_growth_5d_future</th>\n",
       "      <td>37671.0</td>\n",
       "      <td>0.452205</td>\n",
       "      <td>0.497717</td>\n",
       "      <td>0.000000</td>\n",
       "      <td>0.000000</td>\n",
       "      <td>0.000000</td>\n",
       "      <td>1.000000</td>\n",
       "      <td>1.000000</td>\n",
       "    </tr>\n",
       "  </tbody>\n",
       "</table>\n",
       "</div>"
      ],
      "text/plain": [
       "                                count      mean       std       min       25%  \\\n",
       "growth_1d                     37488.0  0.999639  0.095695  0.028674  0.977502   \n",
       "growth_2d                     37305.0  0.999497  0.135012  0.003584  0.966334   \n",
       "growth_3d                     37122.0  0.999460  0.165957  0.002729  0.957447   \n",
       "growth_4d                     36939.0  0.999358  0.190588  0.002729  0.949395   \n",
       "growth_5d                     36756.0  0.999353  0.214873  0.002729  0.941731   \n",
       "growth_6d                     36573.0  0.999450  0.239422  0.002729  0.934233   \n",
       "growth_7d                     36390.0  0.999254  0.257159  0.002729  0.927273   \n",
       "growth_8d                     36207.0  0.999170  0.275428  0.002729  0.920705   \n",
       "growth_9d                     36024.0  0.999104  0.294361  0.002729  0.913761   \n",
       "growth_10d                    35841.0  0.998983  0.311944  0.002729  0.907093   \n",
       "growth_11d                    35658.0  0.998797  0.326387  0.002729  0.900932   \n",
       "growth_12d                    35475.0  0.998427  0.338863  0.002729  0.895173   \n",
       "growth_13d                    35292.0  0.997755  0.348772  0.002729  0.889027   \n",
       "growth_14d                    35109.0  0.996997  0.357893  0.002729  0.882526   \n",
       "growth_15d                    34926.0  0.996366  0.367865  0.002729  0.875310   \n",
       "growth_16d                    34743.0  0.995793  0.378975  0.002729  0.869277   \n",
       "growth_17d                    34560.0  0.995264  0.389822  0.002729  0.862697   \n",
       "growth_18d                    34377.0  0.994816  0.399987  0.002729  0.856164   \n",
       "growth_19d                    34194.0  0.994579  0.410835  0.002729  0.851615   \n",
       "growth_20d                    34012.0  0.994388  0.421681  0.002729  0.846154   \n",
       "growth_21d                    33830.0  0.994029  0.431593  0.002729  0.840243   \n",
       "growth_22d                    33648.0  0.993689  0.441964  0.002729  0.835464   \n",
       "growth_23d                    33466.0  0.993249  0.451820  0.002729  0.830418   \n",
       "growth_24d                    33284.0  0.992839  0.460763  0.002729  0.823529   \n",
       "growth_25d                    33102.0  0.992424  0.471038  0.002729  0.820000   \n",
       "growth_26d                    32920.0  0.992240  0.484630  0.002729  0.813746   \n",
       "growth_27d                    32738.0  0.992033  0.498411  0.002729  0.810337   \n",
       "growth_28d                    32556.0  0.991781  0.515400  0.002729  0.806439   \n",
       "growth_29d                    32374.0  0.991580  0.534958  0.002729  0.802205   \n",
       "growth_30d                    32193.0  0.991511  0.557167  0.002729  0.798258   \n",
       "growth_future_5d              36756.0  0.999353  0.214873  0.002729  0.941731   \n",
       "is_positive_growth_5d_future  37671.0  0.452205  0.497717  0.000000  0.000000   \n",
       "\n",
       "                                   50%       75%        max  \n",
       "growth_1d                     1.000000  1.014986   6.826923  \n",
       "growth_2d                     1.000000  1.020376   6.971311  \n",
       "growth_3d                     1.000000  1.025434   7.625593  \n",
       "growth_4d                     1.000000  1.028572   8.650538  \n",
       "growth_5d                     1.000000  1.032028   8.952632  \n",
       "growth_6d                     1.000000  1.034401  10.309092  \n",
       "growth_7d                     1.000000  1.036093  10.183544  \n",
       "growth_8d                     1.000000  1.039282  10.380646  \n",
       "growth_9d                     1.000000  1.040977   9.464706  \n",
       "growth_10d                    1.000000  1.042984   9.105319  \n",
       "growth_11d                    0.999748  1.043806   9.354651  \n",
       "growth_12d                    0.999052  1.045053   9.634731  \n",
       "growth_13d                    0.999035  1.046665  10.380646  \n",
       "growth_14d                    0.998789  1.047468  11.330986  \n",
       "growth_15d                    0.998309  1.048936  10.585527  \n",
       "growth_16d                    0.998011  1.050307  10.740988  \n",
       "growth_17d                    0.997573  1.051935  11.411348  \n",
       "growth_18d                    0.997159  1.052891  11.096551  \n",
       "growth_19d                    0.997101  1.054054  10.726667  \n",
       "growth_20d                    0.996435  1.055663  11.575540  \n",
       "growth_21d                    0.996255  1.057622  12.634409  \n",
       "growth_22d                    0.995764  1.058529  11.491442  \n",
       "growth_23d                    0.995511  1.059244  12.486842  \n",
       "growth_24d                    0.995131  1.060151  12.284789  \n",
       "growth_25d                    0.995070  1.060632  12.661000  \n",
       "growth_26d                    0.994077  1.060106  15.025219  \n",
       "growth_27d                    0.993726  1.062500  14.782093  \n",
       "growth_28d                    0.993615  1.064389  19.655310  \n",
       "growth_29d                    0.992521  1.066266  22.918785  \n",
       "growth_30d                    0.992498  1.067112  27.198465  \n",
       "growth_future_5d              1.000000  1.032028   8.952632  \n",
       "is_positive_growth_5d_future  0.000000  1.000000   1.000000  "
      ]
     },
     "execution_count": 16,
     "metadata": {},
     "output_type": "execute_result"
    }
   ],
   "source": [
    "growth_cols = [col for col in stocks_df.columns if \"growth\" in col]\n",
    "stocks_df[growth_cols].describe().T"
   ]
  },
  {
   "cell_type": "code",
   "execution_count": null,
   "metadata": {},
   "outputs": [],
   "source": []
  },
  {
   "cell_type": "markdown",
   "metadata": {},
   "source": [
    "### Question 3 "
   ]
  },
  {
   "cell_type": "code",
   "execution_count": 17,
   "metadata": {},
   "outputs": [],
   "source": [
    "US_STOCKS = ['MSFT', 'AAPL', 'GOOG', 'NVDA', 'AMZN', 'META', 'BRK-B', 'LLY', 'AVGO','V', 'JPM']\n",
    "\n",
    "EU_STOCKS = ['NVO','MC.PA', 'ASML', 'RMS.PA', 'OR.PA', 'SAP', 'ACN', 'TTE', 'SIE.DE','IDEXY','CDI.PA']\n",
    "\n",
    "INDIA_STOCKS = ['RELIANCE.NS','TCS.NS','HDB','BHARTIARTL.NS','IBN','SBIN.NS','LICI.NS','INFY','ITC.NS','HINDUNILVR.NS','LT.NS']\n",
    "\n",
    "LARGEST_STOCKS = US_STOCKS + EU_STOCKS + INDIA_STOCKS \n",
    "\n",
    "\n",
    "NEW_US = ['TSLA','WMT','XOM','UNH','MA','PG','JNJ','MRK','HD','COST','ORCL']\n",
    "\n",
    "NEW_EU = ['PRX.AS','AIR.PA','SU.PA','ETN','SNY','BUD','DTE.DE','ALV.DE','MDT','AI.PA','EL.PA']\n",
    "\n",
    "NEW_INDIA = ['BAJFINANCE.NS','MARUTI.NS','HCLTECH.NS','TATAMOTORS.NS','SUNPHARMA.NS','ONGC.NS','ADANIENT.NS','ADANIENT.NS','NTPC.NS','KOTAKBANK.NS','TITAN.NS']\n",
    "\n",
    "LARGE_STOCKS = NEW_EU + NEW_US + NEW_INDIA"
   ]
  },
  {
   "cell_type": "code",
   "execution_count": 18,
   "metadata": {},
   "outputs": [],
   "source": [
    "start_date = date(2013, 12, 1)\n",
    "end_date = date(2023, 12, 31)"
   ]
  },
  {
   "cell_type": "code",
   "execution_count": 20,
   "metadata": {},
   "outputs": [
    {
     "name": "stderr",
     "output_type": "stream",
     "text": [
      "[*********************100%%**********************]  33 of 33 completed\n"
     ]
    },
    {
     "data": {
      "text/html": [
       "<div>\n",
       "<style scoped>\n",
       "    .dataframe tbody tr th:only-of-type {\n",
       "        vertical-align: middle;\n",
       "    }\n",
       "\n",
       "    .dataframe tbody tr th {\n",
       "        vertical-align: top;\n",
       "    }\n",
       "\n",
       "    .dataframe thead tr th {\n",
       "        text-align: left;\n",
       "    }\n",
       "\n",
       "    .dataframe thead tr:last-of-type th {\n",
       "        text-align: right;\n",
       "    }\n",
       "</style>\n",
       "<table border=\"1\" class=\"dataframe\">\n",
       "  <thead>\n",
       "    <tr>\n",
       "      <th>Price</th>\n",
       "      <th colspan=\"10\" halign=\"left\">Adj Close</th>\n",
       "      <th>...</th>\n",
       "      <th colspan=\"10\" halign=\"left\">Volume</th>\n",
       "    </tr>\n",
       "    <tr>\n",
       "      <th>Ticker</th>\n",
       "      <th>AAPL</th>\n",
       "      <th>ACN</th>\n",
       "      <th>AMZN</th>\n",
       "      <th>ASML</th>\n",
       "      <th>AVGO</th>\n",
       "      <th>BHARTIARTL.NS</th>\n",
       "      <th>BRK-B</th>\n",
       "      <th>CDI.PA</th>\n",
       "      <th>GOOG</th>\n",
       "      <th>HDB</th>\n",
       "      <th>...</th>\n",
       "      <th>NVO</th>\n",
       "      <th>OR.PA</th>\n",
       "      <th>RELIANCE.NS</th>\n",
       "      <th>RMS.PA</th>\n",
       "      <th>SAP</th>\n",
       "      <th>SBIN.NS</th>\n",
       "      <th>SIE.DE</th>\n",
       "      <th>TCS.NS</th>\n",
       "      <th>TTE</th>\n",
       "      <th>V</th>\n",
       "    </tr>\n",
       "    <tr>\n",
       "      <th>Date</th>\n",
       "      <th></th>\n",
       "      <th></th>\n",
       "      <th></th>\n",
       "      <th></th>\n",
       "      <th></th>\n",
       "      <th></th>\n",
       "      <th></th>\n",
       "      <th></th>\n",
       "      <th></th>\n",
       "      <th></th>\n",
       "      <th></th>\n",
       "      <th></th>\n",
       "      <th></th>\n",
       "      <th></th>\n",
       "      <th></th>\n",
       "      <th></th>\n",
       "      <th></th>\n",
       "      <th></th>\n",
       "      <th></th>\n",
       "      <th></th>\n",
       "      <th></th>\n",
       "    </tr>\n",
       "  </thead>\n",
       "  <tbody>\n",
       "    <tr>\n",
       "      <th>2013-12-02</th>\n",
       "      <td>17.237236</td>\n",
       "      <td>63.617287</td>\n",
       "      <td>19.615000</td>\n",
       "      <td>84.409317</td>\n",
       "      <td>33.917286</td>\n",
       "      <td>283.676544</td>\n",
       "      <td>115.330002</td>\n",
       "      <td>113.618385</td>\n",
       "      <td>26.263557</td>\n",
       "      <td>15.422514</td>\n",
       "      <td>...</td>\n",
       "      <td>2353000.0</td>\n",
       "      <td>901449.0</td>\n",
       "      <td>3610875.0</td>\n",
       "      <td>14126.0</td>\n",
       "      <td>381200.0</td>\n",
       "      <td>17459790.0</td>\n",
       "      <td>1833317.0</td>\n",
       "      <td>1253260.0</td>\n",
       "      <td>537800.0</td>\n",
       "      <td>8762000.0</td>\n",
       "    </tr>\n",
       "    <tr>\n",
       "      <th>2013-12-03</th>\n",
       "      <td>17.709110</td>\n",
       "      <td>64.250671</td>\n",
       "      <td>19.233000</td>\n",
       "      <td>84.445328</td>\n",
       "      <td>33.751476</td>\n",
       "      <td>282.311798</td>\n",
       "      <td>114.790001</td>\n",
       "      <td>109.877541</td>\n",
       "      <td>26.233171</td>\n",
       "      <td>15.361533</td>\n",
       "      <td>...</td>\n",
       "      <td>4501000.0</td>\n",
       "      <td>753306.0</td>\n",
       "      <td>4592312.0</td>\n",
       "      <td>25971.0</td>\n",
       "      <td>625400.0</td>\n",
       "      <td>14806910.0</td>\n",
       "      <td>3355076.0</td>\n",
       "      <td>1449184.0</td>\n",
       "      <td>1046400.0</td>\n",
       "      <td>17032800.0</td>\n",
       "    </tr>\n",
       "    <tr>\n",
       "      <th>2013-12-04</th>\n",
       "      <td>17.667841</td>\n",
       "      <td>63.400543</td>\n",
       "      <td>19.298000</td>\n",
       "      <td>82.374268</td>\n",
       "      <td>33.540428</td>\n",
       "      <td>283.377960</td>\n",
       "      <td>115.300003</td>\n",
       "      <td>108.245880</td>\n",
       "      <td>26.355713</td>\n",
       "      <td>16.224594</td>\n",
       "      <td>...</td>\n",
       "      <td>2436000.0</td>\n",
       "      <td>805246.0</td>\n",
       "      <td>4380538.0</td>\n",
       "      <td>32572.0</td>\n",
       "      <td>775800.0</td>\n",
       "      <td>15426920.0</td>\n",
       "      <td>2961476.0</td>\n",
       "      <td>1519036.0</td>\n",
       "      <td>1032100.0</td>\n",
       "      <td>11739200.0</td>\n",
       "    </tr>\n",
       "    <tr>\n",
       "      <th>2013-12-05</th>\n",
       "      <td>17.758516</td>\n",
       "      <td>63.167179</td>\n",
       "      <td>19.224501</td>\n",
       "      <td>82.068085</td>\n",
       "      <td>35.869415</td>\n",
       "      <td>286.021973</td>\n",
       "      <td>114.959999</td>\n",
       "      <td>106.813217</td>\n",
       "      <td>26.334791</td>\n",
       "      <td>16.219906</td>\n",
       "      <td>...</td>\n",
       "      <td>3147000.0</td>\n",
       "      <td>716813.0</td>\n",
       "      <td>6267202.0</td>\n",
       "      <td>19198.0</td>\n",
       "      <td>647700.0</td>\n",
       "      <td>23662450.0</td>\n",
       "      <td>2417569.0</td>\n",
       "      <td>1397190.0</td>\n",
       "      <td>1157500.0</td>\n",
       "      <td>13260000.0</td>\n",
       "    </tr>\n",
       "    <tr>\n",
       "      <th>2013-12-06</th>\n",
       "      <td>17.512112</td>\n",
       "      <td>62.950508</td>\n",
       "      <td>19.347500</td>\n",
       "      <td>82.347244</td>\n",
       "      <td>35.394581</td>\n",
       "      <td>283.505890</td>\n",
       "      <td>116.660004</td>\n",
       "      <td>107.449951</td>\n",
       "      <td>26.646872</td>\n",
       "      <td>16.749935</td>\n",
       "      <td>...</td>\n",
       "      <td>1614000.0</td>\n",
       "      <td>1320343.0</td>\n",
       "      <td>3650533.0</td>\n",
       "      <td>23848.0</td>\n",
       "      <td>2208200.0</td>\n",
       "      <td>14500680.0</td>\n",
       "      <td>2458030.0</td>\n",
       "      <td>1446962.0</td>\n",
       "      <td>869100.0</td>\n",
       "      <td>9106800.0</td>\n",
       "    </tr>\n",
       "  </tbody>\n",
       "</table>\n",
       "<p>5 rows × 198 columns</p>\n",
       "</div>"
      ],
      "text/plain": [
       "Price       Adj Close                                              \\\n",
       "Ticker           AAPL        ACN       AMZN       ASML       AVGO   \n",
       "Date                                                                \n",
       "2013-12-02  17.237236  63.617287  19.615000  84.409317  33.917286   \n",
       "2013-12-03  17.709110  64.250671  19.233000  84.445328  33.751476   \n",
       "2013-12-04  17.667841  63.400543  19.298000  82.374268  33.540428   \n",
       "2013-12-05  17.758516  63.167179  19.224501  82.068085  35.869415   \n",
       "2013-12-06  17.512112  62.950508  19.347500  82.347244  35.394581   \n",
       "\n",
       "Price                                                                   ...  \\\n",
       "Ticker     BHARTIARTL.NS       BRK-B      CDI.PA       GOOG        HDB  ...   \n",
       "Date                                                                    ...   \n",
       "2013-12-02    283.676544  115.330002  113.618385  26.263557  15.422514  ...   \n",
       "2013-12-03    282.311798  114.790001  109.877541  26.233171  15.361533  ...   \n",
       "2013-12-04    283.377960  115.300003  108.245880  26.355713  16.224594  ...   \n",
       "2013-12-05    286.021973  114.959999  106.813217  26.334791  16.219906  ...   \n",
       "2013-12-06    283.505890  116.660004  107.449951  26.646872  16.749935  ...   \n",
       "\n",
       "Price          Volume                                                         \\\n",
       "Ticker            NVO      OR.PA RELIANCE.NS   RMS.PA        SAP     SBIN.NS   \n",
       "Date                                                                           \n",
       "2013-12-02  2353000.0   901449.0   3610875.0  14126.0   381200.0  17459790.0   \n",
       "2013-12-03  4501000.0   753306.0   4592312.0  25971.0   625400.0  14806910.0   \n",
       "2013-12-04  2436000.0   805246.0   4380538.0  32572.0   775800.0  15426920.0   \n",
       "2013-12-05  3147000.0   716813.0   6267202.0  19198.0   647700.0  23662450.0   \n",
       "2013-12-06  1614000.0  1320343.0   3650533.0  23848.0  2208200.0  14500680.0   \n",
       "\n",
       "Price                                                    \n",
       "Ticker         SIE.DE     TCS.NS        TTE           V  \n",
       "Date                                                     \n",
       "2013-12-02  1833317.0  1253260.0   537800.0   8762000.0  \n",
       "2013-12-03  3355076.0  1449184.0  1046400.0  17032800.0  \n",
       "2013-12-04  2961476.0  1519036.0  1032100.0  11739200.0  \n",
       "2013-12-05  2417569.0  1397190.0  1157500.0  13260000.0  \n",
       "2013-12-06  2458030.0  1446962.0   869100.0   9106800.0  \n",
       "\n",
       "[5 rows x 198 columns]"
      ]
     },
     "execution_count": 20,
     "metadata": {},
     "output_type": "execute_result"
    }
   ],
   "source": [
    "\n",
    "largest_stocks = yf.download(LARGEST_STOCKS,\n",
    "                                start=start_date,\n",
    "                                end=end_date,\n",
    "                                progress=True)\n",
    "largest_stocks.head()"
   ]
  },
  {
   "cell_type": "code",
   "execution_count": 21,
   "metadata": {},
   "outputs": [
    {
     "name": "stderr",
     "output_type": "stream",
     "text": [
      "[*********************100%%**********************]  32 of 32 completed\n"
     ]
    },
    {
     "data": {
      "text/html": [
       "<div>\n",
       "<style scoped>\n",
       "    .dataframe tbody tr th:only-of-type {\n",
       "        vertical-align: middle;\n",
       "    }\n",
       "\n",
       "    .dataframe tbody tr th {\n",
       "        vertical-align: top;\n",
       "    }\n",
       "\n",
       "    .dataframe thead tr th {\n",
       "        text-align: left;\n",
       "    }\n",
       "\n",
       "    .dataframe thead tr:last-of-type th {\n",
       "        text-align: right;\n",
       "    }\n",
       "</style>\n",
       "<table border=\"1\" class=\"dataframe\">\n",
       "  <thead>\n",
       "    <tr>\n",
       "      <th>Price</th>\n",
       "      <th colspan=\"10\" halign=\"left\">Adj Close</th>\n",
       "      <th>...</th>\n",
       "      <th colspan=\"10\" halign=\"left\">Volume</th>\n",
       "    </tr>\n",
       "    <tr>\n",
       "      <th>Ticker</th>\n",
       "      <th>ADANIENT.NS</th>\n",
       "      <th>AI.PA</th>\n",
       "      <th>AIR.PA</th>\n",
       "      <th>ALV.DE</th>\n",
       "      <th>BAJFINANCE.NS</th>\n",
       "      <th>BUD</th>\n",
       "      <th>COST</th>\n",
       "      <th>DTE.DE</th>\n",
       "      <th>EL.PA</th>\n",
       "      <th>ETN</th>\n",
       "      <th>...</th>\n",
       "      <th>PRX.AS</th>\n",
       "      <th>SNY</th>\n",
       "      <th>SU.PA</th>\n",
       "      <th>SUNPHARMA.NS</th>\n",
       "      <th>TATAMOTORS.NS</th>\n",
       "      <th>TITAN.NS</th>\n",
       "      <th>TSLA</th>\n",
       "      <th>UNH</th>\n",
       "      <th>WMT</th>\n",
       "      <th>XOM</th>\n",
       "    </tr>\n",
       "    <tr>\n",
       "      <th>Date</th>\n",
       "      <th></th>\n",
       "      <th></th>\n",
       "      <th></th>\n",
       "      <th></th>\n",
       "      <th></th>\n",
       "      <th></th>\n",
       "      <th></th>\n",
       "      <th></th>\n",
       "      <th></th>\n",
       "      <th></th>\n",
       "      <th></th>\n",
       "      <th></th>\n",
       "      <th></th>\n",
       "      <th></th>\n",
       "      <th></th>\n",
       "      <th></th>\n",
       "      <th></th>\n",
       "      <th></th>\n",
       "      <th></th>\n",
       "      <th></th>\n",
       "      <th></th>\n",
       "    </tr>\n",
       "  </thead>\n",
       "  <tbody>\n",
       "    <tr>\n",
       "      <th>2013-12-02</th>\n",
       "      <td>37.621361</td>\n",
       "      <td>54.632050</td>\n",
       "      <td>45.554214</td>\n",
       "      <td>75.205406</td>\n",
       "      <td>136.119125</td>\n",
       "      <td>79.724556</td>\n",
       "      <td>99.352112</td>\n",
       "      <td>8.032199</td>\n",
       "      <td>64.481934</td>\n",
       "      <td>54.835613</td>\n",
       "      <td>...</td>\n",
       "      <td>NaN</td>\n",
       "      <td>2380700.0</td>\n",
       "      <td>1029628.0</td>\n",
       "      <td>2473184.0</td>\n",
       "      <td>7712473.0</td>\n",
       "      <td>819519.0</td>\n",
       "      <td>116268000.0</td>\n",
       "      <td>4276000.0</td>\n",
       "      <td>18535200.0</td>\n",
       "      <td>9310500.0</td>\n",
       "    </tr>\n",
       "    <tr>\n",
       "      <th>2013-12-03</th>\n",
       "      <td>37.748501</td>\n",
       "      <td>53.326210</td>\n",
       "      <td>43.864166</td>\n",
       "      <td>73.704826</td>\n",
       "      <td>142.285294</td>\n",
       "      <td>79.459023</td>\n",
       "      <td>99.456528</td>\n",
       "      <td>7.862847</td>\n",
       "      <td>63.160118</td>\n",
       "      <td>54.278809</td>\n",
       "      <td>...</td>\n",
       "      <td>NaN</td>\n",
       "      <td>1168400.0</td>\n",
       "      <td>1957891.0</td>\n",
       "      <td>2312310.0</td>\n",
       "      <td>7643867.0</td>\n",
       "      <td>836450.0</td>\n",
       "      <td>385236000.0</td>\n",
       "      <td>5162400.0</td>\n",
       "      <td>22519200.0</td>\n",
       "      <td>12599500.0</td>\n",
       "    </tr>\n",
       "    <tr>\n",
       "      <th>2013-12-04</th>\n",
       "      <td>37.635483</td>\n",
       "      <td>53.123680</td>\n",
       "      <td>43.443802</td>\n",
       "      <td>72.998665</td>\n",
       "      <td>141.360840</td>\n",
       "      <td>79.271576</td>\n",
       "      <td>98.773788</td>\n",
       "      <td>7.852478</td>\n",
       "      <td>62.756016</td>\n",
       "      <td>53.622826</td>\n",
       "      <td>...</td>\n",
       "      <td>NaN</td>\n",
       "      <td>1484700.0</td>\n",
       "      <td>1823761.0</td>\n",
       "      <td>1827528.0</td>\n",
       "      <td>4973951.0</td>\n",
       "      <td>892761.0</td>\n",
       "      <td>197215500.0</td>\n",
       "      <td>5548700.0</td>\n",
       "      <td>22923600.0</td>\n",
       "      <td>13074000.0</td>\n",
       "    </tr>\n",
       "    <tr>\n",
       "      <th>2013-12-05</th>\n",
       "      <td>38.066368</td>\n",
       "      <td>52.638649</td>\n",
       "      <td>42.804665</td>\n",
       "      <td>72.733871</td>\n",
       "      <td>140.576752</td>\n",
       "      <td>78.662407</td>\n",
       "      <td>97.151230</td>\n",
       "      <td>7.842109</td>\n",
       "      <td>63.294830</td>\n",
       "      <td>54.400845</td>\n",
       "      <td>...</td>\n",
       "      <td>NaN</td>\n",
       "      <td>2489000.0</td>\n",
       "      <td>2409557.0</td>\n",
       "      <td>1924907.0</td>\n",
       "      <td>5074094.0</td>\n",
       "      <td>1169289.0</td>\n",
       "      <td>139326000.0</td>\n",
       "      <td>4104700.0</td>\n",
       "      <td>19350000.0</td>\n",
       "      <td>10586000.0</td>\n",
       "    </tr>\n",
       "    <tr>\n",
       "      <th>2013-12-06</th>\n",
       "      <td>38.723297</td>\n",
       "      <td>52.489418</td>\n",
       "      <td>42.963383</td>\n",
       "      <td>73.675392</td>\n",
       "      <td>144.114761</td>\n",
       "      <td>80.154114</td>\n",
       "      <td>98.042839</td>\n",
       "      <td>7.976900</td>\n",
       "      <td>63.269581</td>\n",
       "      <td>55.239899</td>\n",
       "      <td>...</td>\n",
       "      <td>NaN</td>\n",
       "      <td>618200.0</td>\n",
       "      <td>2009516.0</td>\n",
       "      <td>1777758.0</td>\n",
       "      <td>4703974.0</td>\n",
       "      <td>1958279.0</td>\n",
       "      <td>118644000.0</td>\n",
       "      <td>3886000.0</td>\n",
       "      <td>15264300.0</td>\n",
       "      <td>12063400.0</td>\n",
       "    </tr>\n",
       "    <tr>\n",
       "      <th>...</th>\n",
       "      <td>...</td>\n",
       "      <td>...</td>\n",
       "      <td>...</td>\n",
       "      <td>...</td>\n",
       "      <td>...</td>\n",
       "      <td>...</td>\n",
       "      <td>...</td>\n",
       "      <td>...</td>\n",
       "      <td>...</td>\n",
       "      <td>...</td>\n",
       "      <td>...</td>\n",
       "      <td>...</td>\n",
       "      <td>...</td>\n",
       "      <td>...</td>\n",
       "      <td>...</td>\n",
       "      <td>...</td>\n",
       "      <td>...</td>\n",
       "      <td>...</td>\n",
       "      <td>...</td>\n",
       "      <td>...</td>\n",
       "      <td>...</td>\n",
       "    </tr>\n",
       "    <tr>\n",
       "      <th>2023-12-22</th>\n",
       "      <td>2808.350098</td>\n",
       "      <td>177.360001</td>\n",
       "      <td>137.034973</td>\n",
       "      <td>230.314209</td>\n",
       "      <td>7295.299805</td>\n",
       "      <td>63.560879</td>\n",
       "      <td>654.652466</td>\n",
       "      <td>21.037939</td>\n",
       "      <td>174.286163</td>\n",
       "      <td>237.185776</td>\n",
       "      <td>...</td>\n",
       "      <td>13865372.0</td>\n",
       "      <td>979100.0</td>\n",
       "      <td>475196.0</td>\n",
       "      <td>2058127.0</td>\n",
       "      <td>12062238.0</td>\n",
       "      <td>777099.0</td>\n",
       "      <td>93249800.0</td>\n",
       "      <td>1759500.0</td>\n",
       "      <td>19405500.0</td>\n",
       "      <td>12921800.0</td>\n",
       "    </tr>\n",
       "    <tr>\n",
       "      <th>2023-12-26</th>\n",
       "      <td>2865.449951</td>\n",
       "      <td>NaN</td>\n",
       "      <td>NaN</td>\n",
       "      <td>NaN</td>\n",
       "      <td>7162.299805</td>\n",
       "      <td>63.679134</td>\n",
       "      <td>657.596313</td>\n",
       "      <td>NaN</td>\n",
       "      <td>NaN</td>\n",
       "      <td>238.746216</td>\n",
       "      <td>...</td>\n",
       "      <td>NaN</td>\n",
       "      <td>874500.0</td>\n",
       "      <td>NaN</td>\n",
       "      <td>1796483.0</td>\n",
       "      <td>7229143.0</td>\n",
       "      <td>526101.0</td>\n",
       "      <td>86892400.0</td>\n",
       "      <td>1390800.0</td>\n",
       "      <td>11679900.0</td>\n",
       "      <td>16835100.0</td>\n",
       "    </tr>\n",
       "    <tr>\n",
       "      <th>2023-12-27</th>\n",
       "      <td>2843.350098</td>\n",
       "      <td>176.820007</td>\n",
       "      <td>137.015320</td>\n",
       "      <td>229.459778</td>\n",
       "      <td>7232.799805</td>\n",
       "      <td>63.925491</td>\n",
       "      <td>664.754272</td>\n",
       "      <td>20.912367</td>\n",
       "      <td>173.768311</td>\n",
       "      <td>239.352493</td>\n",
       "      <td>...</td>\n",
       "      <td>5994332.0</td>\n",
       "      <td>979700.0</td>\n",
       "      <td>409786.0</td>\n",
       "      <td>2005268.0</td>\n",
       "      <td>15052800.0</td>\n",
       "      <td>666625.0</td>\n",
       "      <td>106494400.0</td>\n",
       "      <td>1851800.0</td>\n",
       "      <td>19896000.0</td>\n",
       "      <td>14558800.0</td>\n",
       "    </tr>\n",
       "    <tr>\n",
       "      <th>2023-12-28</th>\n",
       "      <td>2809.899902</td>\n",
       "      <td>176.199997</td>\n",
       "      <td>137.270828</td>\n",
       "      <td>228.462952</td>\n",
       "      <td>7258.649902</td>\n",
       "      <td>63.748112</td>\n",
       "      <td>661.065613</td>\n",
       "      <td>20.878559</td>\n",
       "      <td>173.538162</td>\n",
       "      <td>239.282928</td>\n",
       "      <td>...</td>\n",
       "      <td>4349891.0</td>\n",
       "      <td>1081800.0</td>\n",
       "      <td>324705.0</td>\n",
       "      <td>2043365.0</td>\n",
       "      <td>14906199.0</td>\n",
       "      <td>1033648.0</td>\n",
       "      <td>113619900.0</td>\n",
       "      <td>2001000.0</td>\n",
       "      <td>16776000.0</td>\n",
       "      <td>16329300.0</td>\n",
       "    </tr>\n",
       "    <tr>\n",
       "      <th>2023-12-29</th>\n",
       "      <td>2848.949951</td>\n",
       "      <td>176.119995</td>\n",
       "      <td>137.369110</td>\n",
       "      <td>229.697113</td>\n",
       "      <td>7327.750000</td>\n",
       "      <td>63.679134</td>\n",
       "      <td>658.054871</td>\n",
       "      <td>21.008961</td>\n",
       "      <td>174.151917</td>\n",
       "      <td>239.352493</td>\n",
       "      <td>...</td>\n",
       "      <td>3614308.0</td>\n",
       "      <td>639000.0</td>\n",
       "      <td>344691.0</td>\n",
       "      <td>1840160.0</td>\n",
       "      <td>41170191.0</td>\n",
       "      <td>709614.0</td>\n",
       "      <td>100615300.0</td>\n",
       "      <td>2080100.0</td>\n",
       "      <td>21948300.0</td>\n",
       "      <td>17741400.0</td>\n",
       "    </tr>\n",
       "  </tbody>\n",
       "</table>\n",
       "<p>2616 rows × 192 columns</p>\n",
       "</div>"
      ],
      "text/plain": [
       "Price         Adj Close                                                    \\\n",
       "Ticker      ADANIENT.NS       AI.PA      AIR.PA      ALV.DE BAJFINANCE.NS   \n",
       "Date                                                                        \n",
       "2013-12-02    37.621361   54.632050   45.554214   75.205406    136.119125   \n",
       "2013-12-03    37.748501   53.326210   43.864166   73.704826    142.285294   \n",
       "2013-12-04    37.635483   53.123680   43.443802   72.998665    141.360840   \n",
       "2013-12-05    38.066368   52.638649   42.804665   72.733871    140.576752   \n",
       "2013-12-06    38.723297   52.489418   42.963383   73.675392    144.114761   \n",
       "...                 ...         ...         ...         ...           ...   \n",
       "2023-12-22  2808.350098  177.360001  137.034973  230.314209   7295.299805   \n",
       "2023-12-26  2865.449951         NaN         NaN         NaN   7162.299805   \n",
       "2023-12-27  2843.350098  176.820007  137.015320  229.459778   7232.799805   \n",
       "2023-12-28  2809.899902  176.199997  137.270828  228.462952   7258.649902   \n",
       "2023-12-29  2848.949951  176.119995  137.369110  229.697113   7327.750000   \n",
       "\n",
       "Price                                                                 ...  \\\n",
       "Ticker            BUD        COST     DTE.DE       EL.PA         ETN  ...   \n",
       "Date                                                                  ...   \n",
       "2013-12-02  79.724556   99.352112   8.032199   64.481934   54.835613  ...   \n",
       "2013-12-03  79.459023   99.456528   7.862847   63.160118   54.278809  ...   \n",
       "2013-12-04  79.271576   98.773788   7.852478   62.756016   53.622826  ...   \n",
       "2013-12-05  78.662407   97.151230   7.842109   63.294830   54.400845  ...   \n",
       "2013-12-06  80.154114   98.042839   7.976900   63.269581   55.239899  ...   \n",
       "...               ...         ...        ...         ...         ...  ...   \n",
       "2023-12-22  63.560879  654.652466  21.037939  174.286163  237.185776  ...   \n",
       "2023-12-26  63.679134  657.596313        NaN         NaN  238.746216  ...   \n",
       "2023-12-27  63.925491  664.754272  20.912367  173.768311  239.352493  ...   \n",
       "2023-12-28  63.748112  661.065613  20.878559  173.538162  239.282928  ...   \n",
       "2023-12-29  63.679134  658.054871  21.008961  174.151917  239.352493  ...   \n",
       "\n",
       "Price           Volume                                                   \\\n",
       "Ticker          PRX.AS        SNY      SU.PA SUNPHARMA.NS TATAMOTORS.NS   \n",
       "Date                                                                      \n",
       "2013-12-02         NaN  2380700.0  1029628.0    2473184.0     7712473.0   \n",
       "2013-12-03         NaN  1168400.0  1957891.0    2312310.0     7643867.0   \n",
       "2013-12-04         NaN  1484700.0  1823761.0    1827528.0     4973951.0   \n",
       "2013-12-05         NaN  2489000.0  2409557.0    1924907.0     5074094.0   \n",
       "2013-12-06         NaN   618200.0  2009516.0    1777758.0     4703974.0   \n",
       "...                ...        ...        ...          ...           ...   \n",
       "2023-12-22  13865372.0   979100.0   475196.0    2058127.0    12062238.0   \n",
       "2023-12-26         NaN   874500.0        NaN    1796483.0     7229143.0   \n",
       "2023-12-27   5994332.0   979700.0   409786.0    2005268.0    15052800.0   \n",
       "2023-12-28   4349891.0  1081800.0   324705.0    2043365.0    14906199.0   \n",
       "2023-12-29   3614308.0   639000.0   344691.0    1840160.0    41170191.0   \n",
       "\n",
       "Price                                                                  \n",
       "Ticker       TITAN.NS         TSLA        UNH         WMT         XOM  \n",
       "Date                                                                   \n",
       "2013-12-02   819519.0  116268000.0  4276000.0  18535200.0   9310500.0  \n",
       "2013-12-03   836450.0  385236000.0  5162400.0  22519200.0  12599500.0  \n",
       "2013-12-04   892761.0  197215500.0  5548700.0  22923600.0  13074000.0  \n",
       "2013-12-05  1169289.0  139326000.0  4104700.0  19350000.0  10586000.0  \n",
       "2013-12-06  1958279.0  118644000.0  3886000.0  15264300.0  12063400.0  \n",
       "...               ...          ...        ...         ...         ...  \n",
       "2023-12-22   777099.0   93249800.0  1759500.0  19405500.0  12921800.0  \n",
       "2023-12-26   526101.0   86892400.0  1390800.0  11679900.0  16835100.0  \n",
       "2023-12-27   666625.0  106494400.0  1851800.0  19896000.0  14558800.0  \n",
       "2023-12-28  1033648.0  113619900.0  2001000.0  16776000.0  16329300.0  \n",
       "2023-12-29   709614.0  100615300.0  2080100.0  21948300.0  17741400.0  \n",
       "\n",
       "[2616 rows x 192 columns]"
      ]
     },
     "execution_count": 21,
     "metadata": {},
     "output_type": "execute_result"
    }
   ],
   "source": [
    "large_stocks = yf.download(LARGE_STOCKS,\n",
    "                                start=start_date,\n",
    "                                end=end_date,\n",
    "                                progress=True)\n",
    "large_stocks"
   ]
  },
  {
   "cell_type": "code",
   "execution_count": 22,
   "metadata": {},
   "outputs": [
    {
     "data": {
      "text/html": [
       "<div>\n",
       "<style scoped>\n",
       "    .dataframe tbody tr th:only-of-type {\n",
       "        vertical-align: middle;\n",
       "    }\n",
       "\n",
       "    .dataframe tbody tr th {\n",
       "        vertical-align: top;\n",
       "    }\n",
       "\n",
       "    .dataframe thead th {\n",
       "        text-align: right;\n",
       "    }\n",
       "</style>\n",
       "<table border=\"1\" class=\"dataframe\">\n",
       "  <thead>\n",
       "    <tr style=\"text-align: right;\">\n",
       "      <th></th>\n",
       "      <th>Ticker</th>\n",
       "      <th>Adj Close</th>\n",
       "      <th>Close</th>\n",
       "      <th>High</th>\n",
       "      <th>Low</th>\n",
       "      <th>Open</th>\n",
       "      <th>Volume</th>\n",
       "      <th>group</th>\n",
       "    </tr>\n",
       "    <tr>\n",
       "      <th>Date</th>\n",
       "      <th></th>\n",
       "      <th></th>\n",
       "      <th></th>\n",
       "      <th></th>\n",
       "      <th></th>\n",
       "      <th></th>\n",
       "      <th></th>\n",
       "      <th></th>\n",
       "    </tr>\n",
       "  </thead>\n",
       "  <tbody>\n",
       "    <tr>\n",
       "      <th>2013-12-02</th>\n",
       "      <td>AAPL</td>\n",
       "      <td>17.237236</td>\n",
       "      <td>19.686787</td>\n",
       "      <td>20.154642</td>\n",
       "      <td>19.672144</td>\n",
       "      <td>19.928572</td>\n",
       "      <td>472544800.0</td>\n",
       "      <td>largest_stocks</td>\n",
       "    </tr>\n",
       "    <tr>\n",
       "      <th>2013-12-02</th>\n",
       "      <td>ACN</td>\n",
       "      <td>63.617287</td>\n",
       "      <td>76.330002</td>\n",
       "      <td>77.639999</td>\n",
       "      <td>76.150002</td>\n",
       "      <td>77.419998</td>\n",
       "      <td>2489300.0</td>\n",
       "      <td>largest_stocks</td>\n",
       "    </tr>\n",
       "    <tr>\n",
       "      <th>2013-12-02</th>\n",
       "      <td>AMZN</td>\n",
       "      <td>19.615000</td>\n",
       "      <td>19.615000</td>\n",
       "      <td>19.950001</td>\n",
       "      <td>19.455000</td>\n",
       "      <td>19.950001</td>\n",
       "      <td>94280000.0</td>\n",
       "      <td>largest_stocks</td>\n",
       "    </tr>\n",
       "    <tr>\n",
       "      <th>2013-12-02</th>\n",
       "      <td>ASML</td>\n",
       "      <td>84.409317</td>\n",
       "      <td>93.739998</td>\n",
       "      <td>94.080002</td>\n",
       "      <td>93.419998</td>\n",
       "      <td>93.589996</td>\n",
       "      <td>381100.0</td>\n",
       "      <td>largest_stocks</td>\n",
       "    </tr>\n",
       "    <tr>\n",
       "      <th>2013-12-02</th>\n",
       "      <td>AVGO</td>\n",
       "      <td>33.917286</td>\n",
       "      <td>45.000000</td>\n",
       "      <td>46.209999</td>\n",
       "      <td>44.939999</td>\n",
       "      <td>45.490002</td>\n",
       "      <td>2445400.0</td>\n",
       "      <td>largest_stocks</td>\n",
       "    </tr>\n",
       "  </tbody>\n",
       "</table>\n",
       "</div>"
      ],
      "text/plain": [
       "           Ticker  Adj Close      Close       High        Low       Open  \\\n",
       "Date                                                                       \n",
       "2013-12-02   AAPL  17.237236  19.686787  20.154642  19.672144  19.928572   \n",
       "2013-12-02    ACN  63.617287  76.330002  77.639999  76.150002  77.419998   \n",
       "2013-12-02   AMZN  19.615000  19.615000  19.950001  19.455000  19.950001   \n",
       "2013-12-02   ASML  84.409317  93.739998  94.080002  93.419998  93.589996   \n",
       "2013-12-02   AVGO  33.917286  45.000000  46.209999  44.939999  45.490002   \n",
       "\n",
       "                 Volume           group  \n",
       "Date                                     \n",
       "2013-12-02  472544800.0  largest_stocks  \n",
       "2013-12-02    2489300.0  largest_stocks  \n",
       "2013-12-02   94280000.0  largest_stocks  \n",
       "2013-12-02     381100.0  largest_stocks  \n",
       "2013-12-02    2445400.0  largest_stocks  "
      ]
     },
     "execution_count": 22,
     "metadata": {},
     "output_type": "execute_result"
    }
   ],
   "source": [
    "largest_stocks_df = largest_stocks.unstack().reset_index()\n",
    "largest_stocks_df = largest_stocks_df.pivot_table(index=[\"Date\",\"Ticker\"],  columns= [\"Price\"]).reset_index()\n",
    "largest_stocks_df.columns = [\"Date\",\"Ticker\", \"Adj Close\",\t\"Close\",\t\"High\",\t\"Low\",\t\"Open\",\t\"Volume\"]\n",
    "largest_stocks_df[\"group\"]=\"largest_stocks\"\n",
    "largest_stocks_df.set_index(\"Date\", inplace=True)\n",
    "\n",
    "large_stocks_df = large_stocks.unstack().reset_index()\n",
    "large_stocks_df = large_stocks_df.pivot_table(index=[\"Date\",\"Ticker\"],  columns= [\"Price\"]).reset_index()\n",
    "large_stocks_df.columns = [\"Date\",\"Ticker\", \"Adj Close\",\t\"Close\",\t\"High\",\t\"Low\",\t\"Open\",\t\"Volume\"]\n",
    "large_stocks_df[\"group\"]=\"large_stocks\"\n",
    "large_stocks_df.set_index(\"Date\", inplace=True)\n",
    "\n",
    "\n",
    "stocks_df = pd.concat([largest_stocks_df,large_stocks_df])\n",
    "stocks_df.head()\n"
   ]
  },
  {
   "cell_type": "code",
   "execution_count": 23,
   "metadata": {},
   "outputs": [
    {
     "data": {
      "text/html": [
       "<div>\n",
       "<style scoped>\n",
       "    .dataframe tbody tr th:only-of-type {\n",
       "        vertical-align: middle;\n",
       "    }\n",
       "\n",
       "    .dataframe tbody tr th {\n",
       "        vertical-align: top;\n",
       "    }\n",
       "\n",
       "    .dataframe thead th {\n",
       "        text-align: right;\n",
       "    }\n",
       "</style>\n",
       "<table border=\"1\" class=\"dataframe\">\n",
       "  <thead>\n",
       "    <tr style=\"text-align: right;\">\n",
       "      <th></th>\n",
       "      <th>Ticker</th>\n",
       "      <th>Adj Close</th>\n",
       "      <th>Close</th>\n",
       "      <th>High</th>\n",
       "      <th>Low</th>\n",
       "      <th>Open</th>\n",
       "      <th>Volume</th>\n",
       "      <th>group</th>\n",
       "    </tr>\n",
       "    <tr>\n",
       "      <th>Date</th>\n",
       "      <th></th>\n",
       "      <th></th>\n",
       "      <th></th>\n",
       "      <th></th>\n",
       "      <th></th>\n",
       "      <th></th>\n",
       "      <th></th>\n",
       "      <th></th>\n",
       "    </tr>\n",
       "  </thead>\n",
       "  <tbody>\n",
       "    <tr>\n",
       "      <th>2013-12-02</th>\n",
       "      <td>AAPL</td>\n",
       "      <td>17.237236</td>\n",
       "      <td>19.686787</td>\n",
       "      <td>20.154642</td>\n",
       "      <td>19.672144</td>\n",
       "      <td>19.928572</td>\n",
       "      <td>472544800.0</td>\n",
       "      <td>largest_stocks</td>\n",
       "    </tr>\n",
       "    <tr>\n",
       "      <th>2013-12-02</th>\n",
       "      <td>ACN</td>\n",
       "      <td>63.617287</td>\n",
       "      <td>76.330002</td>\n",
       "      <td>77.639999</td>\n",
       "      <td>76.150002</td>\n",
       "      <td>77.419998</td>\n",
       "      <td>2489300.0</td>\n",
       "      <td>largest_stocks</td>\n",
       "    </tr>\n",
       "    <tr>\n",
       "      <th>2013-12-02</th>\n",
       "      <td>AMZN</td>\n",
       "      <td>19.615000</td>\n",
       "      <td>19.615000</td>\n",
       "      <td>19.950001</td>\n",
       "      <td>19.455000</td>\n",
       "      <td>19.950001</td>\n",
       "      <td>94280000.0</td>\n",
       "      <td>largest_stocks</td>\n",
       "    </tr>\n",
       "    <tr>\n",
       "      <th>2013-12-02</th>\n",
       "      <td>ASML</td>\n",
       "      <td>84.409317</td>\n",
       "      <td>93.739998</td>\n",
       "      <td>94.080002</td>\n",
       "      <td>93.419998</td>\n",
       "      <td>93.589996</td>\n",
       "      <td>381100.0</td>\n",
       "      <td>largest_stocks</td>\n",
       "    </tr>\n",
       "    <tr>\n",
       "      <th>2013-12-02</th>\n",
       "      <td>AVGO</td>\n",
       "      <td>33.917286</td>\n",
       "      <td>45.000000</td>\n",
       "      <td>46.209999</td>\n",
       "      <td>44.939999</td>\n",
       "      <td>45.490002</td>\n",
       "      <td>2445400.0</td>\n",
       "      <td>largest_stocks</td>\n",
       "    </tr>\n",
       "  </tbody>\n",
       "</table>\n",
       "</div>"
      ],
      "text/plain": [
       "           Ticker  Adj Close      Close       High        Low       Open  \\\n",
       "Date                                                                       \n",
       "2013-12-02   AAPL  17.237236  19.686787  20.154642  19.672144  19.928572   \n",
       "2013-12-02    ACN  63.617287  76.330002  77.639999  76.150002  77.419998   \n",
       "2013-12-02   AMZN  19.615000  19.615000  19.950001  19.455000  19.950001   \n",
       "2013-12-02   ASML  84.409317  93.739998  94.080002  93.419998  93.589996   \n",
       "2013-12-02   AVGO  33.917286  45.000000  46.209999  44.939999  45.490002   \n",
       "\n",
       "                 Volume           group  \n",
       "Date                                     \n",
       "2013-12-02  472544800.0  largest_stocks  \n",
       "2013-12-02    2489300.0  largest_stocks  \n",
       "2013-12-02   94280000.0  largest_stocks  \n",
       "2013-12-02     381100.0  largest_stocks  \n",
       "2013-12-02    2445400.0  largest_stocks  "
      ]
     },
     "execution_count": 23,
     "metadata": {},
     "output_type": "execute_result"
    }
   ],
   "source": [
    "stocks_df.head()"
   ]
  },
  {
   "cell_type": "code",
   "execution_count": 24,
   "metadata": {},
   "outputs": [
    {
     "data": {
      "text/html": [
       "<div>\n",
       "<style scoped>\n",
       "    .dataframe tbody tr th:only-of-type {\n",
       "        vertical-align: middle;\n",
       "    }\n",
       "\n",
       "    .dataframe tbody tr th {\n",
       "        vertical-align: top;\n",
       "    }\n",
       "\n",
       "    .dataframe thead th {\n",
       "        text-align: right;\n",
       "    }\n",
       "</style>\n",
       "<table border=\"1\" class=\"dataframe\">\n",
       "  <thead>\n",
       "    <tr style=\"text-align: right;\">\n",
       "      <th></th>\n",
       "      <th>group</th>\n",
       "      <th>Ticker</th>\n",
       "      <th>Date</th>\n",
       "      <th>Adj Close</th>\n",
       "    </tr>\n",
       "  </thead>\n",
       "  <tbody>\n",
       "    <tr>\n",
       "      <th>21</th>\n",
       "      <td>large_stocks</td>\n",
       "      <td>ADANIENT.NS</td>\n",
       "      <td>2014-01-01</td>\n",
       "      <td>1.035646</td>\n",
       "    </tr>\n",
       "    <tr>\n",
       "      <th>22</th>\n",
       "      <td>large_stocks</td>\n",
       "      <td>ADANIENT.NS</td>\n",
       "      <td>2014-01-02</td>\n",
       "      <td>0.940516</td>\n",
       "    </tr>\n",
       "    <tr>\n",
       "      <th>23</th>\n",
       "      <td>large_stocks</td>\n",
       "      <td>ADANIENT.NS</td>\n",
       "      <td>2014-01-03</td>\n",
       "      <td>0.924954</td>\n",
       "    </tr>\n",
       "    <tr>\n",
       "      <th>24</th>\n",
       "      <td>large_stocks</td>\n",
       "      <td>ADANIENT.NS</td>\n",
       "      <td>2014-01-06</td>\n",
       "      <td>0.934210</td>\n",
       "    </tr>\n",
       "    <tr>\n",
       "      <th>25</th>\n",
       "      <td>large_stocks</td>\n",
       "      <td>ADANIENT.NS</td>\n",
       "      <td>2014-01-07</td>\n",
       "      <td>0.887890</td>\n",
       "    </tr>\n",
       "    <tr>\n",
       "      <th>26</th>\n",
       "      <td>large_stocks</td>\n",
       "      <td>ADANIENT.NS</td>\n",
       "      <td>2014-01-08</td>\n",
       "      <td>0.901972</td>\n",
       "    </tr>\n",
       "    <tr>\n",
       "      <th>27</th>\n",
       "      <td>large_stocks</td>\n",
       "      <td>ADANIENT.NS</td>\n",
       "      <td>2014-01-09</td>\n",
       "      <td>0.935428</td>\n",
       "    </tr>\n",
       "    <tr>\n",
       "      <th>28</th>\n",
       "      <td>large_stocks</td>\n",
       "      <td>ADANIENT.NS</td>\n",
       "      <td>2014-01-10</td>\n",
       "      <td>0.896558</td>\n",
       "    </tr>\n",
       "    <tr>\n",
       "      <th>29</th>\n",
       "      <td>large_stocks</td>\n",
       "      <td>ADANIENT.NS</td>\n",
       "      <td>2014-01-13</td>\n",
       "      <td>0.921480</td>\n",
       "    </tr>\n",
       "    <tr>\n",
       "      <th>30</th>\n",
       "      <td>large_stocks</td>\n",
       "      <td>ADANIENT.NS</td>\n",
       "      <td>2014-01-14</td>\n",
       "      <td>0.983491</td>\n",
       "    </tr>\n",
       "  </tbody>\n",
       "</table>\n",
       "</div>"
      ],
      "text/plain": [
       "           group       Ticker       Date  Adj Close\n",
       "21  large_stocks  ADANIENT.NS 2014-01-01   1.035646\n",
       "22  large_stocks  ADANIENT.NS 2014-01-02   0.940516\n",
       "23  large_stocks  ADANIENT.NS 2014-01-03   0.924954\n",
       "24  large_stocks  ADANIENT.NS 2014-01-06   0.934210\n",
       "25  large_stocks  ADANIENT.NS 2014-01-07   0.887890\n",
       "26  large_stocks  ADANIENT.NS 2014-01-08   0.901972\n",
       "27  large_stocks  ADANIENT.NS 2014-01-09   0.935428\n",
       "28  large_stocks  ADANIENT.NS 2014-01-10   0.896558\n",
       "29  large_stocks  ADANIENT.NS 2014-01-13   0.921480\n",
       "30  large_stocks  ADANIENT.NS 2014-01-14   0.983491"
      ]
     },
     "execution_count": 24,
     "metadata": {},
     "output_type": "execute_result"
    }
   ],
   "source": [
    "\n",
    "stocks_group = stocks_df.groupby([\"group\",\"Ticker\"]).apply(lambda x : x['Adj Close'] / x['Adj Close'].shift(7)).reset_index()\n",
    "stocks_group = stocks_group.query(\"Date >= '2014-01-01'\")\n",
    "stocks_group.head(10)"
   ]
  },
  {
   "cell_type": "code",
   "execution_count": 25,
   "metadata": {},
   "outputs": [
    {
     "data": {
      "text/html": [
       "<div>\n",
       "<style scoped>\n",
       "    .dataframe tbody tr th:only-of-type {\n",
       "        vertical-align: middle;\n",
       "    }\n",
       "\n",
       "    .dataframe tbody tr th {\n",
       "        vertical-align: top;\n",
       "    }\n",
       "\n",
       "    .dataframe thead th {\n",
       "        text-align: right;\n",
       "    }\n",
       "</style>\n",
       "<table border=\"1\" class=\"dataframe\">\n",
       "  <thead>\n",
       "    <tr style=\"text-align: right;\">\n",
       "      <th></th>\n",
       "      <th>large_stocks</th>\n",
       "      <th>largest_stocks</th>\n",
       "      <th>diff</th>\n",
       "    </tr>\n",
       "    <tr>\n",
       "      <th>Date</th>\n",
       "      <th></th>\n",
       "      <th></th>\n",
       "      <th></th>\n",
       "    </tr>\n",
       "  </thead>\n",
       "  <tbody>\n",
       "    <tr>\n",
       "      <th>2014-01-01</th>\n",
       "      <td>1.009288</td>\n",
       "      <td>1.011797</td>\n",
       "      <td>False</td>\n",
       "    </tr>\n",
       "    <tr>\n",
       "      <th>2014-01-02</th>\n",
       "      <td>1.004176</td>\n",
       "      <td>1.006333</td>\n",
       "      <td>False</td>\n",
       "    </tr>\n",
       "    <tr>\n",
       "      <th>2014-01-03</th>\n",
       "      <td>1.002944</td>\n",
       "      <td>0.999152</td>\n",
       "      <td>True</td>\n",
       "    </tr>\n",
       "    <tr>\n",
       "      <th>2014-01-06</th>\n",
       "      <td>0.997761</td>\n",
       "      <td>0.994203</td>\n",
       "      <td>True</td>\n",
       "    </tr>\n",
       "    <tr>\n",
       "      <th>2014-01-07</th>\n",
       "      <td>0.994872</td>\n",
       "      <td>0.992509</td>\n",
       "      <td>True</td>\n",
       "    </tr>\n",
       "  </tbody>\n",
       "</table>\n",
       "</div>"
      ],
      "text/plain": [
       "            large_stocks  largest_stocks   diff\n",
       "Date                                           \n",
       "2014-01-01      1.009288        1.011797  False\n",
       "2014-01-02      1.004176        1.006333  False\n",
       "2014-01-03      1.002944        0.999152   True\n",
       "2014-01-06      0.997761        0.994203   True\n",
       "2014-01-07      0.994872        0.992509   True"
      ]
     },
     "execution_count": 25,
     "metadata": {},
     "output_type": "execute_result"
    }
   ],
   "source": [
    "stocks_group = stocks_group.pivot_table(columns=\"group\", index=\"Date\", values=\"Adj Close\", aggfunc=\"mean\")\n",
    "stocks_group.columns = ['large_stocks'\t,'largest_stocks']\n",
    "stocks_group[\"diff\"] = stocks_group['large_stocks'] > stocks_group['largest_stocks']\n",
    "stocks_group.head()"
   ]
  },
  {
   "cell_type": "code",
   "execution_count": 26,
   "metadata": {},
   "outputs": [
    {
     "data": {
      "text/plain": [
       "0.47"
      ]
     },
     "execution_count": 26,
     "metadata": {},
     "output_type": "execute_result"
    }
   ],
   "source": [
    "round(stocks_group[\"diff\"].sum() / len(stocks_group),2)\n"
   ]
  },
  {
   "cell_type": "markdown",
   "metadata": {},
   "source": [
    "### Question 4"
   ]
  },
  {
   "cell_type": "code",
   "execution_count": 27,
   "metadata": {},
   "outputs": [
    {
     "data": {
      "text/html": [
       "<div>\n",
       "<style scoped>\n",
       "    .dataframe tbody tr th:only-of-type {\n",
       "        vertical-align: middle;\n",
       "    }\n",
       "\n",
       "    .dataframe tbody tr th {\n",
       "        vertical-align: top;\n",
       "    }\n",
       "\n",
       "    .dataframe thead th {\n",
       "        text-align: right;\n",
       "    }\n",
       "</style>\n",
       "<table border=\"1\" class=\"dataframe\">\n",
       "  <thead>\n",
       "    <tr style=\"text-align: right;\">\n",
       "      <th></th>\n",
       "      <th>Open</th>\n",
       "      <th>High</th>\n",
       "      <th>Low</th>\n",
       "      <th>Close</th>\n",
       "      <th>Adj Close_x</th>\n",
       "      <th>Volume</th>\n",
       "      <th>Ticker</th>\n",
       "      <th>Year</th>\n",
       "      <th>Month</th>\n",
       "      <th>Weekday</th>\n",
       "      <th>...</th>\n",
       "      <th>growth_brent_oil_7d</th>\n",
       "      <th>growth_brent_oil_30d</th>\n",
       "      <th>growth_brent_oil_90d</th>\n",
       "      <th>growth_brent_oil_365d</th>\n",
       "      <th>growth_btc_usd_1d</th>\n",
       "      <th>growth_btc_usd_3d</th>\n",
       "      <th>growth_btc_usd_7d</th>\n",
       "      <th>growth_btc_usd_30d</th>\n",
       "      <th>growth_btc_usd_90d</th>\n",
       "      <th>growth_btc_usd_365d</th>\n",
       "    </tr>\n",
       "  </thead>\n",
       "  <tbody>\n",
       "    <tr>\n",
       "      <th>7011</th>\n",
       "      <td>37.349998</td>\n",
       "      <td>37.400002</td>\n",
       "      <td>37.099998</td>\n",
       "      <td>37.160000</td>\n",
       "      <td>31.233059</td>\n",
       "      <td>30632200.0</td>\n",
       "      <td>MSFT</td>\n",
       "      <td>2014</td>\n",
       "      <td>2014-01-01</td>\n",
       "      <td>3</td>\n",
       "      <td>...</td>\n",
       "      <td>0.964302</td>\n",
       "      <td>0.992998</td>\n",
       "      <td>0.970030</td>\n",
       "      <td>1.158676</td>\n",
       "      <td>NaN</td>\n",
       "      <td>NaN</td>\n",
       "      <td>NaN</td>\n",
       "      <td>NaN</td>\n",
       "      <td>NaN</td>\n",
       "      <td>NaN</td>\n",
       "    </tr>\n",
       "    <tr>\n",
       "      <th>7012</th>\n",
       "      <td>37.200001</td>\n",
       "      <td>37.220001</td>\n",
       "      <td>36.599998</td>\n",
       "      <td>36.910000</td>\n",
       "      <td>31.022930</td>\n",
       "      <td>31134800.0</td>\n",
       "      <td>MSFT</td>\n",
       "      <td>2014</td>\n",
       "      <td>2014-01-01</td>\n",
       "      <td>4</td>\n",
       "      <td>...</td>\n",
       "      <td>0.958139</td>\n",
       "      <td>0.984707</td>\n",
       "      <td>0.961500</td>\n",
       "      <td>1.143209</td>\n",
       "      <td>NaN</td>\n",
       "      <td>NaN</td>\n",
       "      <td>NaN</td>\n",
       "      <td>NaN</td>\n",
       "      <td>NaN</td>\n",
       "      <td>NaN</td>\n",
       "    </tr>\n",
       "    <tr>\n",
       "      <th>7013</th>\n",
       "      <td>36.849998</td>\n",
       "      <td>36.889999</td>\n",
       "      <td>36.110001</td>\n",
       "      <td>36.130001</td>\n",
       "      <td>30.367352</td>\n",
       "      <td>43603700.0</td>\n",
       "      <td>MSFT</td>\n",
       "      <td>2014</td>\n",
       "      <td>2014-01-01</td>\n",
       "      <td>0</td>\n",
       "      <td>...</td>\n",
       "      <td>0.953798</td>\n",
       "      <td>0.998223</td>\n",
       "      <td>0.968951</td>\n",
       "      <td>1.168236</td>\n",
       "      <td>NaN</td>\n",
       "      <td>NaN</td>\n",
       "      <td>NaN</td>\n",
       "      <td>NaN</td>\n",
       "      <td>NaN</td>\n",
       "      <td>NaN</td>\n",
       "    </tr>\n",
       "    <tr>\n",
       "      <th>7014</th>\n",
       "      <td>36.330002</td>\n",
       "      <td>36.490002</td>\n",
       "      <td>36.209999</td>\n",
       "      <td>36.410000</td>\n",
       "      <td>30.602673</td>\n",
       "      <td>35802800.0</td>\n",
       "      <td>MSFT</td>\n",
       "      <td>2014</td>\n",
       "      <td>2014-01-01</td>\n",
       "      <td>1</td>\n",
       "      <td>...</td>\n",
       "      <td>0.958653</td>\n",
       "      <td>0.993430</td>\n",
       "      <td>0.977598</td>\n",
       "      <td>1.097648</td>\n",
       "      <td>NaN</td>\n",
       "      <td>NaN</td>\n",
       "      <td>NaN</td>\n",
       "      <td>NaN</td>\n",
       "      <td>NaN</td>\n",
       "      <td>NaN</td>\n",
       "    </tr>\n",
       "    <tr>\n",
       "      <th>7015</th>\n",
       "      <td>36.000000</td>\n",
       "      <td>36.139999</td>\n",
       "      <td>35.580002</td>\n",
       "      <td>35.759998</td>\n",
       "      <td>30.056356</td>\n",
       "      <td>59971700.0</td>\n",
       "      <td>MSFT</td>\n",
       "      <td>2014</td>\n",
       "      <td>2014-01-01</td>\n",
       "      <td>2</td>\n",
       "      <td>...</td>\n",
       "      <td>0.955161</td>\n",
       "      <td>0.973383</td>\n",
       "      <td>0.974977</td>\n",
       "      <td>1.100781</td>\n",
       "      <td>NaN</td>\n",
       "      <td>NaN</td>\n",
       "      <td>NaN</td>\n",
       "      <td>NaN</td>\n",
       "      <td>NaN</td>\n",
       "      <td>NaN</td>\n",
       "    </tr>\n",
       "  </tbody>\n",
       "</table>\n",
       "<p>5 rows × 202 columns</p>\n",
       "</div>"
      ],
      "text/plain": [
       "           Open       High        Low      Close  Adj Close_x      Volume  \\\n",
       "7011  37.349998  37.400002  37.099998  37.160000    31.233059  30632200.0   \n",
       "7012  37.200001  37.220001  36.599998  36.910000    31.022930  31134800.0   \n",
       "7013  36.849998  36.889999  36.110001  36.130001    30.367352  43603700.0   \n",
       "7014  36.330002  36.490002  36.209999  36.410000    30.602673  35802800.0   \n",
       "7015  36.000000  36.139999  35.580002  35.759998    30.056356  59971700.0   \n",
       "\n",
       "     Ticker  Year      Month  Weekday  ... growth_brent_oil_7d  \\\n",
       "7011   MSFT  2014 2014-01-01        3  ...            0.964302   \n",
       "7012   MSFT  2014 2014-01-01        4  ...            0.958139   \n",
       "7013   MSFT  2014 2014-01-01        0  ...            0.953798   \n",
       "7014   MSFT  2014 2014-01-01        1  ...            0.958653   \n",
       "7015   MSFT  2014 2014-01-01        2  ...            0.955161   \n",
       "\n",
       "      growth_brent_oil_30d  growth_brent_oil_90d  growth_brent_oil_365d  \\\n",
       "7011              0.992998              0.970030               1.158676   \n",
       "7012              0.984707              0.961500               1.143209   \n",
       "7013              0.998223              0.968951               1.168236   \n",
       "7014              0.993430              0.977598               1.097648   \n",
       "7015              0.973383              0.974977               1.100781   \n",
       "\n",
       "      growth_btc_usd_1d  growth_btc_usd_3d  growth_btc_usd_7d  \\\n",
       "7011                NaN                NaN                NaN   \n",
       "7012                NaN                NaN                NaN   \n",
       "7013                NaN                NaN                NaN   \n",
       "7014                NaN                NaN                NaN   \n",
       "7015                NaN                NaN                NaN   \n",
       "\n",
       "      growth_btc_usd_30d  growth_btc_usd_90d  growth_btc_usd_365d  \n",
       "7011                 NaN                 NaN                  NaN  \n",
       "7012                 NaN                 NaN                  NaN  \n",
       "7013                 NaN                 NaN                  NaN  \n",
       "7014                 NaN                 NaN                  NaN  \n",
       "7015                 NaN                 NaN                  NaN  \n",
       "\n",
       "[5 rows x 202 columns]"
      ]
     },
     "execution_count": 27,
     "metadata": {},
     "output_type": "execute_result"
    }
   ],
   "source": [
    "#https://drive.google.com/file/d/1m3Qisfs2XfWk6Sw_Uk5kHLWqwQ0q8SKb/view?usp=sharing\n",
    "data = pd.read_parquet(\"data/stocks_df_combined_trunc_2014_2023.parquet.brotli\")\n",
    "data.head()"
   ]
  },
  {
   "cell_type": "code",
   "execution_count": 28,
   "metadata": {},
   "outputs": [
    {
     "data": {
      "text/html": [
       "<div>\n",
       "<style scoped>\n",
       "    .dataframe tbody tr th:only-of-type {\n",
       "        vertical-align: middle;\n",
       "    }\n",
       "\n",
       "    .dataframe tbody tr th {\n",
       "        vertical-align: top;\n",
       "    }\n",
       "\n",
       "    .dataframe thead th {\n",
       "        text-align: right;\n",
       "    }\n",
       "</style>\n",
       "<table border=\"1\" class=\"dataframe\">\n",
       "  <thead>\n",
       "    <tr style=\"text-align: right;\">\n",
       "      <th></th>\n",
       "      <th>Adj Close_x</th>\n",
       "      <th>Ticker</th>\n",
       "      <th>Date</th>\n",
       "      <th>Weekday</th>\n",
       "      <th>cci</th>\n",
       "    </tr>\n",
       "  </thead>\n",
       "  <tbody>\n",
       "    <tr>\n",
       "      <th>7011</th>\n",
       "      <td>31.233059</td>\n",
       "      <td>MSFT</td>\n",
       "      <td>2014-01-02</td>\n",
       "      <td>3</td>\n",
       "      <td>57.700615</td>\n",
       "    </tr>\n",
       "    <tr>\n",
       "      <th>7012</th>\n",
       "      <td>31.022930</td>\n",
       "      <td>MSFT</td>\n",
       "      <td>2014-01-03</td>\n",
       "      <td>4</td>\n",
       "      <td>1.373763</td>\n",
       "    </tr>\n",
       "    <tr>\n",
       "      <th>7013</th>\n",
       "      <td>30.367352</td>\n",
       "      <td>MSFT</td>\n",
       "      <td>2014-01-06</td>\n",
       "      <td>0</td>\n",
       "      <td>-96.631259</td>\n",
       "    </tr>\n",
       "    <tr>\n",
       "      <th>7014</th>\n",
       "      <td>30.602673</td>\n",
       "      <td>MSFT</td>\n",
       "      <td>2014-01-07</td>\n",
       "      <td>1</td>\n",
       "      <td>-83.904297</td>\n",
       "    </tr>\n",
       "    <tr>\n",
       "      <th>7015</th>\n",
       "      <td>30.056356</td>\n",
       "      <td>MSFT</td>\n",
       "      <td>2014-01-08</td>\n",
       "      <td>2</td>\n",
       "      <td>-147.855135</td>\n",
       "    </tr>\n",
       "  </tbody>\n",
       "</table>\n",
       "</div>"
      ],
      "text/plain": [
       "      Adj Close_x Ticker       Date  Weekday         cci\n",
       "7011    31.233059   MSFT 2014-01-02        3   57.700615\n",
       "7012    31.022930   MSFT 2014-01-03        4    1.373763\n",
       "7013    30.367352   MSFT 2014-01-06        0  -96.631259\n",
       "7014    30.602673   MSFT 2014-01-07        1  -83.904297\n",
       "7015    30.056356   MSFT 2014-01-08        2 -147.855135"
      ]
     },
     "execution_count": 28,
     "metadata": {},
     "output_type": "execute_result"
    }
   ],
   "source": [
    "df = data[[\"Adj Close_x\",\"Ticker\",\"Date\",\"Weekday\",\"cci\" ]]\n",
    "df.head()"
   ]
  },
  {
   "cell_type": "code",
   "execution_count": 29,
   "metadata": {},
   "outputs": [
    {
     "data": {
      "text/html": [
       "<div>\n",
       "<style scoped>\n",
       "    .dataframe tbody tr th:only-of-type {\n",
       "        vertical-align: middle;\n",
       "    }\n",
       "\n",
       "    .dataframe tbody tr th {\n",
       "        vertical-align: top;\n",
       "    }\n",
       "\n",
       "    .dataframe thead th {\n",
       "        text-align: right;\n",
       "    }\n",
       "</style>\n",
       "<table border=\"1\" class=\"dataframe\">\n",
       "  <thead>\n",
       "    <tr style=\"text-align: right;\">\n",
       "      <th></th>\n",
       "      <th>Ticker</th>\n",
       "      <th>Date</th>\n",
       "      <th>adj_close_5days_ahead</th>\n",
       "    </tr>\n",
       "  </thead>\n",
       "  <tbody>\n",
       "    <tr>\n",
       "      <th>0</th>\n",
       "      <td>AAPL</td>\n",
       "      <td>2014-01-02</td>\n",
       "      <td>16.777248</td>\n",
       "    </tr>\n",
       "    <tr>\n",
       "      <th>1</th>\n",
       "      <td>AAPL</td>\n",
       "      <td>2014-01-03</td>\n",
       "      <td>16.665304</td>\n",
       "    </tr>\n",
       "    <tr>\n",
       "      <th>2</th>\n",
       "      <td>AAPL</td>\n",
       "      <td>2014-01-06</td>\n",
       "      <td>16.752554</td>\n",
       "    </tr>\n",
       "    <tr>\n",
       "      <th>3</th>\n",
       "      <td>AAPL</td>\n",
       "      <td>2014-01-07</td>\n",
       "      <td>17.085888</td>\n",
       "    </tr>\n",
       "    <tr>\n",
       "      <th>4</th>\n",
       "      <td>AAPL</td>\n",
       "      <td>2014-01-08</td>\n",
       "      <td>17.428932</td>\n",
       "    </tr>\n",
       "  </tbody>\n",
       "</table>\n",
       "</div>"
      ],
      "text/plain": [
       "  Ticker       Date  adj_close_5days_ahead\n",
       "0   AAPL 2014-01-02              16.777248\n",
       "1   AAPL 2014-01-03              16.665304\n",
       "2   AAPL 2014-01-06              16.752554\n",
       "3   AAPL 2014-01-07              17.085888\n",
       "4   AAPL 2014-01-08              17.428932"
      ]
     },
     "execution_count": 29,
     "metadata": {},
     "output_type": "execute_result"
    }
   ],
   "source": [
    "adj_close_5days_ahead_df = df.set_index([\"Date\"]).groupby([\"Ticker\"]).apply(lambda x : x[\"Adj Close_x\"].shift(-5)).reset_index().rename(columns={\"Adj Close_x\":\"adj_close_5days_ahead\"})\n",
    "adj_close_5days_ahead_df.head()"
   ]
  },
  {
   "cell_type": "code",
   "execution_count": 30,
   "metadata": {},
   "outputs": [
    {
     "data": {
      "text/html": [
       "<div>\n",
       "<style scoped>\n",
       "    .dataframe tbody tr th:only-of-type {\n",
       "        vertical-align: middle;\n",
       "    }\n",
       "\n",
       "    .dataframe tbody tr th {\n",
       "        vertical-align: top;\n",
       "    }\n",
       "\n",
       "    .dataframe thead th {\n",
       "        text-align: right;\n",
       "    }\n",
       "</style>\n",
       "<table border=\"1\" class=\"dataframe\">\n",
       "  <thead>\n",
       "    <tr style=\"text-align: right;\">\n",
       "      <th></th>\n",
       "      <th>Adj Close_x</th>\n",
       "      <th>Ticker</th>\n",
       "      <th>Date</th>\n",
       "      <th>Weekday</th>\n",
       "      <th>cci</th>\n",
       "      <th>adj_close_5days_ahead</th>\n",
       "    </tr>\n",
       "  </thead>\n",
       "  <tbody>\n",
       "    <tr>\n",
       "      <th>0</th>\n",
       "      <td>31.233059</td>\n",
       "      <td>MSFT</td>\n",
       "      <td>2014-01-02</td>\n",
       "      <td>3</td>\n",
       "      <td>57.700615</td>\n",
       "      <td>29.863047</td>\n",
       "    </tr>\n",
       "    <tr>\n",
       "      <th>1</th>\n",
       "      <td>31.022930</td>\n",
       "      <td>MSFT</td>\n",
       "      <td>2014-01-03</td>\n",
       "      <td>4</td>\n",
       "      <td>1.373763</td>\n",
       "      <td>30.291698</td>\n",
       "    </tr>\n",
       "    <tr>\n",
       "      <th>2</th>\n",
       "      <td>30.367352</td>\n",
       "      <td>MSFT</td>\n",
       "      <td>2014-01-06</td>\n",
       "      <td>0</td>\n",
       "      <td>-96.631259</td>\n",
       "      <td>29.400766</td>\n",
       "    </tr>\n",
       "    <tr>\n",
       "      <th>3</th>\n",
       "      <td>30.602673</td>\n",
       "      <td>MSFT</td>\n",
       "      <td>2014-01-07</td>\n",
       "      <td>1</td>\n",
       "      <td>-83.904297</td>\n",
       "      <td>30.073174</td>\n",
       "    </tr>\n",
       "    <tr>\n",
       "      <th>4</th>\n",
       "      <td>30.056356</td>\n",
       "      <td>MSFT</td>\n",
       "      <td>2014-01-08</td>\n",
       "      <td>2</td>\n",
       "      <td>-147.855135</td>\n",
       "      <td>30.896852</td>\n",
       "    </tr>\n",
       "  </tbody>\n",
       "</table>\n",
       "</div>"
      ],
      "text/plain": [
       "   Adj Close_x Ticker       Date  Weekday         cci  adj_close_5days_ahead\n",
       "0    31.233059   MSFT 2014-01-02        3   57.700615              29.863047\n",
       "1    31.022930   MSFT 2014-01-03        4    1.373763              30.291698\n",
       "2    30.367352   MSFT 2014-01-06        0  -96.631259              29.400766\n",
       "3    30.602673   MSFT 2014-01-07        1  -83.904297              30.073174\n",
       "4    30.056356   MSFT 2014-01-08        2 -147.855135              30.896852"
      ]
     },
     "execution_count": 30,
     "metadata": {},
     "output_type": "execute_result"
    }
   ],
   "source": [
    "merged_df = df.merge(adj_close_5days_ahead_df, on=[\"Ticker\",\"Date\"])\n",
    "merged_df.head()"
   ]
  },
  {
   "cell_type": "code",
   "execution_count": 31,
   "metadata": {},
   "outputs": [
    {
     "data": {
      "text/html": [
       "<div>\n",
       "<style scoped>\n",
       "    .dataframe tbody tr th:only-of-type {\n",
       "        vertical-align: middle;\n",
       "    }\n",
       "\n",
       "    .dataframe tbody tr th {\n",
       "        vertical-align: top;\n",
       "    }\n",
       "\n",
       "    .dataframe thead th {\n",
       "        text-align: right;\n",
       "    }\n",
       "</style>\n",
       "<table border=\"1\" class=\"dataframe\">\n",
       "  <thead>\n",
       "    <tr style=\"text-align: right;\">\n",
       "      <th></th>\n",
       "      <th>Adj Close_x</th>\n",
       "      <th>Ticker</th>\n",
       "      <th>Date</th>\n",
       "      <th>Weekday</th>\n",
       "      <th>cci</th>\n",
       "      <th>adj_close_5days_ahead</th>\n",
       "      <th>gross_profit</th>\n",
       "    </tr>\n",
       "  </thead>\n",
       "  <tbody>\n",
       "    <tr>\n",
       "      <th>102</th>\n",
       "      <td>34.912762</td>\n",
       "      <td>MSFT</td>\n",
       "      <td>2014-05-30</td>\n",
       "      <td>4</td>\n",
       "      <td>203.518798</td>\n",
       "      <td>35.373264</td>\n",
       "      <td>13.190094</td>\n",
       "    </tr>\n",
       "    <tr>\n",
       "      <th>170</th>\n",
       "      <td>39.395618</td>\n",
       "      <td>MSFT</td>\n",
       "      <td>2014-09-05</td>\n",
       "      <td>4</td>\n",
       "      <td>257.013330</td>\n",
       "      <td>40.073509</td>\n",
       "      <td>17.207263</td>\n",
       "    </tr>\n",
       "    <tr>\n",
       "      <th>329</th>\n",
       "      <td>41.630741</td>\n",
       "      <td>MSFT</td>\n",
       "      <td>2015-04-24</td>\n",
       "      <td>4</td>\n",
       "      <td>340.009871</td>\n",
       "      <td>42.317780</td>\n",
       "      <td>16.503151</td>\n",
       "    </tr>\n",
       "    <tr>\n",
       "      <th>441</th>\n",
       "      <td>40.151123</td>\n",
       "      <td>MSFT</td>\n",
       "      <td>2015-10-02</td>\n",
       "      <td>4</td>\n",
       "      <td>206.125828</td>\n",
       "      <td>41.507988</td>\n",
       "      <td>33.793947</td>\n",
       "    </tr>\n",
       "    <tr>\n",
       "      <th>456</th>\n",
       "      <td>46.583046</td>\n",
       "      <td>MSFT</td>\n",
       "      <td>2015-10-23</td>\n",
       "      <td>4</td>\n",
       "      <td>431.107024</td>\n",
       "      <td>46.380405</td>\n",
       "      <td>-4.350092</td>\n",
       "    </tr>\n",
       "  </tbody>\n",
       "</table>\n",
       "</div>"
      ],
      "text/plain": [
       "     Adj Close_x Ticker       Date  Weekday         cci  \\\n",
       "102    34.912762   MSFT 2014-05-30        4  203.518798   \n",
       "170    39.395618   MSFT 2014-09-05        4  257.013330   \n",
       "329    41.630741   MSFT 2015-04-24        4  340.009871   \n",
       "441    40.151123   MSFT 2015-10-02        4  206.125828   \n",
       "456    46.583046   MSFT 2015-10-23        4  431.107024   \n",
       "\n",
       "     adj_close_5days_ahead  gross_profit  \n",
       "102              35.373264     13.190094  \n",
       "170              40.073509     17.207263  \n",
       "329              42.317780     16.503151  \n",
       "441              41.507988     33.793947  \n",
       "456              46.380405     -4.350092  "
      ]
     },
     "execution_count": 31,
     "metadata": {},
     "output_type": "execute_result"
    }
   ],
   "source": [
    "filterd_df = merged_df[(merged_df.cci >200) & (merged_df.Weekday == 4) ].copy()\n",
    "filterd_df[\"gross_profit\"] = 1000 * ((filterd_df[\"adj_close_5days_ahead\"] / filterd_df[\"Adj Close_x\"])-1)\n",
    "filterd_df.head()"
   ]
  },
  {
   "cell_type": "code",
   "execution_count": 32,
   "metadata": {},
   "outputs": [
    {
     "data": {
      "text/plain": [
       "1069.5071529360341"
      ]
     },
     "execution_count": 32,
     "metadata": {},
     "output_type": "execute_result"
    }
   ],
   "source": [
    "filterd_df.gross_profit.sum()"
   ]
  }
 ],
 "metadata": {
  "kernelspec": {
   "display_name": "myenv",
   "language": "python",
   "name": "python3"
  },
  "language_info": {
   "codemirror_mode": {
    "name": "ipython",
    "version": 3
   },
   "file_extension": ".py",
   "mimetype": "text/x-python",
   "name": "python",
   "nbconvert_exporter": "python",
   "pygments_lexer": "ipython3",
   "version": "3.11.7"
  }
 },
 "nbformat": 4,
 "nbformat_minor": 2
}
