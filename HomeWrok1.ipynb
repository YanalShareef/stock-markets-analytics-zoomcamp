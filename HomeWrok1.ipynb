{
 "cells": [
  {
   "cell_type": "code",
   "execution_count": 1,
   "id": "4729fa13-7d2d-43dc-a3fb-207279dd38cd",
   "metadata": {},
   "outputs": [],
   "source": [
    "# IMPORTS\n",
    "import numpy as np\n",
    "import pandas as pd\n",
    "\n",
    "#Fin Data Sources\n",
    "import yfinance as yf\n",
    "import pandas_datareader as pdr\n",
    "\n",
    "#Data viz\n",
    "import plotly.graph_objs as go\n",
    "import plotly.express as px\n",
    "\n",
    "import time\n",
    "from datetime import date\n"
   ]
  },
  {
   "cell_type": "code",
   "execution_count": 2,
   "id": "6c96cb9b-8d46-464d-80ac-7179f9193dca",
   "metadata": {},
   "outputs": [
    {
     "name": "stdout",
     "output_type": "stream",
     "text": [
      "Year = 2024; month= 4; day=20\n",
      "Period for indexes: 2019-04-20 to 2024-04-20 \n"
     ]
    }
   ],
   "source": [
    "end = date.today()\n",
    "print(f'Year = {end.year}; month= {end.month}; day={end.day}')\n",
    "\n",
    "start = date(year=end.year-5, month=end.month, day=end.day)\n",
    "print(f'Period for indexes: {start} to {end} ')"
   ]
  },
  {
   "cell_type": "markdown",
   "id": "691035a5-5179-4526-b4b2-50d5d93a702d",
   "metadata": {},
   "source": [
    "# Question 1 "
   ]
  },
  {
   "cell_type": "code",
   "execution_count": 3,
   "id": "ab6a5857-4820-44ea-bd6c-f784aaae9b7d",
   "metadata": {},
   "outputs": [],
   "source": [
    "# GDPC1\n",
    "gdpc1 = pdr.DataReader(\"GDPC1\", \"fred\", start=start)\n",
    "gdpc1['gdpc1_yoy_shift4'] = gdpc1.GDPC1.shift(4)\n",
    "gdpc1['gdpc1_yoy_shift4_minus1'] = gdpc1.GDPC1.shift(4)-1\n",
    "\n",
    "gdpc1['gdpc1_yoy'] = gdpc1.GDPC1/ gdpc1.GDPC1.shift(4)-1"
   ]
  },
  {
   "cell_type": "code",
   "execution_count": 4,
   "id": "7f3eed85-2b99-4c8d-b215-389eb60521d2",
   "metadata": {},
   "outputs": [
    {
     "data": {
      "text/html": [
       "<div>\n",
       "<style scoped>\n",
       "    .dataframe tbody tr th:only-of-type {\n",
       "        vertical-align: middle;\n",
       "    }\n",
       "\n",
       "    .dataframe tbody tr th {\n",
       "        vertical-align: top;\n",
       "    }\n",
       "\n",
       "    .dataframe thead th {\n",
       "        text-align: right;\n",
       "    }\n",
       "</style>\n",
       "<table border=\"1\" class=\"dataframe\">\n",
       "  <thead>\n",
       "    <tr style=\"text-align: right;\">\n",
       "      <th></th>\n",
       "      <th>GDPC1</th>\n",
       "      <th>gdpc1_yoy_shift4</th>\n",
       "      <th>gdpc1_yoy_shift4_minus1</th>\n",
       "      <th>gdpc1_yoy</th>\n",
       "    </tr>\n",
       "    <tr>\n",
       "      <th>DATE</th>\n",
       "      <th></th>\n",
       "      <th></th>\n",
       "      <th></th>\n",
       "      <th></th>\n",
       "    </tr>\n",
       "  </thead>\n",
       "  <tbody>\n",
       "    <tr>\n",
       "      <th>2021-07-01</th>\n",
       "      <td>21483.083</td>\n",
       "      <td>20511.785</td>\n",
       "      <td>20510.785</td>\n",
       "      <td>0.047353</td>\n",
       "    </tr>\n",
       "    <tr>\n",
       "      <th>2021-10-01</th>\n",
       "      <td>21847.602</td>\n",
       "      <td>20724.128</td>\n",
       "      <td>20723.128</td>\n",
       "      <td>0.054211</td>\n",
       "    </tr>\n",
       "    <tr>\n",
       "      <th>2022-01-01</th>\n",
       "      <td>21738.871</td>\n",
       "      <td>20990.541</td>\n",
       "      <td>20989.541</td>\n",
       "      <td>0.035651</td>\n",
       "    </tr>\n",
       "    <tr>\n",
       "      <th>2022-04-01</th>\n",
       "      <td>21708.160</td>\n",
       "      <td>21309.544</td>\n",
       "      <td>21308.544</td>\n",
       "      <td>0.018706</td>\n",
       "    </tr>\n",
       "    <tr>\n",
       "      <th>2022-07-01</th>\n",
       "      <td>21851.134</td>\n",
       "      <td>21483.083</td>\n",
       "      <td>21482.083</td>\n",
       "      <td>0.017132</td>\n",
       "    </tr>\n",
       "    <tr>\n",
       "      <th>2022-10-01</th>\n",
       "      <td>21989.981</td>\n",
       "      <td>21847.602</td>\n",
       "      <td>21846.602</td>\n",
       "      <td>0.006517</td>\n",
       "    </tr>\n",
       "    <tr>\n",
       "      <th>2023-01-01</th>\n",
       "      <td>22112.329</td>\n",
       "      <td>21738.871</td>\n",
       "      <td>21737.871</td>\n",
       "      <td>0.017179</td>\n",
       "    </tr>\n",
       "    <tr>\n",
       "      <th>2023-04-01</th>\n",
       "      <td>22225.350</td>\n",
       "      <td>21708.160</td>\n",
       "      <td>21707.160</td>\n",
       "      <td>0.023825</td>\n",
       "    </tr>\n",
       "    <tr>\n",
       "      <th>2023-07-01</th>\n",
       "      <td>22490.692</td>\n",
       "      <td>21851.134</td>\n",
       "      <td>21850.134</td>\n",
       "      <td>0.029269</td>\n",
       "    </tr>\n",
       "    <tr>\n",
       "      <th>2023-10-01</th>\n",
       "      <td>22679.255</td>\n",
       "      <td>21989.981</td>\n",
       "      <td>21988.981</td>\n",
       "      <td>0.031345</td>\n",
       "    </tr>\n",
       "  </tbody>\n",
       "</table>\n",
       "</div>"
      ],
      "text/plain": [
       "                GDPC1  gdpc1_yoy_shift4  gdpc1_yoy_shift4_minus1  gdpc1_yoy\n",
       "DATE                                                                       \n",
       "2021-07-01  21483.083         20511.785                20510.785   0.047353\n",
       "2021-10-01  21847.602         20724.128                20723.128   0.054211\n",
       "2022-01-01  21738.871         20990.541                20989.541   0.035651\n",
       "2022-04-01  21708.160         21309.544                21308.544   0.018706\n",
       "2022-07-01  21851.134         21483.083                21482.083   0.017132\n",
       "2022-10-01  21989.981         21847.602                21846.602   0.006517\n",
       "2023-01-01  22112.329         21738.871                21737.871   0.017179\n",
       "2023-04-01  22225.350         21708.160                21707.160   0.023825\n",
       "2023-07-01  22490.692         21851.134                21850.134   0.029269\n",
       "2023-10-01  22679.255         21989.981                21988.981   0.031345"
      ]
     },
     "execution_count": 4,
     "metadata": {},
     "output_type": "execute_result"
    }
   ],
   "source": [
    "gdpc1.tail(10)"
   ]
  },
  {
   "cell_type": "code",
   "execution_count": 5,
   "id": "5c4daf65-7941-44cd-9fdd-7cc23ce6541f",
   "metadata": {},
   "outputs": [
    {
     "data": {
      "text/plain": [
       "2.5"
      ]
     },
     "execution_count": 5,
     "metadata": {},
     "output_type": "execute_result"
    }
   ],
   "source": [
    "np.round(np.mean(gdpc1[\"2023\":\"2024\"][\"gdpc1_yoy\"])*100,1)"
   ]
  },
  {
   "cell_type": "markdown",
   "id": "cfabc8ef-31a1-474e-aa93-c4eda0cf98b3",
   "metadata": {},
   "source": [
    "# Question 2 "
   ]
  },
  {
   "cell_type": "code",
   "execution_count": 6,
   "id": "3f6ebedf-9270-4ddb-8207-bac1454146da",
   "metadata": {},
   "outputs": [
    {
     "name": "stdout",
     "output_type": "stream",
     "text": [
      "Period for indexes: 2000-01-01 to 2024-04-20 \n"
     ]
    }
   ],
   "source": [
    "start = date(year=2000, month=1, day=1)\n",
    "print(f'Period for indexes: {start} to {end} ')\n",
    "\n",
    "dgs2 = pdr.DataReader(\"DGS2\", \"fred\", start=start)\n",
    "dgs10= pdr.DataReader(\"DGS10\", \"fred\", start=start)\n"
   ]
  },
  {
   "cell_type": "code",
   "execution_count": 7,
   "id": "089513df-fa90-4b52-89dd-10e8ae580b41",
   "metadata": {},
   "outputs": [
    {
     "data": {
      "text/html": [
       "<div>\n",
       "<style scoped>\n",
       "    .dataframe tbody tr th:only-of-type {\n",
       "        vertical-align: middle;\n",
       "    }\n",
       "\n",
       "    .dataframe tbody tr th {\n",
       "        vertical-align: top;\n",
       "    }\n",
       "\n",
       "    .dataframe thead th {\n",
       "        text-align: right;\n",
       "    }\n",
       "</style>\n",
       "<table border=\"1\" class=\"dataframe\">\n",
       "  <thead>\n",
       "    <tr style=\"text-align: right;\">\n",
       "      <th></th>\n",
       "      <th>DGS2</th>\n",
       "      <th>DGS10</th>\n",
       "      <th>dgs_diff</th>\n",
       "    </tr>\n",
       "    <tr>\n",
       "      <th>DATE</th>\n",
       "      <th></th>\n",
       "      <th></th>\n",
       "      <th></th>\n",
       "    </tr>\n",
       "  </thead>\n",
       "  <tbody>\n",
       "    <tr>\n",
       "      <th>2000-01-03</th>\n",
       "      <td>6.38</td>\n",
       "      <td>6.58</td>\n",
       "      <td>0.20</td>\n",
       "    </tr>\n",
       "    <tr>\n",
       "      <th>2000-01-04</th>\n",
       "      <td>6.30</td>\n",
       "      <td>6.49</td>\n",
       "      <td>0.19</td>\n",
       "    </tr>\n",
       "    <tr>\n",
       "      <th>2000-01-05</th>\n",
       "      <td>6.38</td>\n",
       "      <td>6.62</td>\n",
       "      <td>0.24</td>\n",
       "    </tr>\n",
       "    <tr>\n",
       "      <th>2000-01-06</th>\n",
       "      <td>6.35</td>\n",
       "      <td>6.57</td>\n",
       "      <td>0.22</td>\n",
       "    </tr>\n",
       "    <tr>\n",
       "      <th>2000-01-07</th>\n",
       "      <td>6.31</td>\n",
       "      <td>6.52</td>\n",
       "      <td>0.21</td>\n",
       "    </tr>\n",
       "  </tbody>\n",
       "</table>\n",
       "</div>"
      ],
      "text/plain": [
       "            DGS2  DGS10  dgs_diff\n",
       "DATE                             \n",
       "2000-01-03  6.38   6.58      0.20\n",
       "2000-01-04  6.30   6.49      0.19\n",
       "2000-01-05  6.38   6.62      0.24\n",
       "2000-01-06  6.35   6.57      0.22\n",
       "2000-01-07  6.31   6.52      0.21"
      ]
     },
     "execution_count": 7,
     "metadata": {},
     "output_type": "execute_result"
    }
   ],
   "source": [
    "dgs_df = dgs2.merge(dgs10, on=\"DATE\")\n",
    "dgs_df[\"dgs_diff\"] = dgs_df.DGS10 - dgs_df.DGS2\n",
    "dgs_df.head()"
   ]
  },
  {
   "cell_type": "code",
   "execution_count": 8,
   "id": "76e4daa4-fd71-411f-b3fc-b45afbc5b67f",
   "metadata": {},
   "outputs": [
    {
     "data": {
      "text/plain": [
       "-1.1"
      ]
     },
     "execution_count": 8,
     "metadata": {},
     "output_type": "execute_result"
    }
   ],
   "source": [
    "np.round(np.min(dgs_df.dgs_diff),1)"
   ]
  },
  {
   "cell_type": "markdown",
   "id": "30f83e98-861a-419d-9870-f8d07cafdbc1",
   "metadata": {},
   "source": [
    "# Question3 "
   ]
  },
  {
   "cell_type": "code",
   "execution_count": 9,
   "id": "82a1674d-78ea-470d-909c-1542c00872bf",
   "metadata": {},
   "outputs": [
    {
     "name": "stderr",
     "output_type": "stream",
     "text": [
      "[*********************100%%**********************]  1 of 1 completed\n",
      "[*********************100%%**********************]  1 of 1 completed\n"
     ]
    }
   ],
   "source": [
    "# SPX= S&P500\n",
    "SPX_daily = yf.download(tickers = \"^GSPC\",\n",
    "                     period = \"max\",\n",
    "                     interval = \"1d\")\n",
    "MXX_daily = yf.download(tickers = \"^MXX\",\n",
    "                     period = \"max\",\n",
    "                     interval = \"1d\")\n",
    "\n"
   ]
  },
  {
   "cell_type": "code",
   "execution_count": 10,
   "id": "5cab9770-22df-4446-bc1e-7ca824647e62",
   "metadata": {},
   "outputs": [
    {
     "data": {
      "text/html": [
       "<div>\n",
       "<style scoped>\n",
       "    .dataframe tbody tr th:only-of-type {\n",
       "        vertical-align: middle;\n",
       "    }\n",
       "\n",
       "    .dataframe tbody tr th {\n",
       "        vertical-align: top;\n",
       "    }\n",
       "\n",
       "    .dataframe thead th {\n",
       "        text-align: right;\n",
       "    }\n",
       "</style>\n",
       "<table border=\"1\" class=\"dataframe\">\n",
       "  <thead>\n",
       "    <tr style=\"text-align: right;\">\n",
       "      <th></th>\n",
       "      <th>Open</th>\n",
       "      <th>High</th>\n",
       "      <th>Low</th>\n",
       "      <th>Close</th>\n",
       "      <th>Adj Close</th>\n",
       "      <th>Volume</th>\n",
       "    </tr>\n",
       "    <tr>\n",
       "      <th>Date</th>\n",
       "      <th></th>\n",
       "      <th></th>\n",
       "      <th></th>\n",
       "      <th></th>\n",
       "      <th></th>\n",
       "      <th></th>\n",
       "    </tr>\n",
       "  </thead>\n",
       "  <tbody>\n",
       "    <tr>\n",
       "      <th>1927-12-30</th>\n",
       "      <td>17.66</td>\n",
       "      <td>17.66</td>\n",
       "      <td>17.66</td>\n",
       "      <td>17.66</td>\n",
       "      <td>17.66</td>\n",
       "      <td>0</td>\n",
       "    </tr>\n",
       "    <tr>\n",
       "      <th>1928-01-03</th>\n",
       "      <td>17.76</td>\n",
       "      <td>17.76</td>\n",
       "      <td>17.76</td>\n",
       "      <td>17.76</td>\n",
       "      <td>17.76</td>\n",
       "      <td>0</td>\n",
       "    </tr>\n",
       "  </tbody>\n",
       "</table>\n",
       "</div>"
      ],
      "text/plain": [
       "             Open   High    Low  Close  Adj Close  Volume\n",
       "Date                                                     \n",
       "1927-12-30  17.66  17.66  17.66  17.66      17.66       0\n",
       "1928-01-03  17.76  17.76  17.76  17.76      17.76       0"
      ]
     },
     "metadata": {},
     "output_type": "display_data"
    },
    {
     "data": {
      "text/html": [
       "<div>\n",
       "<style scoped>\n",
       "    .dataframe tbody tr th:only-of-type {\n",
       "        vertical-align: middle;\n",
       "    }\n",
       "\n",
       "    .dataframe tbody tr th {\n",
       "        vertical-align: top;\n",
       "    }\n",
       "\n",
       "    .dataframe thead th {\n",
       "        text-align: right;\n",
       "    }\n",
       "</style>\n",
       "<table border=\"1\" class=\"dataframe\">\n",
       "  <thead>\n",
       "    <tr style=\"text-align: right;\">\n",
       "      <th></th>\n",
       "      <th>Open</th>\n",
       "      <th>High</th>\n",
       "      <th>Low</th>\n",
       "      <th>Close</th>\n",
       "      <th>Adj Close</th>\n",
       "      <th>Volume</th>\n",
       "    </tr>\n",
       "    <tr>\n",
       "      <th>Date</th>\n",
       "      <th></th>\n",
       "      <th></th>\n",
       "      <th></th>\n",
       "      <th></th>\n",
       "      <th></th>\n",
       "      <th></th>\n",
       "    </tr>\n",
       "  </thead>\n",
       "  <tbody>\n",
       "    <tr>\n",
       "      <th>1991-11-08</th>\n",
       "      <td>1418.800049</td>\n",
       "      <td>1418.800049</td>\n",
       "      <td>1418.800049</td>\n",
       "      <td>1418.800049</td>\n",
       "      <td>1418.800049</td>\n",
       "      <td>0</td>\n",
       "    </tr>\n",
       "    <tr>\n",
       "      <th>1991-11-11</th>\n",
       "      <td>1416.900024</td>\n",
       "      <td>1416.900024</td>\n",
       "      <td>1416.900024</td>\n",
       "      <td>1416.900024</td>\n",
       "      <td>1416.900024</td>\n",
       "      <td>0</td>\n",
       "    </tr>\n",
       "  </tbody>\n",
       "</table>\n",
       "</div>"
      ],
      "text/plain": [
       "                   Open         High          Low        Close    Adj Close  \\\n",
       "Date                                                                          \n",
       "1991-11-08  1418.800049  1418.800049  1418.800049  1418.800049  1418.800049   \n",
       "1991-11-11  1416.900024  1416.900024  1416.900024  1416.900024  1416.900024   \n",
       "\n",
       "            Volume  \n",
       "Date                \n",
       "1991-11-08       0  \n",
       "1991-11-11       0  "
      ]
     },
     "metadata": {},
     "output_type": "display_data"
    }
   ],
   "source": [
    "display(SPX_daily.head(2))\n",
    "display(MXX_daily.head(2))\n"
   ]
  },
  {
   "cell_type": "code",
   "execution_count": 11,
   "id": "6bbc2e56-0491-4f25-b274-861126d6da0e",
   "metadata": {},
   "outputs": [
    {
     "name": "stdout",
     "output_type": "stream",
     "text": [
      "spx growth: 81.01279426847174 %\n",
      "mxx growth: 27.50624912566744 %\n"
     ]
    }
   ],
   "source": [
    "(spx_start_value , spx_end_value) = SPX_daily.query(\"Date =='2019-04-09'\")[\"Close\"].iloc[0], SPX_daily.query(\"Date =='2024-04-09'\")[\"Close\"].iloc[0]\n",
    "(mxx_start_value , mxx_end_value )= MXX_daily.query(\"Date =='2019-04-09'\")[\"Close\"].iloc[0], MXX_daily.query(\"Date =='2024-04-09'\")[\"Close\"].iloc[0]\n",
    "\n",
    "print( f'spx growth: {((spx_end_value - spx_start_value) / spx_start_value)*100} %' )\n",
    "print( f'mxx growth: {((mxx_end_value - mxx_start_value) / mxx_start_value)*100} %' )\n",
    "\n"
   ]
  },
  {
   "cell_type": "markdown",
   "id": "2c368278-3877-4a82-ab63-8893335935da",
   "metadata": {},
   "source": [
    "# Question 4"
   ]
  },
  {
   "cell_type": "code",
   "execution_count": 30,
   "id": "0f324964-33b4-48a2-847e-598e2d18d258",
   "metadata": {},
   "outputs": [
    {
     "name": "stderr",
     "output_type": "stream",
     "text": [
      "[*********************100%%**********************]  1 of 1 completed\n",
      "[*********************100%%**********************]  1 of 1 completed\n",
      "[*********************100%%**********************]  1 of 1 completed\n",
      "[*********************100%%**********************]  1 of 1 completed\n",
      "[*********************100%%**********************]  1 of 1 completed\n",
      "[*********************100%%**********************]  1 of 1 completed\n"
     ]
    }
   ],
   "source": [
    "stocks_list = [\"2222.SR\",\"BRK-B\", \"AAPL\", \"MSFT\", \"GOOG\", \"JPM\"]\n",
    "stocks_df = []\n",
    "for stock in stocks_list:\n",
    "    stocks_daily = yf.download(tickers = stock,\n",
    "                     period = \"max\",\n",
    "                     interval = \"1d\")\n",
    "    stocks_daily[\"stock_cat\"] = stock\n",
    "    stocks_daily = stocks_daily[\"2023\":\"2023\"].copy()\n",
    "    stocks_df.append(stocks_daily)\n",
    "\n",
    "stocks_df_combined = pd.concat(stocks_df)"
   ]
  },
  {
   "cell_type": "code",
   "execution_count": 31,
   "id": "a1d3b989-03c1-4164-9979-ed6a7e2e0062",
   "metadata": {},
   "outputs": [
    {
     "data": {
      "text/html": [
       "<div>\n",
       "<style scoped>\n",
       "    .dataframe tbody tr th:only-of-type {\n",
       "        vertical-align: middle;\n",
       "    }\n",
       "\n",
       "    .dataframe tbody tr th {\n",
       "        vertical-align: top;\n",
       "    }\n",
       "\n",
       "    .dataframe thead th {\n",
       "        text-align: right;\n",
       "    }\n",
       "</style>\n",
       "<table border=\"1\" class=\"dataframe\">\n",
       "  <thead>\n",
       "    <tr style=\"text-align: right;\">\n",
       "      <th></th>\n",
       "      <th>Open</th>\n",
       "      <th>High</th>\n",
       "      <th>Low</th>\n",
       "      <th>Close</th>\n",
       "      <th>Adj Close</th>\n",
       "      <th>Volume</th>\n",
       "      <th>stock_cat</th>\n",
       "    </tr>\n",
       "    <tr>\n",
       "      <th>Date</th>\n",
       "      <th></th>\n",
       "      <th></th>\n",
       "      <th></th>\n",
       "      <th></th>\n",
       "      <th></th>\n",
       "      <th></th>\n",
       "      <th></th>\n",
       "    </tr>\n",
       "  </thead>\n",
       "  <tbody>\n",
       "    <tr>\n",
       "      <th>2023-01-01</th>\n",
       "      <td>29.227272</td>\n",
       "      <td>29.454544</td>\n",
       "      <td>29.181818</td>\n",
       "      <td>29.454544</td>\n",
       "      <td>28.475794</td>\n",
       "      <td>1569087</td>\n",
       "      <td>2222.SR</td>\n",
       "    </tr>\n",
       "    <tr>\n",
       "      <th>2023-01-02</th>\n",
       "      <td>29.545454</td>\n",
       "      <td>29.545454</td>\n",
       "      <td>29.227272</td>\n",
       "      <td>29.227272</td>\n",
       "      <td>28.256073</td>\n",
       "      <td>4693364</td>\n",
       "      <td>2222.SR</td>\n",
       "    </tr>\n",
       "  </tbody>\n",
       "</table>\n",
       "</div>"
      ],
      "text/plain": [
       "                 Open       High        Low      Close  Adj Close   Volume  \\\n",
       "Date                                                                         \n",
       "2023-01-01  29.227272  29.454544  29.181818  29.454544  28.475794  1569087   \n",
       "2023-01-02  29.545454  29.545454  29.227272  29.227272  28.256073  4693364   \n",
       "\n",
       "           stock_cat  \n",
       "Date                  \n",
       "2023-01-01   2222.SR  \n",
       "2023-01-02   2222.SR  "
      ]
     },
     "execution_count": 31,
     "metadata": {},
     "output_type": "execute_result"
    }
   ],
   "source": [
    "stocks_df_combined.head(2)"
   ]
  },
  {
   "cell_type": "code",
   "execution_count": 32,
   "id": "3c4e518c-f8b0-4a74-b350-5f9deb4c6234",
   "metadata": {},
   "outputs": [
    {
     "data": {
      "text/plain": [
       "stock_cat\n",
       "2222.SR    0.213931\n",
       "AAPL       0.372444\n",
       "BRK-B      0.207758\n",
       "GOOG       0.392452\n",
       "JPM        0.282499\n",
       "MSFT       0.424207\n",
       "dtype: float64"
      ]
     },
     "execution_count": 32,
     "metadata": {},
     "output_type": "execute_result"
    }
   ],
   "source": [
    "stocks_df_combined.groupby(\"stock_cat\").apply(lambda x : (max(x[\"Adj Close\"])- min(x[\"Adj Close\"]))/ max(x[\"Adj Close\"]))"
   ]
  },
  {
   "cell_type": "markdown",
   "id": "cb78a173-b4ce-4bc2-bf29-2027546bea5b",
   "metadata": {},
   "source": [
    "# Question 5"
   ]
  },
  {
   "cell_type": "code",
   "execution_count": 49,
   "id": "1d0daa3c-aae5-4f7d-98c2-bcf7b6215f15",
   "metadata": {},
   "outputs": [],
   "source": [
    "stocks_dividends_df = []\n",
    "for stock in stocks_list:\n",
    "    stocks_daily = pd.DataFrame(yf.Ticker(stock).dividends)\n",
    "    stocks_daily[\"stock_cat\"] = stock\n",
    "    stocks_daily = stocks_daily[\"2023\":\"2023\"].copy()\n",
    "    stocks_dividends_df.append(stocks_daily)\n",
    "\n",
    "stocks_dividends_df_combined = pd.concat(stocks_dividends_df)"
   ]
  },
  {
   "cell_type": "code",
   "execution_count": 69,
   "id": "b03558cb-48ed-4e27-9fb9-45f75be5d163",
   "metadata": {},
   "outputs": [
    {
     "data": {
      "text/html": [
       "<div>\n",
       "<style scoped>\n",
       "    .dataframe tbody tr th:only-of-type {\n",
       "        vertical-align: middle;\n",
       "    }\n",
       "\n",
       "    .dataframe tbody tr th {\n",
       "        vertical-align: top;\n",
       "    }\n",
       "\n",
       "    .dataframe thead th {\n",
       "        text-align: right;\n",
       "    }\n",
       "</style>\n",
       "<table border=\"1\" class=\"dataframe\">\n",
       "  <thead>\n",
       "    <tr style=\"text-align: right;\">\n",
       "      <th></th>\n",
       "      <th>Dividends</th>\n",
       "    </tr>\n",
       "    <tr>\n",
       "      <th>stock_cat</th>\n",
       "      <th></th>\n",
       "    </tr>\n",
       "  </thead>\n",
       "  <tbody>\n",
       "    <tr>\n",
       "      <th>2222.SR</th>\n",
       "      <td>0.910764</td>\n",
       "    </tr>\n",
       "    <tr>\n",
       "      <th>AAPL</th>\n",
       "      <td>0.950000</td>\n",
       "    </tr>\n",
       "    <tr>\n",
       "      <th>JPM</th>\n",
       "      <td>4.050000</td>\n",
       "    </tr>\n",
       "    <tr>\n",
       "      <th>MSFT</th>\n",
       "      <td>2.790000</td>\n",
       "    </tr>\n",
       "  </tbody>\n",
       "</table>\n",
       "</div>"
      ],
      "text/plain": [
       "           Dividends\n",
       "stock_cat           \n",
       "2222.SR     0.910764\n",
       "AAPL        0.950000\n",
       "JPM         4.050000\n",
       "MSFT        2.790000"
      ]
     },
     "execution_count": 69,
     "metadata": {},
     "output_type": "execute_result"
    }
   ],
   "source": [
    "stocks_dividends_results = stocks_dividends_df_combined.groupby([\"stock_cat\"]).agg({\"Dividends\":\"sum\"})\n",
    "stocks_dividends_results"
   ]
  },
  {
   "cell_type": "code",
   "execution_count": 68,
   "id": "7df2c619-a4ee-4c7e-84e9-3cc1e87386ad",
   "metadata": {},
   "outputs": [
    {
     "data": {
      "text/html": [
       "<div>\n",
       "<style scoped>\n",
       "    .dataframe tbody tr th:only-of-type {\n",
       "        vertical-align: middle;\n",
       "    }\n",
       "\n",
       "    .dataframe tbody tr th {\n",
       "        vertical-align: top;\n",
       "    }\n",
       "\n",
       "    .dataframe thead th {\n",
       "        text-align: right;\n",
       "    }\n",
       "</style>\n",
       "<table border=\"1\" class=\"dataframe\">\n",
       "  <thead>\n",
       "    <tr style=\"text-align: right;\">\n",
       "      <th></th>\n",
       "      <th>Open</th>\n",
       "      <th>High</th>\n",
       "      <th>Low</th>\n",
       "      <th>Close</th>\n",
       "      <th>Adj Close</th>\n",
       "      <th>Volume</th>\n",
       "    </tr>\n",
       "    <tr>\n",
       "      <th>stock_cat</th>\n",
       "      <th></th>\n",
       "      <th></th>\n",
       "      <th></th>\n",
       "      <th></th>\n",
       "      <th></th>\n",
       "      <th></th>\n",
       "    </tr>\n",
       "  </thead>\n",
       "  <tbody>\n",
       "    <tr>\n",
       "      <th>2222.SR</th>\n",
       "      <td>33.049999</td>\n",
       "      <td>33.099998</td>\n",
       "      <td>32.900002</td>\n",
       "      <td>33.000000</td>\n",
       "      <td>32.828049</td>\n",
       "      <td>10776909</td>\n",
       "    </tr>\n",
       "    <tr>\n",
       "      <th>AAPL</th>\n",
       "      <td>193.899994</td>\n",
       "      <td>194.399994</td>\n",
       "      <td>191.729996</td>\n",
       "      <td>192.529999</td>\n",
       "      <td>192.284637</td>\n",
       "      <td>42628800</td>\n",
       "    </tr>\n",
       "    <tr>\n",
       "      <th>BRK-B</th>\n",
       "      <td>357.559998</td>\n",
       "      <td>357.859985</td>\n",
       "      <td>355.309998</td>\n",
       "      <td>356.660004</td>\n",
       "      <td>356.660004</td>\n",
       "      <td>3269400</td>\n",
       "    </tr>\n",
       "    <tr>\n",
       "      <th>GOOG</th>\n",
       "      <td>140.679993</td>\n",
       "      <td>141.434998</td>\n",
       "      <td>139.899994</td>\n",
       "      <td>140.929993</td>\n",
       "      <td>140.929993</td>\n",
       "      <td>14872700</td>\n",
       "    </tr>\n",
       "    <tr>\n",
       "      <th>JPM</th>\n",
       "      <td>170.000000</td>\n",
       "      <td>170.690002</td>\n",
       "      <td>169.630005</td>\n",
       "      <td>170.100006</td>\n",
       "      <td>168.077118</td>\n",
       "      <td>6431800</td>\n",
       "    </tr>\n",
       "    <tr>\n",
       "      <th>MSFT</th>\n",
       "      <td>376.000000</td>\n",
       "      <td>377.160004</td>\n",
       "      <td>373.480011</td>\n",
       "      <td>376.040009</td>\n",
       "      <td>375.345886</td>\n",
       "      <td>18723000</td>\n",
       "    </tr>\n",
       "  </tbody>\n",
       "</table>\n",
       "</div>"
      ],
      "text/plain": [
       "                 Open        High         Low       Close   Adj Close  \\\n",
       "stock_cat                                                               \n",
       "2222.SR     33.049999   33.099998   32.900002   33.000000   32.828049   \n",
       "AAPL       193.899994  194.399994  191.729996  192.529999  192.284637   \n",
       "BRK-B      357.559998  357.859985  355.309998  356.660004  356.660004   \n",
       "GOOG       140.679993  141.434998  139.899994  140.929993  140.929993   \n",
       "JPM        170.000000  170.690002  169.630005  170.100006  168.077118   \n",
       "MSFT       376.000000  377.160004  373.480011  376.040009  375.345886   \n",
       "\n",
       "             Volume  \n",
       "stock_cat            \n",
       "2222.SR    10776909  \n",
       "AAPL       42628800  \n",
       "BRK-B       3269400  \n",
       "GOOG       14872700  \n",
       "JPM         6431800  \n",
       "MSFT       18723000  "
      ]
     },
     "execution_count": 68,
     "metadata": {},
     "output_type": "execute_result"
    }
   ],
   "source": [
    "stocks_result = stocks_df_combined.groupby([\"stock_cat\"]).last()\n",
    "stocks_result"
   ]
  },
  {
   "cell_type": "code",
   "execution_count": 74,
   "id": "b137d418-96d2-47cb-93e2-0d8d5c69b4b4",
   "metadata": {},
   "outputs": [
    {
     "data": {
      "text/html": [
       "<div>\n",
       "<style scoped>\n",
       "    .dataframe tbody tr th:only-of-type {\n",
       "        vertical-align: middle;\n",
       "    }\n",
       "\n",
       "    .dataframe tbody tr th {\n",
       "        vertical-align: top;\n",
       "    }\n",
       "\n",
       "    .dataframe thead th {\n",
       "        text-align: right;\n",
       "    }\n",
       "</style>\n",
       "<table border=\"1\" class=\"dataframe\">\n",
       "  <thead>\n",
       "    <tr style=\"text-align: right;\">\n",
       "      <th></th>\n",
       "      <th>Dividends</th>\n",
       "      <th>Adj Close</th>\n",
       "      <th>Dividend Yield</th>\n",
       "    </tr>\n",
       "    <tr>\n",
       "      <th>stock_cat</th>\n",
       "      <th></th>\n",
       "      <th></th>\n",
       "      <th></th>\n",
       "    </tr>\n",
       "  </thead>\n",
       "  <tbody>\n",
       "    <tr>\n",
       "      <th>2222.SR</th>\n",
       "      <td>0.910764</td>\n",
       "      <td>32.828049</td>\n",
       "      <td>2.8</td>\n",
       "    </tr>\n",
       "    <tr>\n",
       "      <th>AAPL</th>\n",
       "      <td>0.950000</td>\n",
       "      <td>192.284637</td>\n",
       "      <td>0.5</td>\n",
       "    </tr>\n",
       "    <tr>\n",
       "      <th>JPM</th>\n",
       "      <td>4.050000</td>\n",
       "      <td>168.077118</td>\n",
       "      <td>2.4</td>\n",
       "    </tr>\n",
       "    <tr>\n",
       "      <th>MSFT</th>\n",
       "      <td>2.790000</td>\n",
       "      <td>375.345886</td>\n",
       "      <td>0.7</td>\n",
       "    </tr>\n",
       "  </tbody>\n",
       "</table>\n",
       "</div>"
      ],
      "text/plain": [
       "           Dividends   Adj Close  Dividend Yield\n",
       "stock_cat                                       \n",
       "2222.SR     0.910764   32.828049             2.8\n",
       "AAPL        0.950000  192.284637             0.5\n",
       "JPM         4.050000  168.077118             2.4\n",
       "MSFT        2.790000  375.345886             0.7"
      ]
     },
     "execution_count": 74,
     "metadata": {},
     "output_type": "execute_result"
    }
   ],
   "source": [
    "df = stocks_dividends_results.join(stocks_result[[\"Adj Close\"]])\n",
    "df[\"Dividend Yield\"] = round((df.Dividends / df[\"Adj Close\"]) *100 ,1)\n",
    "df"
   ]
  },
  {
   "cell_type": "code",
   "execution_count": null,
   "id": "fda093ff-a132-41c7-881e-5dc5259ada2e",
   "metadata": {},
   "outputs": [],
   "source": []
  }
 ],
 "metadata": {
  "kernelspec": {
   "display_name": "Python 3 (ipykernel)",
   "language": "python",
   "name": "python3"
  },
  "language_info": {
   "codemirror_mode": {
    "name": "ipython",
    "version": 3
   },
   "file_extension": ".py",
   "mimetype": "text/x-python",
   "name": "python",
   "nbconvert_exporter": "python",
   "pygments_lexer": "ipython3",
   "version": "3.11.7"
  }
 },
 "nbformat": 4,
 "nbformat_minor": 5
}
